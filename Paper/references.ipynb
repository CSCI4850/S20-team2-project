{
 "cells": [
  {
   "cell_type": "raw",
   "metadata": {},
   "source": [
    "@article{Toomre,\n",
    "       author = {{Toomre}, Alar and {Toomre}, Juri},\n",
    "        title = {Galactic Bridges and Tails},\n",
    "      journal = {The Astrophysical Journal},\n",
    "         year = 1972,\n",
    "        month = dec,\n",
    "       volume = {178},\n",
    "        pages = {623-666},\n",
    "          doi = {10.1086/151823},\n",
    "       adsurl = {https://ui.adsabs.harvard.edu/abs/1972ApJ...178..623T},\n",
    "      adsnote = {Provided by the SAO/NASA Astrophysics Data System}\n",
    "}"
   ]
  },
  {
   "cell_type": "raw",
   "metadata": {},
   "source": [
    "@article{WallinJSPAM,\n",
    "author = {Wallin, John and Holincheck, Anthony and Harvey, Allen},\n",
    "year = {2015},\n",
    "month = {11},\n",
    "pages = {},\n",
    "title = {JSPAM: A restricted three-body code for simulating interacting galaxies},\n",
    "volume = {16},\n",
    "journal = {Astronomy and Computing},\n",
    "doi = {10.1016/j.ascom.2016.03.005}\n",
    "}"
   ]
  },
  {
   "cell_type": "raw",
   "metadata": {},
   "source": [
    "@article{WallinGalaxyZoo,\n",
    "title = \"Galaxy zoo: Mergers - Dynamical models of interacting galaxies\",\n",
    "author = \"Holincheck, {Anthony J.} and Wallin, {John F.} and Kirk Borne and Lucy Fortson and Chris Lintott and Smith, {Arfon M.} and Steven Bamford and Keel, {William C.} and Michael Parrish\",\n",
    "year = \"2016\",\n",
    "month = jun,\n",
    "day = \"11\",\n",
    "doi = \"10.1093/mnras/stw649\",\n",
    "language = \"English (US)\",\n",
    "volume = \"459\",\n",
    "pages = \"720--745\",\n",
    "journal = \"Monthly Notices of the Royal Astronomical Society\",\n",
    "issn = \"0035-8711\",\n",
    "publisher = \"Oxford University Press\",\n",
    "number = \"1\",\n",
    "}"
   ]
  },
  {
   "cell_type": "raw",
   "metadata": {},
   "source": [
    "@article{WallinGalaxyZoo,\n",
    "title = \"Galaxy zoo: Mergers - Dynamical models of interacting galaxies\",\n",
    "author = \"Holincheck, {Anthony J.} and Wallin, {John F.} and Kirk Borne and Lucy Fortson and Chris Lintott and Smith, {Arfon M.} and Steven Bamford and Keel, {William C.} and Michael Parrish\",\n",
    "year = \"2016\",\n",
    "month = jun,\n",
    "day = \"11\",\n",
    "doi = \"10.1093/mnras/stw649\",\n",
    "language = \"English (US)\",\n",
    "volume = \"459\",\n",
    "pages = \"720--745\",\n",
    "journal = \"Monthly Notices of the Royal Astronomical Society\",\n",
    "issn = \"0035-8711\",\n",
    "publisher = \"Oxford University Press\",\n",
    "number = \"1\",\n",
    "}"
   ]
  },
  {
   "cell_type": "raw",
   "metadata": {},
   "source": [
    "@online{OLA6,\n",
    "  author = {J. Phillips},\n",
    "  title = {Open Lab Assignment 6},\n",
    "  url = {https://www.cs.mtsu.edu/~jphillips/courses/CSCI4850-5850/},\n",
    "  urldate = {2020-04-27}\n",
    "}"
   ]
  }
 ],
 "metadata": {
  "kernelspec": {
   "display_name": "Python 3",
   "language": "python",
   "name": "python3"
  },
  "language_info": {
   "codemirror_mode": {
    "name": "ipython",
    "version": 3
   },
   "file_extension": ".py",
   "mimetype": "text/x-python",
   "name": "python",
   "nbconvert_exporter": "python",
   "pygments_lexer": "ipython3",
   "version": "3.7.6"
  }
 },
 "nbformat": 4,
 "nbformat_minor": 4
}
