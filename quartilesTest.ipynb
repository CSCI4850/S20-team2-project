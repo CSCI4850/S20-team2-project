{
 "cells": [
  {
   "cell_type": "markdown",
   "metadata": {},
   "source": [
    "# Adaption of OLA 6 for project"
   ]
  },
  {
   "cell_type": "markdown",
   "metadata": {},
   "source": [
    "Aric Moilanen "
   ]
  },
  {
   "cell_type": "markdown",
   "metadata": {},
   "source": [
    "## Problem 1"
   ]
  },
  {
   "cell_type": "code",
   "execution_count": 215,
   "metadata": {},
   "outputs": [],
   "source": [
    "import keras\n",
    "from keras import backend as K\n",
    "import numpy as np\n",
    "import matplotlib.pyplot as plt\n",
    "from mpl_toolkits.mplot3d import axes3d\n",
    "%matplotlib inline\n",
    "from IPython.display import display"
   ]
  },
  {
   "cell_type": "code",
   "execution_count": 216,
   "metadata": {},
   "outputs": [],
   "source": [
    "from keras.preprocessing import image\n",
    "from keras.applications.xception import preprocess_input, decode_predictions"
   ]
  },
  {
   "cell_type": "code",
   "execution_count": 258,
   "metadata": {},
   "outputs": [
    {
     "data": {
      "text/plain": [
       "(600, 250, 250, 1)"
      ]
     },
     "execution_count": 258,
     "metadata": {},
     "output_type": "execute_result"
    }
   ],
   "source": [
    "def grab_image(img_path_base, index, numImages):\n",
    "    #Desired image dimension (image will be square ie # by # pixels)\n",
    "    imageDim = 250\n",
    "    \n",
    "    if (index<10):\n",
    "        img_path = img_path_base+\"000\"+str(index)+\"_model.png\"\n",
    "    elif (index<100 and index >=10):\n",
    "        img_path = img_path_base+\"00\"+str(index)+\"_model.png\"\n",
    "    elif (index<1000 and index>=100):\n",
    "        img_path = img_path_base+\"0\"+str(index)+\"_model.png\"\n",
    "    elif (index<10000 and index>=1000):\n",
    "        img_path = img_path_base+str(index)+\"_model.png\"\n",
    "        \n",
    "    img = image.load_img(img_path, target_size=(imageDim, imageDim), color_mode = \"grayscale\")\n",
    "    x = image.img_to_array(img)\n",
    "    x = np.expand_dims(x, axis=0)\n",
    "    x = preprocess_input(x)\n",
    "    return x\n",
    "\n",
    "\n",
    "numImages = 600\n",
    "X = np.concatenate([grab_image('/home/atm4w/Project/Data/miscImgs/',i, numImages) for i in range(numImages)]) \n",
    "X /= 255.0\n",
    "\n",
    "X.shape"
   ]
  },
  {
   "cell_type": "code",
   "execution_count": 259,
   "metadata": {},
   "outputs": [
    {
     "data": {
      "image/png": "[encoded data removed]",
      "text/plain": [
       "<Figure size 432x288 with 1 Axes>"
      ]
     },
     "metadata": {
      "needs_background": "light"
     },
     "output_type": "display_data"
    }
   ],
   "source": [
    "plt.imshow(image.array_to_img(X[45,:,:,:]), cmap='Greys_r')\n",
    "plt.show()"
   ]
  },
  {
   "cell_type": "code",
   "execution_count": 260,
   "metadata": {},
   "outputs": [
    {
     "data": {
      "text/plain": [
       "(1294,)"
      ]
     },
     "metadata": {},
     "output_type": "display_data"
    },
    {
     "data": {
      "text/plain": [
       "array([0.945946, 0.941176, 0.918919, 0.916667, 0.916667, 0.914286,\n",
       "       0.914286, 0.911765, 0.891892, 0.885714])"
      ]
     },
     "metadata": {},
     "output_type": "display_data"
    }
   ],
   "source": [
    "Y = np.loadtxt('/home/atm4w/Project/Data/miscImgs/scores/humanScores.txt')\n",
    "display(Y.shape)\n",
    "display(Y[0:10])"
   ]
  },
  {
   "cell_type": "code",
   "execution_count": 261,
   "metadata": {},
   "outputs": [
    {
     "data": {
      "text/plain": [
       "(600,)"
      ]
     },
     "metadata": {},
     "output_type": "display_data"
    },
    {
     "data": {
      "text/plain": [
       "(600,)"
      ]
     },
     "metadata": {},
     "output_type": "display_data"
    }
   ],
   "source": [
    "quartileRankings = np.zeros(Y.size)\n",
    "scores=open('/home/atm4w/Project/Data/miscImgs/scores/humanScores.txt',\"r\")\n",
    "lines=scores.readlines()\n",
    "\n",
    "i=0\n",
    "for x in lines:\n",
    "    if ( float(x) <=1.00 and float(x) > 0.75):\n",
    "        quartileRankings[i] = 0\n",
    "    elif ( float(x) <=0.75 and float(x) > 0.5):\n",
    "        quartileRankings[i] = 1\n",
    "    elif ( float(x) <=0.5 and float(x) > 0.25):\n",
    "        quartileRankings[i] = 2\n",
    "    elif ( float(x) <=0.25 and float(x) >= 0.0):\n",
    "        quartileRankings[i] = 3\n",
    "        \n",
    "    i+=1\n",
    "\n",
    "scores.close()\n",
    "\n",
    "Y=Y[0:numImages]\n",
    "quartileRankings = quartileRankings[0:numImages]\n",
    "\n",
    "display(Y.shape)\n",
    "display(quartileRankings.shape)"
   ]
  },
  {
   "cell_type": "code",
   "execution_count": 268,
   "metadata": {},
   "outputs": [
    {
     "data": {
      "text/plain": [
       "(600, 250, 250, 1)"
      ]
     },
     "metadata": {},
     "output_type": "display_data"
    },
    {
     "data": {
      "text/plain": [
       "(600,)"
      ]
     },
     "metadata": {},
     "output_type": "display_data"
    },
    {
     "data": {
      "text/plain": [
       "(600,)"
      ]
     },
     "metadata": {},
     "output_type": "display_data"
    }
   ],
   "source": [
    "p = np.random.permutation(len(X))\n",
    "Xshuffled = X[p]\n",
    "Yshuffled = Y[p]\n",
    "quartileShuffled = quartileRankings[p]\n",
    "\n",
    "display(Xshuffled.shape)\n",
    "display(Yshuffled.shape)\n",
    "display(quartileShuffled.shape)"
   ]
  },
  {
   "cell_type": "code",
   "execution_count": 269,
   "metadata": {},
   "outputs": [
    {
     "data": {
      "image/png": "[encoded data removed]",
      "text/plain": [
       "<Figure size 432x288 with 1 Axes>"
      ]
     },
     "metadata": {
      "needs_background": "light"
     },
     "output_type": "display_data"
    }
   ],
   "source": [
    "plt.imshow(image.array_to_img(Xshuffled[0,:,:,:]), cmap='Greys_r')\n",
    "plt.show()"
   ]
  },
  {
   "cell_type": "code",
   "execution_count": 270,
   "metadata": {},
   "outputs": [
    {
     "data": {
      "text/plain": [
       "0.371429"
      ]
     },
     "metadata": {},
     "output_type": "display_data"
    },
    {
     "data": {
      "text/plain": [
       "2.0"
      ]
     },
     "metadata": {},
     "output_type": "display_data"
    }
   ],
   "source": [
    "display(Yshuffled[0])\n",
    "display(quartileShuffled[0])"
   ]
  },
  {
   "cell_type": "code",
   "execution_count": 271,
   "metadata": {},
   "outputs": [
    {
     "data": {
      "text/plain": [
       "(600, 4)"
      ]
     },
     "execution_count": 271,
     "metadata": {},
     "output_type": "execute_result"
    }
   ],
   "source": [
    "quartileShuffled = keras.utils.to_categorical(quartileShuffled, 4)\n",
    "quartileShuffled.shape"
   ]
  },
  {
   "cell_type": "code",
   "execution_count": 272,
   "metadata": {},
   "outputs": [
    {
     "data": {
      "text/plain": [
       "array([0., 0., 1., 0.], dtype=float32)"
      ]
     },
     "metadata": {},
     "output_type": "display_data"
    },
    {
     "data": {
      "text/plain": [
       "0.371429"
      ]
     },
     "metadata": {},
     "output_type": "display_data"
    }
   ],
   "source": [
    "display(quartileShuffled[0, : ])\n",
    "display(Yshuffled[0])"
   ]
  },
  {
   "cell_type": "code",
   "execution_count": 273,
   "metadata": {},
   "outputs": [
    {
     "data": {
      "text/plain": [
       "(510, 250, 250, 1)"
      ]
     },
     "metadata": {},
     "output_type": "display_data"
    },
    {
     "data": {
      "text/plain": [
       "(510, 4)"
      ]
     },
     "metadata": {},
     "output_type": "display_data"
    },
    {
     "data": {
      "text/plain": [
       "(90, 250, 250, 1)"
      ]
     },
     "metadata": {},
     "output_type": "display_data"
    },
    {
     "data": {
      "text/plain": [
       "(90, 4)"
      ]
     },
     "metadata": {},
     "output_type": "display_data"
    }
   ],
   "source": [
    "x_train = Xshuffled[0:(round(numImages*.85)),:,:]\n",
    "quartile_train = quartileShuffled[0:(round(numImages*.85)), :]\n",
    "x_test = Xshuffled[(round(numImages*.85)): , : , :]\n",
    "quartile_test = quartileShuffled[(round(numImages*.85)):, :]\n",
    "\n",
    "display(x_train.shape)\n",
    "display(quartile_train.shape)\n",
    "display(x_test.shape)\n",
    "display(quartile_test.shape)"
   ]
  },
  {
   "cell_type": "code",
   "execution_count": 274,
   "metadata": {},
   "outputs": [
    {
     "name": "stdout",
     "output_type": "stream",
     "text": [
      "Model: \"sequential_17\"\n",
      "_________________________________________________________________\n",
      "Layer (type)                 Output Shape              Param #   \n",
      "=================================================================\n",
      "conv2d_22 (Conv2D)           (None, 247, 247, 16)      272       \n",
      "_________________________________________________________________\n",
      "flatten_16 (Flatten)         (None, 976144)            0         \n",
      "_________________________________________________________________\n",
      "dense_30 (Dense)             (None, 4)                 3904580   \n",
      "=================================================================\n",
      "Total params: 3,904,852\n",
      "Trainable params: 3,904,852\n",
      "Non-trainable params: 0\n",
      "_________________________________________________________________\n"
     ]
    }
   ],
   "source": [
    "model = keras.Sequential()\n",
    "# Note the input size (there is only one channel - intensity)\n",
    "# these images... if you are using color images, your would\n",
    "# need to set the last dimension of the input_shape to -3-\n",
    "# above and this would carry over into this cell...\n",
    "model.add(keras.layers.Conv2D(16, kernel_size=(4, 4),\n",
    "                                activation='relu',\n",
    "                                input_shape=[x_train.shape[1],\n",
    "                                x_train.shape[2],\n",
    "                                x_train.shape[3]]))\n",
    "\n",
    "#model.add(keras.layers.Conv2D(128, (8, 8), activation='relu'))\n",
    "#model.add(keras.layers.MaxPooling2D(pool_size=(8, 8)))\n",
    "#model.add(keras.layers.Dropout(0.1))\n",
    "model.add(keras.layers.Flatten())\n",
    "#model.add(keras.layers.Dense(64, activation='relu'))\n",
    "#model.add(keras.layers.Dropout(0.1))\n",
    "model.add(keras.layers.Dense(quartile_train.shape[1], activation='softmax'))\n",
    "\n",
    "model.compile(loss=keras.losses.categorical_crossentropy,\n",
    "                optimizer=keras.optimizers.nadam(learning_rate=0.0001),\n",
    "                metrics=['accuracy'])\n",
    "model.summary()"
   ]
  },
  {
   "cell_type": "code",
   "execution_count": 275,
   "metadata": {},
   "outputs": [
    {
     "name": "stdout",
     "output_type": "stream",
     "text": [
      "Train on 408 samples, validate on 102 samples\n",
      "Epoch 1/10\n",
      "408/408 [==============================] - 6s 16ms/step - loss: 1.0996 - accuracy: 0.6152 - val_loss: 1.2047 - val_accuracy: 0.5196\n",
      "Epoch 2/10\n",
      "408/408 [==============================] - 6s 15ms/step - loss: 1.0492 - accuracy: 0.6250 - val_loss: 1.2128 - val_accuracy: 0.5196\n",
      "Epoch 3/10\n",
      "408/408 [==============================] - 6s 14ms/step - loss: 1.0359 - accuracy: 0.6250 - val_loss: 1.2055 - val_accuracy: 0.5196\n",
      "Epoch 4/10\n",
      "408/408 [==============================] - 6s 15ms/step - loss: 1.0313 - accuracy: 0.6250 - val_loss: 1.1721 - val_accuracy: 0.5196\n",
      "Epoch 5/10\n",
      "408/408 [==============================] - 6s 15ms/step - loss: 1.0155 - accuracy: 0.6250 - val_loss: 1.1608 - val_accuracy: 0.5196\n",
      "Epoch 6/10\n",
      "408/408 [==============================] - 6s 15ms/step - loss: 0.9972 - accuracy: 0.6250 - val_loss: 1.1570 - val_accuracy: 0.5196\n",
      "Epoch 7/10\n",
      "408/408 [==============================] - 6s 15ms/step - loss: 0.9740 - accuracy: 0.6250 - val_loss: 1.1307 - val_accuracy: 0.5196\n",
      "Epoch 8/10\n",
      "408/408 [==============================] - 6s 14ms/step - loss: 0.9593 - accuracy: 0.6225 - val_loss: 1.1099 - val_accuracy: 0.5196\n",
      "Epoch 9/10\n",
      "408/408 [==============================] - 6s 15ms/step - loss: 0.9430 - accuracy: 0.6225 - val_loss: 1.1429 - val_accuracy: 0.5196\n",
      "Epoch 10/10\n",
      "408/408 [==============================] - 6s 14ms/step - loss: 0.9165 - accuracy: 0.6250 - val_loss: 1.0772 - val_accuracy: 0.5196\n"
     ]
    }
   ],
   "source": [
    "batch_size = 6\n",
    "epochs = 10\n",
    "history = model.fit(x_train, quartile_train,\n",
    "    batch_size=batch_size,\n",
    "    epochs=epochs,\n",
    "    verbose=1,\n",
    "    validation_split = 0.2)"
   ]
  },
  {
   "cell_type": "code",
   "execution_count": 276,
   "metadata": {},
   "outputs": [
    {
     "data": {
      "image/png": "[encoded data removed]",
      "text/plain": [
       "<Figure size 432x288 with 2 Axes>"
      ]
     },
     "metadata": {
      "needs_background": "light"
     },
     "output_type": "display_data"
    }
   ],
   "source": [
    "plt.figure()\n",
    "# summarize history for accuracy\n",
    "plt.subplot(211)\n",
    "plt.plot(history.history['accuracy'])\n",
    "plt.plot(history.history['val_accuracy'])\n",
    "plt.title('model accuracy')\n",
    "plt.ylabel('accuracy')\n",
    "plt.xlabel('epoch')\n",
    "plt.legend(['training', 'validation'], loc='upper left')\n",
    "# summarize history for loss\n",
    "plt.subplot(212)\n",
    "plt.plot(history.history['loss'])\n",
    "plt.plot(history.history['val_loss'])\n",
    "plt.title('model loss')\n",
    "plt.ylabel('loss')\n",
    "plt.xlabel('epoch')\n",
    "plt.legend(['training', 'validation'], loc='upper left')\n",
    "plt.tight_layout()\n",
    "plt.show()"
   ]
  },
  {
   "cell_type": "code",
   "execution_count": null,
   "metadata": {},
   "outputs": [],
   "source": []
  }
 ],
 "metadata": {
  "kernelspec": {
   "display_name": "Python 3",
   "language": "python",
   "name": "python3"
  },
  "language_info": {
   "codemirror_mode": {
    "name": "ipython",
    "version": 3
   },
   "file_extension": ".py",
   "mimetype": "text/x-python",
   "name": "python",
   "nbconvert_exporter": "python",
   "pygments_lexer": "ipython3",
   "version": "3.7.6"
  }
 },
 "nbformat": 4,
 "nbformat_minor": 4
}
