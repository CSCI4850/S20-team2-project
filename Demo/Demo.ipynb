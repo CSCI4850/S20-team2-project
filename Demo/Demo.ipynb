{
 "cells": [
  {
   "cell_type": "markdown",
   "metadata": {},
   "source": [
    "# **Using Neural Nets to Score Colliding Galaxy Models**"
   ]
  },
  {
   "cell_type": "markdown",
   "metadata": {},
   "source": [
    "# **1. Imports and general functions**\n",
    "\n",
    "Here we import the necessary modules for both of our networks, we will be using a single layer and convolution network."
   ]
  },
  {
   "cell_type": "code",
   "execution_count": 1,
   "metadata": {},
   "outputs": [
    {
     "name": "stderr",
     "output_type": "stream",
     "text": [
      "Using TensorFlow backend.\n"
     ]
    }
   ],
   "source": [
    "import keras\n",
    "from keras import backend as K\n",
    "from keras.models import load_model\n",
    "import numpy as np\n",
    "import matplotlib.pyplot as plt\n",
    "from mpl_toolkits.mplot3d import axes3d\n",
    "%matplotlib inline\n",
    "from IPython.display import display\n",
    "from keras.utils.vis_utils import plot_model\n",
    "from keras.preprocessing import image\n",
    "from keras.applications.xception import preprocess_input, decode_predictions"
   ]
  },
  {
   "cell_type": "markdown",
   "metadata": {},
   "source": [
    "##### **Function to grab and flatten images**"
   ]
  },
  {
   "cell_type": "code",
   "execution_count": 2,
   "metadata": {},
   "outputs": [],
   "source": [
    "# We need to be able to take an image and turn it into information the\n",
    "# net can use to learn from and compare to.  So let's turn our images into\n",
    "# arrays that it will be ablt to interpret.\n",
    "\n",
    "def grab_image_flatten(img_path_base, index, numImages):\n",
    "    #Desired image dimension (image will be square ie # by # pixels)\n",
    "    imageDim = 100\n",
    "    \n",
    "    if (index<10):\n",
    "        img_path = img_path_base+\"000\"+str(index)+\"_model.png\"\n",
    "    elif (index<100 and index >=10):\n",
    "        img_path = img_path_base+\"00\"+str(index)+\"_model.png\"\n",
    "    elif (index<1000 and index>=100):\n",
    "        img_path = img_path_base+\"0\"+str(index)+\"_model.png\"\n",
    "    elif (index<10000 and index>=1000):\n",
    "        img_path = img_path_base+str(index)+\"_model.png\"\n",
    "        \n",
    "    img = image.load_img(img_path, target_size=(imageDim, imageDim), color_mode = \"grayscale\")\n",
    "    x = image.img_to_array(img)\n",
    "    x = x.flatten()\n",
    "    x = np.expand_dims(x, axis=0)\n",
    "    x = preprocess_input(x)\n",
    "    return x\n",
    "\n",
    "def grab_image_full(img_path_base, index, numImages):\n",
    "    #Desired image dimension (image will be square ie # by # pixels)\n",
    "    imageDim = 100\n",
    "    \n",
    "    if (index<10):\n",
    "        img_path = img_path_base+\"000\"+str(index)+\"_model.png\"\n",
    "    elif (index<100 and index >=10):\n",
    "        img_path = img_path_base+\"00\"+str(index)+\"_model.png\"\n",
    "    elif (index<1000 and index>=100):\n",
    "        img_path = img_path_base+\"0\"+str(index)+\"_model.png\"\n",
    "    elif (index<10000 and index>=1000):\n",
    "        img_path = img_path_base+str(index)+\"_model.png\"\n",
    "        \n",
    "    img = image.load_img(img_path, target_size=(imageDim, imageDim), color_mode = \"grayscale\")\n",
    "    x = image.img_to_array(img)\n",
    "    x = np.expand_dims(x, axis=0)\n",
    "    x = preprocess_input(x)\n",
    "    return x"
   ]
  },
  {
   "cell_type": "markdown",
   "metadata": {},
   "source": [
    "# **2a. Single Layer Network**\n",
    "\n",
    "This was our starting network.  A simple single layer network to see how well a neural network could learn and compare with our image data.  Our main goal was a convolution network though, so this one just gave us a baseline to work with, and see that the neural network could learn from our data set."
   ]
  },
  {
   "cell_type": "markdown",
   "metadata": {},
   "source": [
    "##### **Grab images for the Single Layer Network**"
   ]
  },
  {
   "cell_type": "code",
   "execution_count": 3,
   "metadata": {},
   "outputs": [
    {
     "data": {
      "text/plain": [
       "(600, 10000)"
      ]
     },
     "metadata": {},
     "output_type": "display_data"
    },
    {
     "data": {
      "text/plain": [
       "(600, 100, 100, 1)"
      ]
     },
     "metadata": {},
     "output_type": "display_data"
    }
   ],
   "source": [
    "#Num of images to read in\n",
    "numImages = 600\n",
    "X = np.concatenate([grab_image_flatten('./miscImgs/',i, numImages) for i in range(numImages)]) \n",
    "X /= 255.0\n",
    "Xoriginal = np.concatenate([grab_image_full('./miscImgs/',i, numImages) for i in range(numImages)]) \n",
    "Xoriginal /= 255.0\n",
    "\n",
    "display(X.shape)\n",
    "display(Xoriginal.shape)"
   ]
  },
  {
   "cell_type": "markdown",
   "metadata": {},
   "source": [
    "##### **Load in model scores**"
   ]
  },
  {
   "cell_type": "code",
   "execution_count": 4,
   "metadata": {},
   "outputs": [
    {
     "data": {
      "text/plain": [
       "array([0.945946, 0.941176, 0.918919, 0.916667, 0.916667, 0.914286,\n",
       "       0.914286, 0.911765, 0.891892, 0.885714])"
      ]
     },
     "metadata": {},
     "output_type": "display_data"
    },
    {
     "data": {
      "text/plain": [
       "(600,)"
      ]
     },
     "metadata": {},
     "output_type": "display_data"
    }
   ],
   "source": [
    "# We need to attach our human scores to the image data\n",
    "\n",
    "Y = np.loadtxt('miscImgs/scores/humanScores.txt')\n",
    "Y=Y[0:600]\n",
    "display(Y[0:10])\n",
    "display(Y.shape)"
   ]
  },
  {
   "cell_type": "markdown",
   "metadata": {},
   "source": [
    "##### **Shuffle model images**"
   ]
  },
  {
   "cell_type": "code",
   "execution_count": 5,
   "metadata": {},
   "outputs": [
    {
     "data": {
      "text/plain": [
       "(600, 100, 100, 1)"
      ]
     },
     "metadata": {},
     "output_type": "display_data"
    },
    {
     "data": {
      "text/plain": [
       "(600, 10000)"
      ]
     },
     "metadata": {},
     "output_type": "display_data"
    },
    {
     "data": {
      "text/plain": [
       "(600,)"
      ]
     },
     "metadata": {},
     "output_type": "display_data"
    }
   ],
   "source": [
    "# Let's shuffle the image data while keeping the human scores properly attached\n",
    "\n",
    "p = np.random.permutation(len(X))\n",
    "X_original_shuffled = Xoriginal[p]\n",
    "Xshuffled = X[p]\n",
    "Yshuffled = Y[p]\n",
    "\n",
    "display(X_original_shuffled.shape)\n",
    "display(Xshuffled.shape)\n",
    "display(Yshuffled.shape)"
   ]
  },
  {
   "cell_type": "markdown",
   "metadata": {},
   "source": [
    "##### **Split into training and test data (85% for training and validation)**"
   ]
  },
  {
   "cell_type": "code",
   "execution_count": 6,
   "metadata": {},
   "outputs": [
    {
     "data": {
      "text/plain": [
       "(510, 10000)"
      ]
     },
     "metadata": {},
     "output_type": "display_data"
    },
    {
     "data": {
      "text/plain": [
       "(510,)"
      ]
     },
     "metadata": {},
     "output_type": "display_data"
    },
    {
     "data": {
      "text/plain": [
       "(510, 100, 100, 1)"
      ]
     },
     "metadata": {},
     "output_type": "display_data"
    },
    {
     "data": {
      "text/plain": [
       "(90, 10000)"
      ]
     },
     "metadata": {},
     "output_type": "display_data"
    },
    {
     "data": {
      "text/plain": [
       "(90,)"
      ]
     },
     "metadata": {},
     "output_type": "display_data"
    },
    {
     "data": {
      "text/plain": [
       "(90, 100, 100, 1)"
      ]
     },
     "metadata": {},
     "output_type": "display_data"
    }
   ],
   "source": [
    "x_train = Xshuffled[0:(round(numImages*.85)),:]\n",
    "y_train = Yshuffled[0:(round(numImages*.85))]\n",
    "x_original_train = X_original_shuffled[0:(round(numImages*.85)),:,:]\n",
    "x_test = Xshuffled[(round(numImages*.85)): , :]\n",
    "y_test = Yshuffled[(round(numImages*.85)):]\n",
    "x_original_test = X_original_shuffled[(round(numImages*.85)): , : , :]\n",
    "\n",
    "display(x_train.shape)\n",
    "display(y_train.shape)\n",
    "display(x_original_train.shape)\n",
    "display(x_test.shape)\n",
    "display(y_test.shape)\n",
    "display(x_original_test.shape)"
   ]
  },
  {
   "cell_type": "markdown",
   "metadata": {},
   "source": [
    "##### **Load Pre-Trained Single Layer Network**"
   ]
  },
  {
   "cell_type": "code",
   "execution_count": 7,
   "metadata": {},
   "outputs": [
    {
     "name": "stdout",
     "output_type": "stream",
     "text": [
      "Model: \"sequential_31\"\n",
      "_________________________________________________________________\n",
      "Layer (type)                 Output Shape              Param #   \n",
      "=================================================================\n",
      "dense_31 (Dense)             (None, 1)                 10001     \n",
      "=================================================================\n",
      "Total params: 10,001\n",
      "Trainable params: 10,001\n",
      "Non-trainable params: 0\n",
      "_________________________________________________________________\n"
     ]
    }
   ],
   "source": [
    "singleModel = load_model('SingleModelPaper')\n",
    "\n",
    "singleModel.summary()"
   ]
  },
  {
   "cell_type": "markdown",
   "metadata": {},
   "source": [
    "# **2b. What the Single Layer Model accomplishes**\n",
    "\n",
    "The single layer network is accurate enough to say that it works, but there is still too much variation in our results to consider a single layer network as a replacement for human scoring."
   ]
  },
  {
   "cell_type": "code",
   "execution_count": 9,
   "metadata": {},
   "outputs": [
    {
     "name": "stdout",
     "output_type": "stream",
     "text": [
      "Mean difference\n",
      "---------------\n"
     ]
    },
    {
     "data": {
      "text/plain": [
       "0.09224296327099801"
      ]
     },
     "metadata": {},
     "output_type": "display_data"
    }
   ],
   "source": [
    "preds = singleModel.predict(x_test)\n",
    "diff = preds.flatten() - (y_test)\n",
    "print(\"Mean difference\")\n",
    "print(\"---------------\")\n",
    "display(np.mean(np.abs(diff)))"
   ]
  },
  {
   "cell_type": "code",
   "execution_count": 10,
   "metadata": {},
   "outputs": [
    {
     "data": {
      "image/png": "[encoded data removed]",
      "text/plain": [
       "<Figure size 432x288 with 1 Axes>"
      ]
     },
     "metadata": {
      "needs_background": "light"
     },
     "output_type": "display_data"
    }
   ],
   "source": [
    "plt.figure()\n",
    "plt.scatter(y_test, preds)\n",
    "plt.title(\"Predicted vs Actual value\")\n",
    "plt.ylabel(\"predicted value\")\n",
    "plt.xlabel(\"actual value\")\n",
    "plt.axis('square')\n",
    "plt.savefig(\"SinglePredictedVAct.png\")\n",
    "plt.show()"
   ]
  },
  {
   "cell_type": "markdown",
   "metadata": {},
   "source": [
    "We can see the linear correlation between the predicted scores of our network, and the actual scores given to the models.<br>\n",
    "There is still a lot of variation, illustrated by how wide the dots spread from the y=x trend."
   ]
  },
  {
   "cell_type": "code",
   "execution_count": 11,
   "metadata": {},
   "outputs": [
    {
     "data": {
      "image/png": "[encoded data removed]",
      "text/plain": [
       "<Figure size 432x288 with 1 Axes>"
      ]
     },
     "metadata": {
      "needs_background": "light"
     },
     "output_type": "display_data"
    }
   ],
   "source": [
    "plt.figure()\n",
    "plt.scatter(y_test, diff)\n",
    "plt.title(\"Difference vs Actual value\")\n",
    "plt.ylabel(\"Difference\")\n",
    "plt.xlabel(\"actual value\")\n",
    "plt.axis('square')\n",
    "plt.savefig(\"SingleDiffVAct.png\")\n",
    "plt.show()"
   ]
  },
  {
   "cell_type": "markdown",
   "metadata": {},
   "source": [
    "Here we are looking for y=0, instead of our y=x above.<br>\n",
    "This illustrates that the network rated many of the images as higher than humans did, as well as rating some lower than humans did.<br>\n",
    "This could mean many things, there are variations in human ratings and the training set might have also been too small.<br>"
   ]
  },
  {
   "cell_type": "markdown",
   "metadata": {},
   "source": [
    "##### **Find the 5 best and worst predictions**"
   ]
  },
  {
   "cell_type": "markdown",
   "metadata": {},
   "source": [
    "To make things more clear, let's view some of the actual images used.<br>\n",
    "The network is able to successfully rate collisions with unique features or very littledistortion.<br>\n",
    "The largest variations come from the ones with many spirals and twists in the bridges and tails. The more variation, the harder to classify.<br>\n",
    "We believe this is mostly due to overfitting, with our small data set."
   ]
  },
  {
   "cell_type": "code",
   "execution_count": 12,
   "metadata": {},
   "outputs": [],
   "source": [
    "# We can view our best and worst predictions from the model\n",
    "# the \"top\" array being our best, and \"bottom\" array being our worst\n",
    "# our ratings are based on how close the model rated a particular image\n",
    "# in regards to the actual human score attached to the image.\n",
    "\n",
    "absDiff = np.abs(diff)\n",
    "\n",
    "bottom = np.argpartition(absDiff, -5)[-5:]\n",
    "top = np.argpartition(absDiff, 5)[:5]"
   ]
  },
  {
   "cell_type": "markdown",
   "metadata": {},
   "source": [
    "##### **Show the 5 best and worst predictions**"
   ]
  },
  {
   "cell_type": "code",
   "execution_count": 13,
   "metadata": {},
   "outputs": [
    {
     "data": {
      "image/png": "[encoded data removed]",
      "text/plain": [
       "<Figure size 432x288 with 1 Axes>"
      ]
     },
     "metadata": {
      "needs_background": "light"
     },
     "output_type": "display_data"
    },
    {
     "name": "stdout",
     "output_type": "stream",
     "text": [
      "Human Score\n"
     ]
    },
    {
     "data": {
      "text/plain": [
       "0.176471"
      ]
     },
     "metadata": {},
     "output_type": "display_data"
    },
    {
     "name": "stdout",
     "output_type": "stream",
     "text": [
      "Prediction\n"
     ]
    },
    {
     "data": {
      "text/plain": [
       "0.17526352"
      ]
     },
     "metadata": {},
     "output_type": "display_data"
    },
    {
     "data": {
      "image/png": "[encoded data removed]",
      "text/plain": [
       "<Figure size 432x288 with 1 Axes>"
      ]
     },
     "metadata": {
      "needs_background": "light"
     },
     "output_type": "display_data"
    },
    {
     "name": "stdout",
     "output_type": "stream",
     "text": [
      "Human Score\n"
     ]
    },
    {
     "data": {
      "text/plain": [
       "0.166667"
      ]
     },
     "metadata": {},
     "output_type": "display_data"
    },
    {
     "name": "stdout",
     "output_type": "stream",
     "text": [
      "Prediction\n"
     ]
    },
    {
     "data": {
      "text/plain": [
       "0.16618533"
      ]
     },
     "metadata": {},
     "output_type": "display_data"
    },
    {
     "data": {
      "image/png": "[encoded data removed]",
      "text/plain": [
       "<Figure size 432x288 with 1 Axes>"
      ]
     },
     "metadata": {
      "needs_background": "light"
     },
     "output_type": "display_data"
    },
    {
     "name": "stdout",
     "output_type": "stream",
     "text": [
      "Human Score\n"
     ]
    },
    {
     "data": {
      "text/plain": [
       "0.176471"
      ]
     },
     "metadata": {},
     "output_type": "display_data"
    },
    {
     "name": "stdout",
     "output_type": "stream",
     "text": [
      "Prediction\n"
     ]
    },
    {
     "data": {
      "text/plain": [
       "0.17698903"
      ]
     },
     "metadata": {},
     "output_type": "display_data"
    },
    {
     "data": {
      "image/png": "[encoded data removed]",
      "text/plain": [
       "<Figure size 432x288 with 1 Axes>"
      ]
     },
     "metadata": {
      "needs_background": "light"
     },
     "output_type": "display_data"
    },
    {
     "name": "stdout",
     "output_type": "stream",
     "text": [
      "Human Score\n"
     ]
    },
    {
     "data": {
      "text/plain": [
       "0.171429"
      ]
     },
     "metadata": {},
     "output_type": "display_data"
    },
    {
     "name": "stdout",
     "output_type": "stream",
     "text": [
      "Prediction\n"
     ]
    },
    {
     "data": {
      "text/plain": [
       "0.17365713"
      ]
     },
     "metadata": {},
     "output_type": "display_data"
    },
    {
     "data": {
      "image/png": "[encoded data removed]",
      "text/plain": [
       "<Figure size 432x288 with 1 Axes>"
      ]
     },
     "metadata": {
      "needs_background": "light"
     },
     "output_type": "display_data"
    },
    {
     "name": "stdout",
     "output_type": "stream",
     "text": [
      "Human Score\n"
     ]
    },
    {
     "data": {
      "text/plain": [
       "0.147059"
      ]
     },
     "metadata": {},
     "output_type": "display_data"
    },
    {
     "name": "stdout",
     "output_type": "stream",
     "text": [
      "Prediction\n"
     ]
    },
    {
     "data": {
      "text/plain": [
       "0.144108"
      ]
     },
     "metadata": {},
     "output_type": "display_data"
    }
   ],
   "source": [
    "# Let's start with our best predictions that the net was able to give\n",
    "\n",
    "for i in range (5):\n",
    "    plt.imshow(image.array_to_img(x_original_test[top[i],:,:,:]), cmap='Greys_r') \n",
    "    plt.show()\n",
    "\n",
    "    print(\"Human Score\")\n",
    "    display(y_test[top[i]])\n",
    "    print(\"Prediction\")\n",
    "    display(preds[top[i]][0])"
   ]
  },
  {
   "cell_type": "code",
   "execution_count": 14,
   "metadata": {},
   "outputs": [
    {
     "data": {
      "image/png": "[encoded data removed]",
      "text/plain": [
       "<Figure size 432x288 with 1 Axes>"
      ]
     },
     "metadata": {
      "needs_background": "light"
     },
     "output_type": "display_data"
    },
    {
     "name": "stdout",
     "output_type": "stream",
     "text": [
      "Human Score\n"
     ]
    },
    {
     "data": {
      "text/plain": [
       "0.352941"
      ]
     },
     "metadata": {},
     "output_type": "display_data"
    },
    {
     "name": "stdout",
     "output_type": "stream",
     "text": [
      "Prediction\n"
     ]
    },
    {
     "data": {
      "text/plain": [
       "0.1094576"
      ]
     },
     "metadata": {},
     "output_type": "display_data"
    },
    {
     "data": {
      "image/png": "[encoded data removed]",
      "text/plain": [
       "<Figure size 432x288 with 1 Axes>"
      ]
     },
     "metadata": {
      "needs_background": "light"
     },
     "output_type": "display_data"
    },
    {
     "name": "stdout",
     "output_type": "stream",
     "text": [
      "Human Score\n"
     ]
    },
    {
     "data": {
      "text/plain": [
       "0.823529"
      ]
     },
     "metadata": {},
     "output_type": "display_data"
    },
    {
     "name": "stdout",
     "output_type": "stream",
     "text": [
      "Prediction\n"
     ]
    },
    {
     "data": {
      "text/plain": [
       "0.53521776"
      ]
     },
     "metadata": {},
     "output_type": "display_data"
    },
    {
     "data": {
      "image/png": "[encoded data removed]",
      "text/plain": [
       "<Figure size 432x288 with 1 Axes>"
      ]
     },
     "metadata": {
      "needs_background": "light"
     },
     "output_type": "display_data"
    },
    {
     "name": "stdout",
     "output_type": "stream",
     "text": [
      "Human Score\n"
     ]
    },
    {
     "data": {
      "text/plain": [
       "0.647059"
      ]
     },
     "metadata": {},
     "output_type": "display_data"
    },
    {
     "name": "stdout",
     "output_type": "stream",
     "text": [
      "Prediction\n"
     ]
    },
    {
     "data": {
      "text/plain": [
       "0.37571767"
      ]
     },
     "metadata": {},
     "output_type": "display_data"
    },
    {
     "data": {
      "image/png": "[encoded data removed]",
      "text/plain": [
       "<Figure size 432x288 with 1 Axes>"
      ]
     },
     "metadata": {
      "needs_background": "light"
     },
     "output_type": "display_data"
    },
    {
     "name": "stdout",
     "output_type": "stream",
     "text": [
      "Human Score\n"
     ]
    },
    {
     "data": {
      "text/plain": [
       "0.205882"
      ]
     },
     "metadata": {},
     "output_type": "display_data"
    },
    {
     "name": "stdout",
     "output_type": "stream",
     "text": [
      "Prediction\n"
     ]
    },
    {
     "data": {
      "text/plain": [
       "0.6219371"
      ]
     },
     "metadata": {},
     "output_type": "display_data"
    },
    {
     "data": {
      "image/png": "[encoded data removed]",
      "text/plain": [
       "<Figure size 432x288 with 1 Axes>"
      ]
     },
     "metadata": {
      "needs_background": "light"
     },
     "output_type": "display_data"
    },
    {
     "name": "stdout",
     "output_type": "stream",
     "text": [
      "Human Score\n"
     ]
    },
    {
     "data": {
      "text/plain": [
       "0.235294"
      ]
     },
     "metadata": {},
     "output_type": "display_data"
    },
    {
     "name": "stdout",
     "output_type": "stream",
     "text": [
      "Prediction\n"
     ]
    },
    {
     "data": {
      "text/plain": [
       "0.60055363"
      ]
     },
     "metadata": {},
     "output_type": "display_data"
    }
   ],
   "source": [
    "# And for comparison we will also view the worst predictions the model gave\n",
    "\n",
    "for i in range (5):\n",
    "    plt.imshow(image.array_to_img(x_original_test[bottom[i],:,:,:]), cmap='Greys_r') \n",
    "    plt.show()\n",
    "\n",
    "    print(\"Human Score\")\n",
    "    display(y_test[bottom[i]])\n",
    "    print(\"Prediction\")\n",
    "    display(preds[bottom[i]][0])"
   ]
  },
  {
   "cell_type": "markdown",
   "metadata": {},
   "source": [
    "# **3a. Convolution Network**\n",
    "\n",
    "With our single layer network we are able to show that the network was able to learn and score models.  However, as stated previously, our main goal was to create a convolution network to accomplish this task.  We wanted to improve upon the accuracy of a single layer network, and work towards a possible solution for scoring future galaxy merger images."
   ]
  },
  {
   "cell_type": "markdown",
   "metadata": {},
   "source": [
    "##### **Grab images again**"
   ]
  },
  {
   "cell_type": "code",
   "execution_count": 15,
   "metadata": {},
   "outputs": [],
   "source": [
    "numImages = 600\n",
    "X=np.concatenate([grab_image_full('miscImgs/',i, numImages) for i in range(numImages)]) \n",
    "X /= 255.0"
   ]
  },
  {
   "cell_type": "markdown",
   "metadata": {},
   "source": [
    "##### **Load in model scores**"
   ]
  },
  {
   "cell_type": "code",
   "execution_count": 16,
   "metadata": {},
   "outputs": [
    {
     "data": {
      "text/plain": [
       "array([0.945946, 0.941176, 0.918919, 0.916667, 0.916667, 0.914286,\n",
       "       0.914286, 0.911765, 0.891892, 0.885714])"
      ]
     },
     "metadata": {},
     "output_type": "display_data"
    },
    {
     "data": {
      "text/plain": [
       "(600,)"
      ]
     },
     "metadata": {},
     "output_type": "display_data"
    }
   ],
   "source": [
    "# Again let's attach a human score to the images.\n",
    "\n",
    "Y = np.loadtxt('./miscImgs/scores/humanScores.txt')\n",
    "Y=Y[0:600]\n",
    "display(Y[0:10])\n",
    "display(Y.shape)"
   ]
  },
  {
   "cell_type": "markdown",
   "metadata": {},
   "source": [
    "##### **Shuffle model images and scores**"
   ]
  },
  {
   "cell_type": "code",
   "execution_count": 17,
   "metadata": {},
   "outputs": [
    {
     "data": {
      "text/plain": [
       "(600, 100, 100, 1)"
      ]
     },
     "metadata": {},
     "output_type": "display_data"
    },
    {
     "data": {
      "text/plain": [
       "(600,)"
      ]
     },
     "metadata": {},
     "output_type": "display_data"
    }
   ],
   "source": [
    "# Randomize the image data again\n",
    "\n",
    "p = np.random.permutation(len(X))\n",
    "Xshuffled = X[p]\n",
    "Yshuffled = Y[p]\n",
    "\n",
    "display(Xshuffled.shape)\n",
    "display(Yshuffled.shape)"
   ]
  },
  {
   "cell_type": "markdown",
   "metadata": {},
   "source": [
    "##### **Split into training and test data (85% for training and validation)**"
   ]
  },
  {
   "cell_type": "code",
   "execution_count": 18,
   "metadata": {},
   "outputs": [
    {
     "data": {
      "text/plain": [
       "(510, 100, 100, 1)"
      ]
     },
     "metadata": {},
     "output_type": "display_data"
    },
    {
     "data": {
      "text/plain": [
       "(510,)"
      ]
     },
     "metadata": {},
     "output_type": "display_data"
    },
    {
     "data": {
      "text/plain": [
       "(90, 100, 100, 1)"
      ]
     },
     "metadata": {},
     "output_type": "display_data"
    },
    {
     "data": {
      "text/plain": [
       "(90,)"
      ]
     },
     "metadata": {},
     "output_type": "display_data"
    }
   ],
   "source": [
    "x_train = Xshuffled[0:(round(numImages*.85)),:,:]\n",
    "y_train = Yshuffled[0:(round(numImages*.85))]\n",
    "x_test = Xshuffled[(round(numImages*.85)): , : , :]\n",
    "y_test = Yshuffled[(round(numImages*.85)):]\n",
    "\n",
    "display(x_train.shape)\n",
    "display(y_train.shape)\n",
    "display(x_test.shape)\n",
    "display(y_test.shape)"
   ]
  },
  {
   "cell_type": "markdown",
   "metadata": {},
   "source": [
    "##### **Load Pre-Trained Convolution Network**"
   ]
  },
  {
   "cell_type": "code",
   "execution_count": 19,
   "metadata": {},
   "outputs": [
    {
     "name": "stdout",
     "output_type": "stream",
     "text": [
      "Model: \"sequential_3\"\n",
      "_________________________________________________________________\n",
      "Layer (type)                 Output Shape              Param #   \n",
      "=================================================================\n",
      "conv2d_5 (Conv2D)            (None, 89, 89, 16)        2320      \n",
      "_________________________________________________________________\n",
      "conv2d_6 (Conv2D)            (None, 82, 82, 32)        32800     \n",
      "_________________________________________________________________\n",
      "max_pooling2d_3 (MaxPooling2 (None, 41, 41, 32)        0         \n",
      "_________________________________________________________________\n",
      "dropout_3 (Dropout)          (None, 41, 41, 32)        0         \n",
      "_________________________________________________________________\n",
      "flatten_3 (Flatten)          (None, 53792)             0         \n",
      "_________________________________________________________________\n",
      "dense_4 (Dense)              (None, 32)                1721376   \n",
      "_________________________________________________________________\n",
      "dropout_4 (Dropout)          (None, 32)                0         \n",
      "_________________________________________________________________\n",
      "dense_5 (Dense)              (None, 1)                 33        \n",
      "=================================================================\n",
      "Total params: 1,756,529\n",
      "Trainable params: 1,756,529\n",
      "Non-trainable params: 0\n",
      "_________________________________________________________________\n"
     ]
    }
   ],
   "source": [
    "convModel = load_model('ConvModelPaper')\n",
    "\n",
    "convModel.summary()"
   ]
  },
  {
   "cell_type": "markdown",
   "metadata": {},
   "source": [
    "# **3b. What the Convolution Network accomplishes**\n",
    "\n",
    "With a convolution network we were able to achieve much better results with our comparisons.  With a larger data set we believe the network would be able to mirror the human scores, or even potentially score a model better than humans could."
   ]
  },
  {
   "cell_type": "code",
   "execution_count": 20,
   "metadata": {},
   "outputs": [
    {
     "name": "stdout",
     "output_type": "stream",
     "text": [
      "Mean difference\n",
      "---------------\n"
     ]
    },
    {
     "data": {
      "text/plain": [
       "0.0831713500582854"
      ]
     },
     "metadata": {},
     "output_type": "display_data"
    }
   ],
   "source": [
    "preds = convModel.predict(x_test)\n",
    "diff = preds.flatten() - (y_test)\n",
    "print(\"Mean difference\")\n",
    "print(\"---------------\")\n",
    "display(np.mean(np.abs(diff)))"
   ]
  },
  {
   "cell_type": "markdown",
   "metadata": {},
   "source": [
    "##### **Various data plots**"
   ]
  },
  {
   "cell_type": "code",
   "execution_count": 21,
   "metadata": {},
   "outputs": [
    {
     "data": {
      "image/png": "[encoded data removed]",
      "text/plain": [
       "<Figure size 432x288 with 1 Axes>"
      ]
     },
     "metadata": {
      "needs_background": "light"
     },
     "output_type": "display_data"
    }
   ],
   "source": [
    "plt.figure()\n",
    "plt.scatter(y_test, preds)\n",
    "plt.title(\"Predicted vs Actual value\")\n",
    "plt.ylabel(\"predicted value\")\n",
    "plt.xlabel(\"actual value\")\n",
    "plt.savefig(\"ConvPredictedVAct.png\")\n",
    "plt.axis('square')\n",
    "plt.show()"
   ]
  },
  {
   "cell_type": "markdown",
   "metadata": {},
   "source": [
    "The predicted vs. actual resulst show us that there is less variation from the central y=x line.<br>\n",
    "It's not quite perfect yet, but there is visible progress over the single layer network."
   ]
  },
  {
   "cell_type": "code",
   "execution_count": 22,
   "metadata": {},
   "outputs": [
    {
     "data": {
      "image/png": "[encoded data removed]",
      "text/plain": [
       "<Figure size 432x288 with 1 Axes>"
      ]
     },
     "metadata": {
      "needs_background": "light"
     },
     "output_type": "display_data"
    }
   ],
   "source": [
    "plt.figure()\n",
    "plt.scatter(y_test, diff)\n",
    "plt.title(\"Difference vs Actual value\")\n",
    "plt.ylabel(\"Difference\")\n",
    "plt.xlabel(\"actual value\")\n",
    "plt.axis('square')\n",
    "plt.savefig(\"ConvDiffVAct.png\")\n",
    "plt.show()"
   ]
  },
  {
   "cell_type": "markdown",
   "metadata": {},
   "source": [
    "Here is where the results differ most.<br>\n",
    "The models that were scored highest by humans, received a lower score from our network.<br>\n",
    "This shows us that the model is using what it has learned to attempt to rate the image in the way a human would, and not compare specific cases it learned through training."
   ]
  },
  {
   "cell_type": "markdown",
   "metadata": {},
   "source": [
    "##### **Find the 5 best and worst predictions**"
   ]
  },
  {
   "cell_type": "code",
   "execution_count": 23,
   "metadata": {},
   "outputs": [
    {
     "data": {
      "text/plain": [
       "array([27, 34,  0, 51, 42])"
      ]
     },
     "metadata": {},
     "output_type": "display_data"
    },
    {
     "data": {
      "text/plain": [
       "array([56,  9, 38, 76, 81])"
      ]
     },
     "metadata": {},
     "output_type": "display_data"
    }
   ],
   "source": [
    "# We can again view our best and worst predictions from the model\n",
    "# the \"top\" array being our best, and \"bottom\" array being our worst\n",
    "# our ratings are based on how close the model rated a particular image\n",
    "# in regards to the actual human score attached to the image.\n",
    "\n",
    "absDiff = np.abs(diff)\n",
    "\n",
    "bottom = np.argpartition(absDiff, -5)[-5:]\n",
    "top = np.argpartition(absDiff, 5)[:5]\n",
    "display(top)\n",
    "display(bottom)"
   ]
  },
  {
   "cell_type": "markdown",
   "metadata": {},
   "source": [
    "##### **Show the 5 models that had the lowest difference between predicted and human score**"
   ]
  },
  {
   "cell_type": "code",
   "execution_count": 24,
   "metadata": {},
   "outputs": [
    {
     "data": {
      "image/png": "[encoded data removed]",
      "text/plain": [
       "<Figure size 432x288 with 1 Axes>"
      ]
     },
     "metadata": {
      "needs_background": "light"
     },
     "output_type": "display_data"
    },
    {
     "name": "stdout",
     "output_type": "stream",
     "text": [
      "Human Score\n"
     ]
    },
    {
     "data": {
      "text/plain": [
       "0.486486"
      ]
     },
     "metadata": {},
     "output_type": "display_data"
    },
    {
     "name": "stdout",
     "output_type": "stream",
     "text": [
      "Prediction\n"
     ]
    },
    {
     "data": {
      "text/plain": [
       "0.4855028"
      ]
     },
     "metadata": {},
     "output_type": "display_data"
    },
    {
     "data": {
      "image/png": "[encoded data removed]",
      "text/plain": [
       "<Figure size 432x288 with 1 Axes>"
      ]
     },
     "metadata": {
      "needs_background": "light"
     },
     "output_type": "display_data"
    },
    {
     "name": "stdout",
     "output_type": "stream",
     "text": [
      "Human Score\n"
     ]
    },
    {
     "data": {
      "text/plain": [
       "0.142857"
      ]
     },
     "metadata": {},
     "output_type": "display_data"
    },
    {
     "name": "stdout",
     "output_type": "stream",
     "text": [
      "Prediction\n"
     ]
    },
    {
     "data": {
      "text/plain": [
       "0.14288601"
      ]
     },
     "metadata": {},
     "output_type": "display_data"
    },
    {
     "data": {
      "image/png": "[encoded data removed]",
      "text/plain": [
       "<Figure size 432x288 with 1 Axes>"
      ]
     },
     "metadata": {
      "needs_background": "light"
     },
     "output_type": "display_data"
    },
    {
     "name": "stdout",
     "output_type": "stream",
     "text": [
      "Human Score\n"
     ]
    },
    {
     "data": {
      "text/plain": [
       "0.162162"
      ]
     },
     "metadata": {},
     "output_type": "display_data"
    },
    {
     "name": "stdout",
     "output_type": "stream",
     "text": [
      "Prediction\n"
     ]
    },
    {
     "data": {
      "text/plain": [
       "0.15649006"
      ]
     },
     "metadata": {},
     "output_type": "display_data"
    },
    {
     "data": {
      "image/png": "[encoded data removed]",
      "text/plain": [
       "<Figure size 432x288 with 1 Axes>"
      ]
     },
     "metadata": {
      "needs_background": "light"
     },
     "output_type": "display_data"
    },
    {
     "name": "stdout",
     "output_type": "stream",
     "text": [
      "Human Score\n"
     ]
    },
    {
     "data": {
      "text/plain": [
       "0.194444"
      ]
     },
     "metadata": {},
     "output_type": "display_data"
    },
    {
     "name": "stdout",
     "output_type": "stream",
     "text": [
      "Prediction\n"
     ]
    },
    {
     "data": {
      "text/plain": [
       "0.1958105"
      ]
     },
     "metadata": {},
     "output_type": "display_data"
    },
    {
     "data": {
      "image/png": "[encoded data removed]",
      "text/plain": [
       "<Figure size 432x288 with 1 Axes>"
      ]
     },
     "metadata": {
      "needs_background": "light"
     },
     "output_type": "display_data"
    },
    {
     "name": "stdout",
     "output_type": "stream",
     "text": [
      "Human Score\n"
     ]
    },
    {
     "data": {
      "text/plain": [
       "0.088235"
      ]
     },
     "metadata": {},
     "output_type": "display_data"
    },
    {
     "name": "stdout",
     "output_type": "stream",
     "text": [
      "Prediction\n"
     ]
    },
    {
     "data": {
      "text/plain": [
       "0.090036355"
      ]
     },
     "metadata": {},
     "output_type": "display_data"
    }
   ],
   "source": [
    "for i in range (5):\n",
    "    plt.imshow(image.array_to_img(x_test[top[i],:,:,:]), cmap='Greys_r') \n",
    "    plt.show()\n",
    "\n",
    "    print(\"Human Score\")\n",
    "    display(y_test[top[i]])\n",
    "    print(\"Prediction\")\n",
    "    display(preds[top[i]][0])"
   ]
  },
  {
   "cell_type": "markdown",
   "metadata": {},
   "source": [
    "##### **Show the 5 models that the net had the highest difference between prediction and human score**"
   ]
  },
  {
   "cell_type": "code",
   "execution_count": 25,
   "metadata": {},
   "outputs": [
    {
     "data": {
      "image/png": "[encoded data removed]",
      "text/plain": [
       "<Figure size 432x288 with 1 Axes>"
      ]
     },
     "metadata": {
      "needs_background": "light"
     },
     "output_type": "display_data"
    },
    {
     "name": "stdout",
     "output_type": "stream",
     "text": [
      "Human Score\n"
     ]
    },
    {
     "data": {
      "text/plain": [
       "0.235294"
      ]
     },
     "metadata": {},
     "output_type": "display_data"
    },
    {
     "name": "stdout",
     "output_type": "stream",
     "text": [
      "Prediction\n"
     ]
    },
    {
     "data": {
      "text/plain": [
       "0.49678165"
      ]
     },
     "metadata": {},
     "output_type": "display_data"
    },
    {
     "data": {
      "image/png": "[encoded data removed]",
      "text/plain": [
       "<Figure size 432x288 with 1 Axes>"
      ]
     },
     "metadata": {
      "needs_background": "light"
     },
     "output_type": "display_data"
    },
    {
     "name": "stdout",
     "output_type": "stream",
     "text": [
      "Human Score\n"
     ]
    },
    {
     "data": {
      "text/plain": [
       "0.941176"
      ]
     },
     "metadata": {},
     "output_type": "display_data"
    },
    {
     "name": "stdout",
     "output_type": "stream",
     "text": [
      "Prediction\n"
     ]
    },
    {
     "data": {
      "text/plain": [
       "0.5702146"
      ]
     },
     "metadata": {},
     "output_type": "display_data"
    },
    {
     "data": {
      "image/png": "[encoded data removed]",
      "text/plain": [
       "<Figure size 432x288 with 1 Axes>"
      ]
     },
     "metadata": {
      "needs_background": "light"
     },
     "output_type": "display_data"
    },
    {
     "name": "stdout",
     "output_type": "stream",
     "text": [
      "Human Score\n"
     ]
    },
    {
     "data": {
      "text/plain": [
       "0.864865"
      ]
     },
     "metadata": {},
     "output_type": "display_data"
    },
    {
     "name": "stdout",
     "output_type": "stream",
     "text": [
      "Prediction\n"
     ]
    },
    {
     "data": {
      "text/plain": [
       "0.59427136"
      ]
     },
     "metadata": {},
     "output_type": "display_data"
    },
    {
     "data": {
      "image/png": "[encoded data removed]",
      "text/plain": [
       "<Figure size 432x288 with 1 Axes>"
      ]
     },
     "metadata": {
      "needs_background": "light"
     },
     "output_type": "display_data"
    },
    {
     "name": "stdout",
     "output_type": "stream",
     "text": [
      "Human Score\n"
     ]
    },
    {
     "data": {
      "text/plain": [
       "0.2"
      ]
     },
     "metadata": {},
     "output_type": "display_data"
    },
    {
     "name": "stdout",
     "output_type": "stream",
     "text": [
      "Prediction\n"
     ]
    },
    {
     "data": {
      "text/plain": [
       "0.4688892"
      ]
     },
     "metadata": {},
     "output_type": "display_data"
    },
    {
     "data": {
      "image/png": "[encoded data removed]",
      "text/plain": [
       "<Figure size 432x288 with 1 Axes>"
      ]
     },
     "metadata": {
      "needs_background": "light"
     },
     "output_type": "display_data"
    },
    {
     "name": "stdout",
     "output_type": "stream",
     "text": [
      "Human Score\n"
     ]
    },
    {
     "data": {
      "text/plain": [
       "0.088235"
      ]
     },
     "metadata": {},
     "output_type": "display_data"
    },
    {
     "name": "stdout",
     "output_type": "stream",
     "text": [
      "Prediction\n"
     ]
    },
    {
     "data": {
      "text/plain": [
       "0.48474985"
      ]
     },
     "metadata": {},
     "output_type": "display_data"
    }
   ],
   "source": [
    "for i in range (5):\n",
    "    plt.imshow(image.array_to_img(x_test[bottom[i],:,:,:]), cmap='Greys_r') \n",
    "    plt.show()\n",
    "\n",
    "    print(\"Human Score\")\n",
    "    display(y_test[bottom[i]])\n",
    "    print(\"Prediction\")\n",
    "    display(preds[bottom[i]][0])"
   ]
  },
  {
   "cell_type": "markdown",
   "metadata": {},
   "source": [
    "##### **Show the models that the net gave the highest and lowest scores**"
   ]
  },
  {
   "cell_type": "code",
   "execution_count": 26,
   "metadata": {},
   "outputs": [
    {
     "data": {
      "image/png": "[encoded data removed]",
      "text/plain": [
       "<Figure size 432x288 with 1 Axes>"
      ]
     },
     "metadata": {
      "needs_background": "light"
     },
     "output_type": "display_data"
    },
    {
     "name": "stdout",
     "output_type": "stream",
     "text": [
      "Human Score\n"
     ]
    },
    {
     "data": {
      "text/plain": [
       "0.891892"
      ]
     },
     "metadata": {},
     "output_type": "display_data"
    },
    {
     "name": "stdout",
     "output_type": "stream",
     "text": [
      "Prediction\n"
     ]
    },
    {
     "data": {
      "text/plain": [
       "0.65827554"
      ]
     },
     "metadata": {},
     "output_type": "display_data"
    }
   ],
   "source": [
    "# Let's view our highest scoring model\n",
    "\n",
    "maxPred = np.amax(preds, axis=0)\n",
    "maxPredIndex = np.where(preds == maxPred)\n",
    "\n",
    "plt.imshow(image.array_to_img(x_test[maxPredIndex[0][0],:,:,:]), cmap='Greys_r') \n",
    "plt.savefig(\"ConvPredictedBest.png\")\n",
    "plt.show()\n",
    "\n",
    "print(\"Human Score\")\n",
    "display(y_test[maxPredIndex[0][0]])\n",
    "print(\"Prediction\")\n",
    "display(preds[maxPredIndex[0][0]][0])"
   ]
  },
  {
   "cell_type": "code",
   "execution_count": 27,
   "metadata": {},
   "outputs": [
    {
     "data": {
      "image/png": "[encoded data removed]",
      "text/plain": [
       "<Figure size 432x288 with 1 Axes>"
      ]
     },
     "metadata": {
      "needs_background": "light"
     },
     "output_type": "display_data"
    },
    {
     "name": "stdout",
     "output_type": "stream",
     "text": [
      "Human Score\n"
     ]
    },
    {
     "data": {
      "text/plain": [
       "0.088235"
      ]
     },
     "metadata": {},
     "output_type": "display_data"
    },
    {
     "name": "stdout",
     "output_type": "stream",
     "text": [
      "Prediction\n"
     ]
    },
    {
     "data": {
      "text/plain": [
       "0.090036355"
      ]
     },
     "metadata": {},
     "output_type": "display_data"
    }
   ],
   "source": [
    "# As well as our lowest scoring model\n",
    "\n",
    "minPred = np.amin(preds, axis=0)\n",
    "minPredIndex = np.where(preds == minPred)\n",
    "\n",
    "plt.imshow(image.array_to_img(x_test[minPredIndex[0][0],:,:,:]), cmap='Greys_r') \n",
    "plt.savefig(\"ConvPredictedBest.png\")\n",
    "plt.show()\n",
    "\n",
    "print(\"Human Score\")\n",
    "display(y_test[minPredIndex[0][0]])\n",
    "print(\"Prediction\")\n",
    "display(preds[minPredIndex[0][0]][0])"
   ]
  },
  {
   "cell_type": "markdown",
   "metadata": {},
   "source": [
    "# **4. How to visualize the weights**\n",
    "\n",
    "It is sometimes helpful to see what the neural network itself views as important.  In order to do this we can model the weights in the way that the net sees them."
   ]
  },
  {
   "cell_type": "code",
   "execution_count": 30,
   "metadata": {},
   "outputs": [],
   "source": [
    "def view_weights( model, saveLoc = None ):\n",
    "    weights = model.get_weights()[0]\n",
    "    l = weights[:,0]\n",
    "    #(100,100) dependent on image size\n",
    "    l = np.reshape( l, (100,100) )\n",
    "\n",
    "    plt.imshow(l)\n",
    "    \n",
    "    if saveLoc != None:\n",
    "        plt.savefig( saveLoc )\n",
    "        \n",
    "    plt.show()"
   ]
  },
  {
   "cell_type": "code",
   "execution_count": 31,
   "metadata": {},
   "outputs": [
    {
     "data": {
      "image/png": "[encoded data removed]",
      "text/plain": [
       "<Figure size 432x288 with 1 Axes>"
      ]
     },
     "metadata": {
      "needs_background": "light"
     },
     "output_type": "display_data"
    }
   ],
   "source": [
    "view_weights(singleModel, saveLoc = \"singleWeights.png\")"
   ]
  },
  {
   "cell_type": "code",
   "execution_count": 33,
   "metadata": {},
   "outputs": [
    {
     "data": {
      "image/png": "[encoded data removed]",
      "text/plain": [
       "<Figure size 864x864 with 16 Axes>"
      ]
     },
     "metadata": {
      "needs_background": "light"
     },
     "output_type": "display_data"
    }
   ],
   "source": [
    "inp = convModel.input\n",
    "outputs = [layer.output for layer in convModel.layers]\n",
    "functor = K.function([inp,K.learning_phase()], outputs)\n",
    "\n",
    "layer_outputs = functor([x_test[10:11,:,:,:],1])\n",
    "\n",
    "fig,axes = plt.subplots(4,4)\n",
    "fig.set_figwidth(12)\n",
    "fig.set_figheight(12)\n",
    "for x in range(4):\n",
    "    for y in range(4):\n",
    "        axes[x,y].imshow(layer_outputs[0][0,:,:,(x*4)+y])\n",
    "plt.savefig(\"layer1activations\")\n",
    "plt.show()"
   ]
  },
  {
   "cell_type": "markdown",
   "metadata": {},
   "source": [
    "In several of the cases, the net focused in correctly on the bridges and tails of the galaxy models.<br>\n",
    "This is what we want to see and with an increase to the size of the data set and the network itself, we could find the right fit in the future."
   ]
  },
  {
   "cell_type": "code",
   "execution_count": null,
   "metadata": {},
   "outputs": [],
   "source": []
  }
 ],
 "metadata": {
  "kernelspec": {
   "display_name": "Python 3",
   "language": "python",
   "name": "python3"
  },
  "language_info": {
   "codemirror_mode": {
    "name": "ipython",
    "version": 3
   },
   "file_extension": ".py",
   "mimetype": "text/x-python",
   "name": "python",
   "nbconvert_exporter": "python",
   "pygments_lexer": "ipython3",
   "version": "3.7.6"
  }
 },
 "nbformat": 4,
 "nbformat_minor": 4
}
