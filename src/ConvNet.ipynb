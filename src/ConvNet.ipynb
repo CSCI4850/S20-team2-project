{
 "cells": [
  {
   "cell_type": "code",
   "execution_count": 5,
   "metadata": {},
   "outputs": [
    {
     "name": "stderr",
     "output_type": "stream",
     "text": [
      "Using TensorFlow backend.\n"
     ]
    }
   ],
   "source": [
    "import keras\n",
    "from keras import backend as K\n",
    "from keras.preprocessing import image\n",
    "from keras.applications.xception import preprocess_input, decode_predictions\n",
    "from keras import regularizers\n",
    "from keras import callbacks\n",
    "\n",
    "import numpy as np\n",
    "\n",
    "import pandas as pd\n",
    "\n",
    "import matplotlib.pyplot as plt\n",
    "\n",
    "from mpl_toolkits.mplot3d import axes3d\n",
    "%matplotlib inline\n",
    "\n",
    "from IPython.display import display"
   ]
  },
  {
   "cell_type": "code",
   "execution_count": 6,
   "metadata": {},
   "outputs": [],
   "source": [
    "def grab_image(img_path, x, y):\n",
    "    img = image.load_img(img_path, color_mode = \"grayscale\", target_size=(x,y))\n",
    "    x = image.img_to_array(img)\n",
    "    x = np.expand_dims(x, axis=0)\n",
    "    x = preprocess_input(x)\n",
    "    return x"
   ]
  },
  {
   "cell_type": "code",
   "execution_count": 7,
   "metadata": {},
   "outputs": [],
   "source": [
    "def get_csv(n, path) :\n",
    "    data = pd.read_csv(path, header=None)\n",
    "    output = data[0].values\n",
    "    \n",
    "    if n == 0 :\n",
    "        return output\n",
    "    else :\n",
    "        return output[:n]"
   ]
  },
  {
   "cell_type": "code",
   "execution_count": 8,
   "metadata": {},
   "outputs": [
    {
     "name": "stdout",
     "output_type": "stream",
     "text": [
      "(800,)\n"
     ]
    }
   ],
   "source": [
    "\n",
    "num_images = 800\n",
    "human_scores = get_csv(num_images, '/home/djw4s/miscImgs/scores/humanScores.txt')\n",
    "print(human_scores.shape)"
   ]
  },
  {
   "cell_type": "code",
   "execution_count": 9,
   "metadata": {},
   "outputs": [
    {
     "name": "stdout",
     "output_type": "stream",
     "text": [
      "(800, 100, 100, 1)\n"
     ]
    }
   ],
   "source": [
    "images = np.concatenate([grab_image('/home/djw4s/miscImgs/models/%d_model.png'%(i), 100, 100) for i in range(num_images)])\n",
    "\n",
    "images /= 255\n",
    "print(images.shape)"
   ]
  },
  {
   "cell_type": "code",
   "execution_count": 10,
   "metadata": {},
   "outputs": [
    {
     "data": {
      "image/png": "[encoded data removed]",
      "text/plain": [
       "<Figure size 432x288 with 1 Axes>"
      ]
     },
     "metadata": {
      "needs_background": "light"
     },
     "output_type": "display_data"
    },
    {
     "data": {
      "text/plain": [
       "0.72973"
      ]
     },
     "metadata": {},
     "output_type": "display_data"
    }
   ],
   "source": [
    "plt.imshow(image.array_to_img(images[45,:,:,:]), cmap='Greys_r')\n",
    "plt.show()\n",
    "display(human_scores[45])"
   ]
  },
  {
   "cell_type": "code",
   "execution_count": 11,
   "metadata": {},
   "outputs": [
    {
     "data": {
      "text/plain": [
       "(800, 100, 100, 1)"
      ]
     },
     "metadata": {},
     "output_type": "display_data"
    },
    {
     "data": {
      "text/plain": [
       "(800,)"
      ]
     },
     "metadata": {},
     "output_type": "display_data"
    }
   ],
   "source": [
    "p = np.random.permutation(len(images))\n",
    "Xshuffled = images[p]\n",
    "Yshuffled = human_scores[p]\n",
    "\n",
    "display(Xshuffled.shape)\n",
    "display(Yshuffled.shape)"
   ]
  },
  {
   "cell_type": "code",
   "execution_count": 12,
   "metadata": {},
   "outputs": [
    {
     "data": {
      "image/png": "[encoded data removed]",
      "text/plain": [
       "<Figure size 432x288 with 1 Axes>"
      ]
     },
     "metadata": {
      "needs_background": "light"
     },
     "output_type": "display_data"
    },
    {
     "data": {
      "text/plain": [
       "0.083333"
      ]
     },
     "metadata": {},
     "output_type": "display_data"
    }
   ],
   "source": [
    "plt.imshow(image.array_to_img(Xshuffled[0,:,:,:]), cmap='Greys_r')\n",
    "plt.show()\n",
    "display(Yshuffled[0])"
   ]
  },
  {
   "cell_type": "code",
   "execution_count": 13,
   "metadata": {},
   "outputs": [
    {
     "data": {
      "text/plain": [
       "(170, 100, 100, 1)"
      ]
     },
     "metadata": {},
     "output_type": "display_data"
    },
    {
     "data": {
      "text/plain": [
       "(170,)"
      ]
     },
     "metadata": {},
     "output_type": "display_data"
    },
    {
     "data": {
      "text/plain": [
       "(630, 100, 100, 1)"
      ]
     },
     "metadata": {},
     "output_type": "display_data"
    },
    {
     "data": {
      "text/plain": [
       "(630,)"
      ]
     },
     "metadata": {},
     "output_type": "display_data"
    }
   ],
   "source": [
    "x_train = Xshuffled[0:(round(200*.85)),:,:]\n",
    "y_train = Yshuffled[0:(round(200*.85))]\n",
    "x_test = Xshuffled[(round(200*.85)): , : , :]\n",
    "y_test = Yshuffled[(round(200*.85)):]\n",
    "\n",
    "display(x_train.shape)\n",
    "display(y_train.shape)\n",
    "display(x_test.shape)\n",
    "display(y_test.shape)"
   ]
  },
  {
   "cell_type": "code",
   "execution_count": 14,
   "metadata": {},
   "outputs": [
    {
     "name": "stdout",
     "output_type": "stream",
     "text": [
      "Model: \"sequential_1\"\n",
      "_________________________________________________________________\n",
      "Layer (type)                 Output Shape              Param #   \n",
      "=================================================================\n",
      "conv2d_1 (Conv2D)            (None, 100, 100, 32)      2080      \n",
      "_________________________________________________________________\n",
      "conv2d_2 (Conv2D)            (None, 47, 47, 64)        131136    \n",
      "_________________________________________________________________\n",
      "max_pooling2d_1 (MaxPooling2 (None, 23, 23, 64)        0         \n",
      "_________________________________________________________________\n",
      "dropout_1 (Dropout)          (None, 23, 23, 64)        0         \n",
      "_________________________________________________________________\n",
      "flatten_1 (Flatten)          (None, 33856)             0         \n",
      "_________________________________________________________________\n",
      "dense_1 (Dense)              (None, 16)                541712    \n",
      "_________________________________________________________________\n",
      "dense_2 (Dense)              (None, 32)                544       \n",
      "_________________________________________________________________\n",
      "dropout_2 (Dropout)          (None, 32)                0         \n",
      "_________________________________________________________________\n",
      "dense_3 (Dense)              (None, 1)                 33        \n",
      "=================================================================\n",
      "Total params: 675,505\n",
      "Trainable params: 675,505\n",
      "Non-trainable params: 0\n",
      "_________________________________________________________________\n"
     ]
    }
   ],
   "source": [
    "#csvLogger = callbacks.CSVLogger('training.csv')\n",
    "model = keras.Sequential()\n",
    "# 1st block:\n",
    "model.add(keras.layers.Conv2D(32, kernel_size=(8,8),\n",
    "                              padding='same', \n",
    "                              activation='relu',\n",
    "                              input_shape=[x_train.shape[1],\n",
    "                                           x_train.shape[2],\n",
    "                                           x_train.shape[3]\n",
    "                                          ]\n",
    "                             )\n",
    "         )\n",
    "model.add(keras.layers.Conv2D(64, (8, 8), activation='relu', strides=2))\n",
    "model.add(keras.layers.MaxPooling2D(pool_size=(2, 2)))\n",
    "model.add(keras.layers.Dropout(0.25))\n",
    "# Dense Layers:\n",
    "model.add(keras.layers.Flatten())\n",
    "model.add(keras.layers.Dense(16, activation='relu'))\n",
    "model.add(keras.layers.Dense(32, activation='relu'))\n",
    "model.add(keras.layers.Dropout(0.5))\n",
    "#model.add(keras.layers.Dense(y_train.shape[1], activation='softmax'))\n",
    "model.add(keras.layers.Dense(1, activation='sigmoid'))\n",
    "\n",
    "model.compile(loss=keras.losses.mean_squared_error,\n",
    "              optimizer=keras.optimizers.Adam(),\n",
    "              metrics=['accuracy', 'mse']\n",
    "             )\n",
    "model.summary()"
   ]
  },
  {
   "cell_type": "code",
   "execution_count": 15,
   "metadata": {},
   "outputs": [
    {
     "name": "stdout",
     "output_type": "stream",
     "text": [
      "Train on 136 samples, validate on 34 samples\n",
      "Epoch 1/50\n",
      " - 4s - loss: 0.0885 - accuracy: 0.0000e+00 - mse: 0.0885 - val_loss: 0.0359 - val_accuracy: 0.0000e+00 - val_mse: 0.0359\n",
      "Epoch 2/50\n",
      " - 3s - loss: 0.0701 - accuracy: 0.0000e+00 - mse: 0.0701 - val_loss: 0.0458 - val_accuracy: 0.0000e+00 - val_mse: 0.0458\n",
      "Epoch 3/50\n",
      " - 3s - loss: 0.0715 - accuracy: 0.0000e+00 - mse: 0.0715 - val_loss: 0.0506 - val_accuracy: 0.0000e+00 - val_mse: 0.0506\n",
      "Epoch 4/50\n",
      " - 3s - loss: 0.0699 - accuracy: 0.0000e+00 - mse: 0.0699 - val_loss: 0.0341 - val_accuracy: 0.0000e+00 - val_mse: 0.0341\n",
      "Epoch 5/50\n",
      " - 3s - loss: 0.0619 - accuracy: 0.0000e+00 - mse: 0.0619 - val_loss: 0.0376 - val_accuracy: 0.0000e+00 - val_mse: 0.0376\n",
      "Epoch 6/50\n",
      " - 3s - loss: 0.0581 - accuracy: 0.0000e+00 - mse: 0.0581 - val_loss: 0.0378 - val_accuracy: 0.0000e+00 - val_mse: 0.0378\n",
      "Epoch 7/50\n",
      " - 3s - loss: 0.0616 - accuracy: 0.0000e+00 - mse: 0.0616 - val_loss: 0.0372 - val_accuracy: 0.0000e+00 - val_mse: 0.0372\n",
      "Epoch 8/50\n",
      " - 3s - loss: 0.0701 - accuracy: 0.0000e+00 - mse: 0.0701 - val_loss: 0.0387 - val_accuracy: 0.0000e+00 - val_mse: 0.0387\n",
      "Epoch 9/50\n",
      " - 3s - loss: 0.0657 - accuracy: 0.0000e+00 - mse: 0.0657 - val_loss: 0.0352 - val_accuracy: 0.0000e+00 - val_mse: 0.0352\n",
      "Epoch 10/50\n",
      " - 3s - loss: 0.0649 - accuracy: 0.0000e+00 - mse: 0.0649 - val_loss: 0.0383 - val_accuracy: 0.0000e+00 - val_mse: 0.0383\n",
      "Epoch 11/50\n",
      " - 3s - loss: 0.0644 - accuracy: 0.0000e+00 - mse: 0.0644 - val_loss: 0.0361 - val_accuracy: 0.0000e+00 - val_mse: 0.0361\n",
      "Epoch 12/50\n",
      " - 3s - loss: 0.0599 - accuracy: 0.0000e+00 - mse: 0.0599 - val_loss: 0.0343 - val_accuracy: 0.0000e+00 - val_mse: 0.0343\n",
      "Epoch 13/50\n",
      " - 3s - loss: 0.0616 - accuracy: 0.0000e+00 - mse: 0.0616 - val_loss: 0.0361 - val_accuracy: 0.0000e+00 - val_mse: 0.0361\n",
      "Epoch 14/50\n",
      " - 3s - loss: 0.0654 - accuracy: 0.0000e+00 - mse: 0.0654 - val_loss: 0.0400 - val_accuracy: 0.0000e+00 - val_mse: 0.0400\n",
      "Epoch 15/50\n",
      " - 3s - loss: 0.0606 - accuracy: 0.0000e+00 - mse: 0.0606 - val_loss: 0.0342 - val_accuracy: 0.0000e+00 - val_mse: 0.0342\n",
      "Epoch 16/50\n",
      " - 3s - loss: 0.0566 - accuracy: 0.0000e+00 - mse: 0.0566 - val_loss: 0.0357 - val_accuracy: 0.0000e+00 - val_mse: 0.0357\n",
      "Epoch 17/50\n",
      " - 3s - loss: 0.0589 - accuracy: 0.0000e+00 - mse: 0.0589 - val_loss: 0.0376 - val_accuracy: 0.0000e+00 - val_mse: 0.0376\n",
      "Epoch 18/50\n",
      " - 3s - loss: 0.0643 - accuracy: 0.0000e+00 - mse: 0.0643 - val_loss: 0.0375 - val_accuracy: 0.0000e+00 - val_mse: 0.0375\n",
      "Epoch 19/50\n",
      " - 3s - loss: 0.0570 - accuracy: 0.0000e+00 - mse: 0.0570 - val_loss: 0.0349 - val_accuracy: 0.0000e+00 - val_mse: 0.0349\n",
      "Epoch 20/50\n",
      " - 3s - loss: 0.0592 - accuracy: 0.0000e+00 - mse: 0.0592 - val_loss: 0.0375 - val_accuracy: 0.0000e+00 - val_mse: 0.0375\n",
      "Epoch 21/50\n",
      " - 3s - loss: 0.0610 - accuracy: 0.0000e+00 - mse: 0.0610 - val_loss: 0.0341 - val_accuracy: 0.0000e+00 - val_mse: 0.0341\n",
      "Epoch 22/50\n",
      " - 3s - loss: 0.0590 - accuracy: 0.0000e+00 - mse: 0.0590 - val_loss: 0.0363 - val_accuracy: 0.0000e+00 - val_mse: 0.0363\n",
      "Epoch 23/50\n",
      " - 3s - loss: 0.0626 - accuracy: 0.0000e+00 - mse: 0.0626 - val_loss: 0.0382 - val_accuracy: 0.0000e+00 - val_mse: 0.0382\n",
      "Epoch 24/50\n",
      " - 3s - loss: 0.0635 - accuracy: 0.0000e+00 - mse: 0.0635 - val_loss: 0.0383 - val_accuracy: 0.0000e+00 - val_mse: 0.0383\n",
      "Epoch 25/50\n",
      " - 4s - loss: 0.0583 - accuracy: 0.0000e+00 - mse: 0.0583 - val_loss: 0.0340 - val_accuracy: 0.0000e+00 - val_mse: 0.0340\n",
      "Epoch 26/50\n",
      " - 4s - loss: 0.0598 - accuracy: 0.0000e+00 - mse: 0.0598 - val_loss: 0.0390 - val_accuracy: 0.0000e+00 - val_mse: 0.0390\n",
      "Epoch 27/50\n",
      " - 4s - loss: 0.0676 - accuracy: 0.0000e+00 - mse: 0.0676 - val_loss: 0.0357 - val_accuracy: 0.0000e+00 - val_mse: 0.0357\n",
      "Epoch 28/50\n",
      " - 4s - loss: 0.0659 - accuracy: 0.0000e+00 - mse: 0.0659 - val_loss: 0.0404 - val_accuracy: 0.0000e+00 - val_mse: 0.0404\n",
      "Epoch 29/50\n",
      " - 4s - loss: 0.0632 - accuracy: 0.0000e+00 - mse: 0.0632 - val_loss: 0.0339 - val_accuracy: 0.0000e+00 - val_mse: 0.0339\n",
      "Epoch 30/50\n",
      " - 3s - loss: 0.0578 - accuracy: 0.0000e+00 - mse: 0.0578 - val_loss: 0.0356 - val_accuracy: 0.0000e+00 - val_mse: 0.0356\n",
      "Epoch 31/50\n",
      " - 3s - loss: 0.0652 - accuracy: 0.0000e+00 - mse: 0.0652 - val_loss: 0.0368 - val_accuracy: 0.0000e+00 - val_mse: 0.0368\n",
      "Epoch 32/50\n",
      " - 3s - loss: 0.0623 - accuracy: 0.0000e+00 - mse: 0.0623 - val_loss: 0.0371 - val_accuracy: 0.0000e+00 - val_mse: 0.0371\n",
      "Epoch 33/50\n",
      " - 4s - loss: 0.0642 - accuracy: 0.0000e+00 - mse: 0.0642 - val_loss: 0.0344 - val_accuracy: 0.0000e+00 - val_mse: 0.0344\n",
      "Epoch 34/50\n",
      " - 4s - loss: 0.0642 - accuracy: 0.0000e+00 - mse: 0.0642 - val_loss: 0.0408 - val_accuracy: 0.0000e+00 - val_mse: 0.0408\n",
      "Epoch 35/50\n",
      " - 4s - loss: 0.0654 - accuracy: 0.0000e+00 - mse: 0.0654 - val_loss: 0.0344 - val_accuracy: 0.0000e+00 - val_mse: 0.0344\n",
      "Epoch 36/50\n",
      " - 4s - loss: 0.0658 - accuracy: 0.0000e+00 - mse: 0.0658 - val_loss: 0.0460 - val_accuracy: 0.0000e+00 - val_mse: 0.0460\n",
      "Epoch 37/50\n",
      " - 4s - loss: 0.0639 - accuracy: 0.0000e+00 - mse: 0.0639 - val_loss: 0.0341 - val_accuracy: 0.0000e+00 - val_mse: 0.0341\n",
      "Epoch 38/50\n",
      " - 3s - loss: 0.0610 - accuracy: 0.0000e+00 - mse: 0.0610 - val_loss: 0.0362 - val_accuracy: 0.0000e+00 - val_mse: 0.0362\n",
      "Epoch 39/50\n",
      " - 3s - loss: 0.0583 - accuracy: 0.0000e+00 - mse: 0.0583 - val_loss: 0.0383 - val_accuracy: 0.0000e+00 - val_mse: 0.0383\n",
      "Epoch 40/50\n",
      " - 3s - loss: 0.0626 - accuracy: 0.0000e+00 - mse: 0.0626 - val_loss: 0.0351 - val_accuracy: 0.0000e+00 - val_mse: 0.0351\n",
      "Epoch 41/50\n",
      " - 3s - loss: 0.0598 - accuracy: 0.0000e+00 - mse: 0.0598 - val_loss: 0.0344 - val_accuracy: 0.0000e+00 - val_mse: 0.0344\n",
      "Epoch 42/50\n",
      " - 3s - loss: 0.0619 - accuracy: 0.0000e+00 - mse: 0.0619 - val_loss: 0.0374 - val_accuracy: 0.0000e+00 - val_mse: 0.0374\n",
      "Epoch 43/50\n",
      " - 3s - loss: 0.0637 - accuracy: 0.0000e+00 - mse: 0.0637 - val_loss: 0.0374 - val_accuracy: 0.0000e+00 - val_mse: 0.0374\n",
      "Epoch 44/50\n",
      " - 3s - loss: 0.0632 - accuracy: 0.0000e+00 - mse: 0.0632 - val_loss: 0.0393 - val_accuracy: 0.0000e+00 - val_mse: 0.0393\n",
      "Epoch 45/50\n",
      " - 3s - loss: 0.0614 - accuracy: 0.0000e+00 - mse: 0.0614 - val_loss: 0.0342 - val_accuracy: 0.0000e+00 - val_mse: 0.0342\n",
      "Epoch 46/50\n",
      " - 3s - loss: 0.0634 - accuracy: 0.0000e+00 - mse: 0.0634 - val_loss: 0.0351 - val_accuracy: 0.0000e+00 - val_mse: 0.0351\n",
      "Epoch 47/50\n",
      " - 3s - loss: 0.0644 - accuracy: 0.0000e+00 - mse: 0.0644 - val_loss: 0.0374 - val_accuracy: 0.0000e+00 - val_mse: 0.0374\n",
      "Epoch 48/50\n",
      " - 3s - loss: 0.0591 - accuracy: 0.0000e+00 - mse: 0.0591 - val_loss: 0.0349 - val_accuracy: 0.0000e+00 - val_mse: 0.0349\n",
      "Epoch 49/50\n",
      " - 3s - loss: 0.0597 - accuracy: 0.0000e+00 - mse: 0.0597 - val_loss: 0.0367 - val_accuracy: 0.0000e+00 - val_mse: 0.0367\n",
      "Epoch 50/50\n",
      " - 3s - loss: 0.0651 - accuracy: 0.0000e+00 - mse: 0.0651 - val_loss: 0.0368 - val_accuracy: 0.0000e+00 - val_mse: 0.0368\n",
      "DONE\n"
     ]
    }
   ],
   "source": [
    "batch_size = 10\n",
    "epochs = 50\n",
    "history = model.fit(x_train,\n",
    "                    y_train,\n",
    "                    batch_size=batch_size,\n",
    "                    epochs=epochs,\n",
    "                    verbose=2,\n",
    "                    validation_split=0.2\n",
    "                   )\n",
    "print('DONE')"
   ]
  },
  {
   "cell_type": "code",
   "execution_count": 33,
   "metadata": {},
   "outputs": [
    {
     "data": {
      "image/png": "[encoded data removed]",
      "text/plain": [
       "<Figure size 432x288 with 1 Axes>"
      ]
     },
     "metadata": {
      "needs_background": "light"
     },
     "output_type": "display_data"
    }
   ],
   "source": [
    "plt.figure(1)\n",
    "\n",
    "plt.subplot(211)\n",
    "\n",
    "plt.plot(history.history['loss'])\n",
    "plt.plot(history.history['val_loss'])\n",
    "plt.title('model loss')\n",
    "plt.ylabel('loss')\n",
    "plt.xlabel('epoch')\n",
    "plt.legend(['training', 'validation'],loc='upper left')\n",
    "\n",
    "plt.tight_layout()\n",
    "plt.show()"
   ]
  }
 ],
 "metadata": {
  "kernelspec": {
   "display_name": "Python 3",
   "language": "python",
   "name": "python3"
  },
  "language_info": {
   "codemirror_mode": {
    "name": "ipython",
    "version": 3
   },
   "file_extension": ".py",
   "mimetype": "text/x-python",
   "name": "python",
   "nbconvert_exporter": "python",
   "pygments_lexer": "ipython3",
   "version": "3.7.6"
  }
 },
 "nbformat": 4,
 "nbformat_minor": 4
}
