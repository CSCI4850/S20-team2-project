{
 "cells": [
  {
   "cell_type": "markdown",
   "metadata": {
    "colab_type": "text",
    "id": "hKrGhUgFy6mk"
   },
   "source": [
    "# Convolution Net"
   ]
  },
  {
   "cell_type": "code",
   "execution_count": 1,
   "metadata": {
    "colab": {
     "base_uri": "https://localhost:8080/",
     "height": 128
    },
    "colab_type": "code",
    "executionInfo": {
     "elapsed": 27477,
     "status": "ok",
     "timestamp": 1588610169640,
     "user": {
      "displayName": "TiraniceD W",
      "photoUrl": "",
      "userId": "08898756779555237454"
     },
     "user_tz": 300
    },
    "id": "wy4PEyX-y9cW",
    "outputId": "a27097d5-4328-4006-c138-e4ea3450676e"
   },
   "outputs": [],
   "source": [
    "# This network was trained in google colab.  To run in jupyterlab change the path for data lookup to jupyterPath\n",
    "#from google.colab import drive\n",
    "#drive.mount('/content/drive')"
   ]
  },
  {
   "cell_type": "markdown",
   "metadata": {
    "colab_type": "text",
    "id": "cm_ABk8ny6mm"
   },
   "source": [
    "## Necessary imports"
   ]
  },
  {
   "cell_type": "code",
   "execution_count": null,
   "metadata": {
    "colab": {},
    "colab_type": "code",
    "id": "BXy7jzgYy6mp"
   },
   "outputs": [],
   "source": [
    "import keras\n",
    "from keras import backend as K\n",
    "import numpy as np\n",
    "import matplotlib.pyplot as plt\n",
    "%matplotlib inline\n",
    "from IPython.display import display\n",
    "from keras.utils.vis_utils import plot_model\n",
    "from keras.preprocessing import image\n",
    "from keras.applications.xception import preprocess_input, decode_predictions"
   ]
  },
  {
   "cell_type": "markdown",
   "metadata": {
    "colab_type": "text",
    "id": "Wc5q7DPxy6m4"
   },
   "source": [
    "## Grab Image Function"
   ]
  },
  {
   "cell_type": "markdown",
   "metadata": {
    "colab_type": "text",
    "id": "pu0DkKTay6m7"
   },
   "source": [
    "No image flattening like in single layer net"
   ]
  },
  {
   "cell_type": "code",
   "execution_count": null,
   "metadata": {
    "colab": {
     "base_uri": "https://localhost:8080/",
     "height": 35
    },
    "colab_type": "code",
    "executionInfo": {
     "elapsed": 11796,
     "status": "ok",
     "timestamp": 1588547704837,
     "user": {
      "displayName": "TiraniceD W",
      "photoUrl": "",
      "userId": "08898756779555237454"
     },
     "user_tz": 300
    },
    "id": "w1S9LC8Py6m9",
    "outputId": "8bc8347f-7cce-4393-bc07-50a0bb478a6d"
   },
   "outputs": [
    {
     "data": {
      "text/plain": [
       "(1000, 100, 100, 1)"
      ]
     },
     "execution_count": 404,
     "metadata": {
      "tags": []
     },
     "output_type": "execute_result"
    }
   ],
   "source": [
    "def grab_image(img_path_base, index, numImages):\n",
    "    #Desired image dimension (image will be square i.e. # by # pixels)\n",
    "    imageDim = 100\n",
    "    \n",
    "    if (index<10):\n",
    "        img_path = img_path_base+\"000\"+str(index)+\"_model.png\"\n",
    "    elif (index<100 and index >=10):\n",
    "        img_path = img_path_base+\"00\"+str(index)+\"_model.png\"\n",
    "    elif (index<1000 and index>=100):\n",
    "        img_path = img_path_base+\"0\"+str(index)+\"_model.png\"\n",
    "    elif (index<10000 and index>=1000):\n",
    "        img_path = img_path_base+str(index)+\"_model.png\"\n",
    "        \n",
    "    img = image.load_img(img_path, target_size=(imageDim, imageDim), color_mode = \"grayscale\")\n",
    "    x = image.img_to_array(img)\n",
    "    x = np.expand_dims(x, axis=0)\n",
    "    x = preprocess_input(x)\n",
    "    return x\n",
    "\n",
    "#Num of images to read in\n",
    "googleImagePath = '/content/drive/My Drive/Colab Notebooks/Demo/miscImgs/'\n",
    "googleScoresPath = '/content/drive/My Drive/Colab Notebooks/Demo/miscImgs/scores/humanScores.txt'\n",
    "\n",
    "jupyterImagePath = 'S20-team2-project/miscImgs'\n",
    "jupyterScoresPath = 'S20-team2-project/miscImgs/scores/humanScores.txt'\n",
    "\n",
    "numImages = 1000\n",
    "X = np.concatenate([grab_image(googleImagePath,i, numImages) for i in range(numImages)]) \n",
    "X /= 255.0\n",
    "\n",
    "X.shape"
   ]
  },
  {
   "cell_type": "markdown",
   "metadata": {
    "colab_type": "text",
    "id": "XEtFbeh_y6nK"
   },
   "source": [
    "## Check an image to make sure it was read in right"
   ]
  },
  {
   "cell_type": "code",
   "execution_count": null,
   "metadata": {
    "colab": {
     "base_uri": "https://localhost:8080/",
     "height": 268
    },
    "colab_type": "code",
    "executionInfo": {
     "elapsed": 11765,
     "status": "ok",
     "timestamp": 1588547704842,
     "user": {
      "displayName": "TiraniceD W",
      "photoUrl": "",
      "userId": "08898756779555237454"
     },
     "user_tz": 300
    },
    "id": "if04QHZxy6nO",
    "outputId": "c4429845-e31c-4fff-f25a-ea9b0b816603"
   },
   "outputs": [
    {
     "data": {
      "image/png": "[encoded data removed]",
      "text/plain": [
       "<Figure size 432x288 with 1 Axes>"
      ]
     },
     "metadata": {
      "needs_background": "light",
      "tags": []
     },
     "output_type": "display_data"
    }
   ],
   "source": [
    "plt.imshow(image.array_to_img(X[45,:,:,:]), cmap='Greys_r')\n",
    "plt.show()"
   ]
  },
  {
   "cell_type": "markdown",
   "metadata": {
    "colab_type": "text",
    "id": "eAJXaeijy6nd"
   },
   "source": [
    "## Load in model scores"
   ]
  },
  {
   "cell_type": "code",
   "execution_count": null,
   "metadata": {
    "colab": {
     "base_uri": "https://localhost:8080/",
     "height": 72
    },
    "colab_type": "code",
    "executionInfo": {
     "elapsed": 11736,
     "status": "ok",
     "timestamp": 1588547704846,
     "user": {
      "displayName": "TiraniceD W",
      "photoUrl": "",
      "userId": "08898756779555237454"
     },
     "user_tz": 300
    },
    "id": "0fCZYczuy6ni",
    "outputId": "dd9d9a5f-4ff1-4d76-b4b7-174b5ac89494"
   },
   "outputs": [
    {
     "data": {
      "text/plain": [
       "array([0.945946, 0.941176, 0.918919, 0.916667, 0.916667, 0.914286,\n",
       "       0.914286, 0.911765, 0.891892, 0.885714])"
      ]
     },
     "metadata": {
      "tags": []
     },
     "output_type": "display_data"
    },
    {
     "data": {
      "text/plain": [
       "(1000,)"
      ]
     },
     "metadata": {
      "tags": []
     },
     "output_type": "display_data"
    }
   ],
   "source": [
    "Y = np.loadtxt(googleScoresPath)\n",
    "Y=Y[0:numImages]\n",
    "display(Y[0:10])\n",
    "display(Y.shape)"
   ]
  },
  {
   "cell_type": "markdown",
   "metadata": {
    "colab_type": "text",
    "id": "Zv6W3TaFy6n1"
   },
   "source": [
    "## Shuffle model images and scores"
   ]
  },
  {
   "cell_type": "code",
   "execution_count": null,
   "metadata": {
    "colab": {
     "base_uri": "https://localhost:8080/",
     "height": 53
    },
    "colab_type": "code",
    "executionInfo": {
     "elapsed": 11716,
     "status": "ok",
     "timestamp": 1588547704847,
     "user": {
      "displayName": "TiraniceD W",
      "photoUrl": "",
      "userId": "08898756779555237454"
     },
     "user_tz": 300
    },
    "id": "7kVqwNWHy6n4",
    "outputId": "95b680c3-38da-45ba-b7f3-90c6a7219d77"
   },
   "outputs": [
    {
     "data": {
      "text/plain": [
       "(1000, 100, 100, 1)"
      ]
     },
     "metadata": {
      "tags": []
     },
     "output_type": "display_data"
    },
    {
     "data": {
      "text/plain": [
       "(1000,)"
      ]
     },
     "metadata": {
      "tags": []
     },
     "output_type": "display_data"
    }
   ],
   "source": [
    "p = np.random.permutation(len(X))\n",
    "Xshuffled = X[p]\n",
    "Yshuffled = Y[p]\n",
    "\n",
    "display(Xshuffled.shape)\n",
    "display(Yshuffled.shape)"
   ]
  },
  {
   "cell_type": "markdown",
   "metadata": {
    "colab_type": "text",
    "id": "fKnjQ5oIy6oD"
   },
   "source": [
    "## Show image and score to verify that they were shuffled with link between model and corresponding score intact"
   ]
  },
  {
   "cell_type": "code",
   "execution_count": null,
   "metadata": {
    "colab": {
     "base_uri": "https://localhost:8080/",
     "height": 286
    },
    "colab_type": "code",
    "executionInfo": {
     "elapsed": 11706,
     "status": "ok",
     "timestamp": 1588547704850,
     "user": {
      "displayName": "TiraniceD W",
      "photoUrl": "",
      "userId": "08898756779555237454"
     },
     "user_tz": 300
    },
    "id": "4iKA2xv-y6oF",
    "outputId": "4f110739-4a1e-4765-b47c-6e4e56cd45f6"
   },
   "outputs": [
    {
     "data": {
      "image/png": "[encoded data removed]",
      "text/plain": [
       "<Figure size 432x288 with 1 Axes>"
      ]
     },
     "metadata": {
      "needs_background": "light",
      "tags": []
     },
     "output_type": "display_data"
    },
    {
     "data": {
      "text/plain": [
       "0.558824"
      ]
     },
     "metadata": {
      "tags": []
     },
     "output_type": "display_data"
    }
   ],
   "source": [
    "plt.imshow(image.array_to_img(Xshuffled[0,:,:,:]), cmap='Greys_r')\n",
    "plt.show()\n",
    "display(Yshuffled[0])"
   ]
  },
  {
   "cell_type": "markdown",
   "metadata": {
    "colab_type": "text",
    "id": "-aSrFYgIy6oM"
   },
   "source": [
    "## Split into training and test data (85% for training and validation)"
   ]
  },
  {
   "cell_type": "code",
   "execution_count": null,
   "metadata": {
    "colab": {
     "base_uri": "https://localhost:8080/",
     "height": 90
    },
    "colab_type": "code",
    "executionInfo": {
     "elapsed": 12230,
     "status": "ok",
     "timestamp": 1588547705392,
     "user": {
      "displayName": "TiraniceD W",
      "photoUrl": "",
      "userId": "08898756779555237454"
     },
     "user_tz": 300
    },
    "id": "gJQHCcrvy6oM",
    "outputId": "c32c8d57-abe9-48f8-eb9b-e858c98b15a2"
   },
   "outputs": [
    {
     "data": {
      "text/plain": [
       "(850, 100, 100, 1)"
      ]
     },
     "metadata": {
      "tags": []
     },
     "output_type": "display_data"
    },
    {
     "data": {
      "text/plain": [
       "(850,)"
      ]
     },
     "metadata": {
      "tags": []
     },
     "output_type": "display_data"
    },
    {
     "data": {
      "text/plain": [
       "(150, 100, 100, 1)"
      ]
     },
     "metadata": {
      "tags": []
     },
     "output_type": "display_data"
    },
    {
     "data": {
      "text/plain": [
       "(150,)"
      ]
     },
     "metadata": {
      "tags": []
     },
     "output_type": "display_data"
    }
   ],
   "source": [
    "x_train = Xshuffled[0:(round(numImages*.85)),:,:]\n",
    "y_train = Yshuffled[0:(round(numImages*.85))]\n",
    "x_test = Xshuffled[(round(numImages*.85)): , : , :]\n",
    "y_test = Yshuffled[(round(numImages*.85)):]\n",
    "\n",
    "display(x_train.shape)\n",
    "display(y_train.shape)\n",
    "display(x_test.shape)\n",
    "display(y_test.shape)"
   ]
  },
  {
   "cell_type": "markdown",
   "metadata": {
    "colab_type": "text",
    "id": "NlDCNkJgy6oU"
   },
   "source": [
    "## Build net and generate image of architecture\n",
    "In order for the model to learn the images correctly it must be able to detect both the models that fail to form the bridge feature as well as the models that form wild distortions that appear in the perifery of the image.  To facilitate this:\n",
    "- 12x12 filters is used as this would capture the center of the bridge.\n",
    "- This is followed by 8x8 filters in order to capture fine details.\n",
    "  - This appears to be most useful in detecting which areas should likely have any feature at all or none at all.\n",
    "- No padding is used in this block as the model trains better when allowed to throw away the the overrun.\n",
    "- In block two the filters are sized such that they fit the bounds of the image perfectly.\n",
    "- This block is ment to train the model on more fine details.\n",
    "  - Without this block the model has difficulty distinguishing between the differen qualityies of images contain a bridge.\n",
    "  - This improves its preformance when given chaotic collisions that have a bridge."
   ]
  },
  {
   "cell_type": "code",
   "execution_count": null,
   "metadata": {
    "colab": {
     "base_uri": "https://localhost:8080/",
     "height": 598
    },
    "colab_type": "code",
    "executionInfo": {
     "elapsed": 2647,
     "status": "ok",
     "timestamp": 1588550693612,
     "user": {
      "displayName": "TiraniceD W",
      "photoUrl": "",
      "userId": "08898756779555237454"
     },
     "user_tz": 300
    },
    "id": "PKo_fuVfy6oW",
    "outputId": "2d3dd71b-0106-432e-a2dc-99dfe4194237"
   },
   "outputs": [
    {
     "name": "stdout",
     "output_type": "stream",
     "text": [
      "Model: \"sequential_21\"\n",
      "_________________________________________________________________\n",
      "Layer (type)                 Output Shape              Param #   \n",
      "=================================================================\n",
      "conv2d_83 (Conv2D)           (None, 89, 89, 16)        2320      \n",
      "_________________________________________________________________\n",
      "conv2d_84 (Conv2D)           (None, 82, 82, 32)        32800     \n",
      "_________________________________________________________________\n",
      "max_pooling2d_40 (MaxPooling (None, 41, 41, 32)        0         \n",
      "_________________________________________________________________\n",
      "dropout_58 (Dropout)         (None, 41, 41, 32)        0         \n",
      "_________________________________________________________________\n",
      "conv2d_85 (Conv2D)           (None, 32, 32, 32)        102432    \n",
      "_________________________________________________________________\n",
      "conv2d_86 (Conv2D)           (None, 28, 28, 64)        51264     \n",
      "_________________________________________________________________\n",
      "max_pooling2d_41 (MaxPooling (None, 14, 14, 64)        0         \n",
      "_________________________________________________________________\n",
      "dropout_59 (Dropout)         (None, 14, 14, 64)        0         \n",
      "_________________________________________________________________\n",
      "flatten_19 (Flatten)         (None, 12544)             0         \n",
      "_________________________________________________________________\n",
      "dense_37 (Dense)             (None, 32)                401440    \n",
      "_________________________________________________________________\n",
      "dropout_60 (Dropout)         (None, 32)                0         \n",
      "_________________________________________________________________\n",
      "dense_38 (Dense)             (None, 1)                 33        \n",
      "=================================================================\n",
      "Total params: 590,289\n",
      "Trainable params: 590,289\n",
      "Non-trainable params: 0\n",
      "_________________________________________________________________\n"
     ]
    }
   ],
   "source": [
    "model = keras.Sequential()\n",
    "# Block One\n",
    "model.add(keras.layers.Conv2D(filters=16,\n",
    "                              kernel_size=(12, 12),\n",
    "                              activation='relu',\n",
    "                              input_shape=[x_test.shape[1],\n",
    "                                           x_test.shape[2],\n",
    "                                           x_test.shape[3]\n",
    "                                           ]\n",
    "                              ))\n",
    "model.add(keras.layers.Conv2D(filters=32, \n",
    "                              kernel_size=(8, 8), \n",
    "                              activation='relu'\n",
    "                              ))\n",
    "model.add(keras.layers.MaxPooling2D(pool_size=(2, 2)))\n",
    "model.add(keras.layers.Dropout(.5))\n",
    "\n",
    "# Block Two\n",
    "model.add(keras.layers.Conv2D(filters=32, \n",
    "                              kernel_size=(10, 10),\n",
    "                              activation='relu',\n",
    "                              input_shape=[x_test.shape[1],\n",
    "                                           x_test.shape[2],\n",
    "                                           x_test.shape[3]\n",
    "                                           ]\n",
    "                              ))\n",
    "model.add(keras.layers.Conv2D(filters=64,\n",
    "                              kernel_size=(5, 5), \n",
    "                              activation='relu'\n",
    "                              ))\n",
    "model.add(keras.layers.MaxPooling2D(pool_size=(2, 2)))\n",
    "model.add(keras.layers.Dropout(.5))\n",
    "\n",
    "# Flatten and Generate Output\n",
    "model.add(keras.layers.Flatten())\n",
    "model.add(keras.layers.Dense(units=32,\n",
    "                             activation='relu'\n",
    "                             ))\n",
    "model.add(keras.layers.Dropout(0.5))\n",
    "model.add(keras.layers.Dense(units=1,\n",
    "                             activation=keras.activations.sigmoid\n",
    "                             ))\n",
    "\n",
    "model.compile(loss=keras.losses.mean_squared_error,\n",
    "              optimizer=keras.optimizers.Adam(learning_rate=1e-4),\n",
    "              metrics=['mse']\n",
    "              )\n",
    "model.summary()"
   ]
  },
  {
   "cell_type": "code",
   "execution_count": null,
   "metadata": {
    "colab": {
     "base_uri": "https://localhost:8080/",
     "height": 1000
    },
    "colab_type": "code",
    "executionInfo": {
     "elapsed": 4617,
     "status": "ok",
     "timestamp": 1588550695613,
     "user": {
      "displayName": "TiraniceD W",
      "photoUrl": "",
      "userId": "08898756779555237454"
     },
     "user_tz": 300
    },
    "id": "bPc04expy6og",
    "outputId": "4dac666d-8c72-4dcb-8e92-29712069b68a"
   },
   "outputs": [
    {
     "data": {
      "image/png": "[encoded data removed]",
      "text/plain": [
       "<IPython.core.display.Image object>"
      ]
     },
     "execution_count": 505,
     "metadata": {
      "tags": []
     },
     "output_type": "execute_result"
    }
   ],
   "source": [
    "plot_model(model,to_file='convNet.png',show_shapes=True,expand_nested=True)"
   ]
  },
  {
   "cell_type": "markdown",
   "metadata": {
    "colab_type": "text",
    "id": "cmlnYk7Fy6on"
   },
   "source": [
    "## Train it"
   ]
  },
  {
   "cell_type": "code",
   "execution_count": null,
   "metadata": {
    "colab": {
     "base_uri": "https://localhost:8080/",
     "height": 1000
    },
    "colab_type": "code",
    "executionInfo": {
     "elapsed": 192586,
     "status": "ok",
     "timestamp": 1588550883613,
     "user": {
      "displayName": "TiraniceD W",
      "photoUrl": "",
      "userId": "08898756779555237454"
     },
     "user_tz": 300
    },
    "id": "Ke9s5UHVy6oo",
    "outputId": "01a715cb-c6c9-4a01-cb59-c19402bf5b29"
   },
   "outputs": [
    {
     "name": "stdout",
     "output_type": "stream",
     "text": [
      "Train on 850 samples, validate on 150 samples\n",
      "Epoch 1/500\n",
      "850/850 [==============================] - 1s 763us/step - loss: 0.0908 - mse: 0.0908 - val_loss: 0.0405 - val_mse: 0.0405\n",
      "Epoch 2/500\n",
      "850/850 [==============================] - 0s 437us/step - loss: 0.0527 - mse: 0.0527 - val_loss: 0.0364 - val_mse: 0.0364\n",
      "Epoch 3/500\n",
      "850/850 [==============================] - 0s 433us/step - loss: 0.0506 - mse: 0.0506 - val_loss: 0.0382 - val_mse: 0.0382\n",
      "Epoch 4/500\n",
      "850/850 [==============================] - 0s 446us/step - loss: 0.0504 - mse: 0.0504 - val_loss: 0.0371 - val_mse: 0.0371\n",
      "Epoch 5/500\n",
      "850/850 [==============================] - 0s 451us/step - loss: 0.0494 - mse: 0.0494 - val_loss: 0.0380 - val_mse: 0.0380\n",
      "Epoch 6/500\n",
      "850/850 [==============================] - 0s 438us/step - loss: 0.0520 - mse: 0.0520 - val_loss: 0.0416 - val_mse: 0.0416\n",
      "Epoch 7/500\n",
      "850/850 [==============================] - 0s 449us/step - loss: 0.0493 - mse: 0.0493 - val_loss: 0.0405 - val_mse: 0.0405\n",
      "Epoch 8/500\n",
      "850/850 [==============================] - 0s 447us/step - loss: 0.0499 - mse: 0.0499 - val_loss: 0.0378 - val_mse: 0.0378\n",
      "Epoch 9/500\n",
      "850/850 [==============================] - 0s 442us/step - loss: 0.0503 - mse: 0.0503 - val_loss: 0.0415 - val_mse: 0.0415\n",
      "Epoch 10/500\n",
      "850/850 [==============================] - 0s 441us/step - loss: 0.0486 - mse: 0.0486 - val_loss: 0.0402 - val_mse: 0.0402\n",
      "Epoch 11/500\n",
      "850/850 [==============================] - 0s 443us/step - loss: 0.0489 - mse: 0.0489 - val_loss: 0.0385 - val_mse: 0.0385\n",
      "Epoch 12/500\n",
      "850/850 [==============================] - 0s 437us/step - loss: 0.0507 - mse: 0.0507 - val_loss: 0.0368 - val_mse: 0.0368\n",
      "Epoch 13/500\n",
      "850/850 [==============================] - 0s 443us/step - loss: 0.0496 - mse: 0.0496 - val_loss: 0.0361 - val_mse: 0.0361\n",
      "Epoch 14/500\n",
      "850/850 [==============================] - 0s 436us/step - loss: 0.0511 - mse: 0.0511 - val_loss: 0.0365 - val_mse: 0.0365\n",
      "Epoch 15/500\n",
      "850/850 [==============================] - 0s 438us/step - loss: 0.0486 - mse: 0.0486 - val_loss: 0.0390 - val_mse: 0.0390\n",
      "Epoch 16/500\n",
      "850/850 [==============================] - 0s 437us/step - loss: 0.0498 - mse: 0.0498 - val_loss: 0.0388 - val_mse: 0.0388\n",
      "Epoch 17/500\n",
      "850/850 [==============================] - 0s 437us/step - loss: 0.0500 - mse: 0.0500 - val_loss: 0.0363 - val_mse: 0.0363\n",
      "Epoch 18/500\n",
      "850/850 [==============================] - 0s 437us/step - loss: 0.0490 - mse: 0.0490 - val_loss: 0.0359 - val_mse: 0.0359\n",
      "Epoch 19/500\n",
      "850/850 [==============================] - 0s 435us/step - loss: 0.0494 - mse: 0.0494 - val_loss: 0.0359 - val_mse: 0.0359\n",
      "Epoch 20/500\n",
      "850/850 [==============================] - 0s 444us/step - loss: 0.0490 - mse: 0.0490 - val_loss: 0.0388 - val_mse: 0.0388\n",
      "Epoch 21/500\n",
      "850/850 [==============================] - 0s 441us/step - loss: 0.0484 - mse: 0.0484 - val_loss: 0.0358 - val_mse: 0.0358\n",
      "Epoch 22/500\n",
      "850/850 [==============================] - 0s 440us/step - loss: 0.0497 - mse: 0.0497 - val_loss: 0.0356 - val_mse: 0.0356\n",
      "Epoch 23/500\n",
      "850/850 [==============================] - 0s 438us/step - loss: 0.0475 - mse: 0.0475 - val_loss: 0.0361 - val_mse: 0.0361\n",
      "Epoch 24/500\n",
      "850/850 [==============================] - 0s 446us/step - loss: 0.0481 - mse: 0.0481 - val_loss: 0.0369 - val_mse: 0.0369\n",
      "Epoch 25/500\n",
      "850/850 [==============================] - 0s 430us/step - loss: 0.0482 - mse: 0.0482 - val_loss: 0.0353 - val_mse: 0.0353\n",
      "Epoch 26/500\n",
      "850/850 [==============================] - 0s 435us/step - loss: 0.0482 - mse: 0.0482 - val_loss: 0.0349 - val_mse: 0.0349\n",
      "Epoch 27/500\n",
      "850/850 [==============================] - 0s 434us/step - loss: 0.0481 - mse: 0.0481 - val_loss: 0.0355 - val_mse: 0.0355\n",
      "Epoch 28/500\n",
      "850/850 [==============================] - 0s 434us/step - loss: 0.0475 - mse: 0.0475 - val_loss: 0.0348 - val_mse: 0.0348\n",
      "Epoch 29/500\n",
      "850/850 [==============================] - 0s 441us/step - loss: 0.0488 - mse: 0.0488 - val_loss: 0.0387 - val_mse: 0.0387\n",
      "Epoch 30/500\n",
      "850/850 [==============================] - 0s 437us/step - loss: 0.0480 - mse: 0.0480 - val_loss: 0.0343 - val_mse: 0.0343\n",
      "Epoch 31/500\n",
      "850/850 [==============================] - 0s 433us/step - loss: 0.0471 - mse: 0.0471 - val_loss: 0.0340 - val_mse: 0.0340\n",
      "Epoch 32/500\n",
      "850/850 [==============================] - 0s 444us/step - loss: 0.0474 - mse: 0.0474 - val_loss: 0.0321 - val_mse: 0.0321\n",
      "Epoch 33/500\n",
      "850/850 [==============================] - 0s 434us/step - loss: 0.0444 - mse: 0.0444 - val_loss: 0.0299 - val_mse: 0.0299\n",
      "Epoch 34/500\n",
      "850/850 [==============================] - 0s 436us/step - loss: 0.0417 - mse: 0.0417 - val_loss: 0.0346 - val_mse: 0.0346\n",
      "Epoch 35/500\n",
      "850/850 [==============================] - 0s 438us/step - loss: 0.0365 - mse: 0.0365 - val_loss: 0.0216 - val_mse: 0.0216\n",
      "Epoch 36/500\n",
      "850/850 [==============================] - 0s 431us/step - loss: 0.0293 - mse: 0.0293 - val_loss: 0.0195 - val_mse: 0.0195\n",
      "Epoch 37/500\n",
      "850/850 [==============================] - 0s 436us/step - loss: 0.0263 - mse: 0.0263 - val_loss: 0.0186 - val_mse: 0.0186\n",
      "Epoch 38/500\n",
      "850/850 [==============================] - 0s 441us/step - loss: 0.0225 - mse: 0.0225 - val_loss: 0.0180 - val_mse: 0.0180\n",
      "Epoch 39/500\n",
      "850/850 [==============================] - 0s 434us/step - loss: 0.0240 - mse: 0.0240 - val_loss: 0.0184 - val_mse: 0.0184\n",
      "Epoch 40/500\n",
      "850/850 [==============================] - 0s 443us/step - loss: 0.0222 - mse: 0.0222 - val_loss: 0.0190 - val_mse: 0.0190\n",
      "Epoch 41/500\n",
      "850/850 [==============================] - 0s 436us/step - loss: 0.0213 - mse: 0.0213 - val_loss: 0.0182 - val_mse: 0.0182\n",
      "Epoch 42/500\n",
      "850/850 [==============================] - 0s 441us/step - loss: 0.0217 - mse: 0.0217 - val_loss: 0.0181 - val_mse: 0.0181\n",
      "Epoch 43/500\n",
      "850/850 [==============================] - 0s 448us/step - loss: 0.0207 - mse: 0.0207 - val_loss: 0.0180 - val_mse: 0.0180\n",
      "Epoch 44/500\n",
      "850/850 [==============================] - 0s 433us/step - loss: 0.0208 - mse: 0.0208 - val_loss: 0.0195 - val_mse: 0.0195\n",
      "Epoch 45/500\n",
      "850/850 [==============================] - 0s 438us/step - loss: 0.0205 - mse: 0.0205 - val_loss: 0.0187 - val_mse: 0.0187\n",
      "Epoch 46/500\n",
      "850/850 [==============================] - 0s 442us/step - loss: 0.0206 - mse: 0.0206 - val_loss: 0.0178 - val_mse: 0.0178\n",
      "Epoch 47/500\n",
      "850/850 [==============================] - 0s 435us/step - loss: 0.0187 - mse: 0.0187 - val_loss: 0.0179 - val_mse: 0.0179\n",
      "Epoch 48/500\n",
      "850/850 [==============================] - 0s 441us/step - loss: 0.0198 - mse: 0.0198 - val_loss: 0.0184 - val_mse: 0.0184\n",
      "Epoch 49/500\n",
      "850/850 [==============================] - 0s 436us/step - loss: 0.0206 - mse: 0.0206 - val_loss: 0.0176 - val_mse: 0.0176\n",
      "Epoch 50/500\n",
      "850/850 [==============================] - 0s 431us/step - loss: 0.0195 - mse: 0.0195 - val_loss: 0.0172 - val_mse: 0.0172\n",
      "Epoch 51/500\n",
      "850/850 [==============================] - 0s 446us/step - loss: 0.0200 - mse: 0.0200 - val_loss: 0.0179 - val_mse: 0.0179\n",
      "Epoch 52/500\n",
      "850/850 [==============================] - 0s 432us/step - loss: 0.0186 - mse: 0.0186 - val_loss: 0.0190 - val_mse: 0.0190\n",
      "Epoch 53/500\n",
      "850/850 [==============================] - 0s 441us/step - loss: 0.0187 - mse: 0.0187 - val_loss: 0.0176 - val_mse: 0.0176\n",
      "Epoch 54/500\n",
      "850/850 [==============================] - 0s 439us/step - loss: 0.0177 - mse: 0.0177 - val_loss: 0.0179 - val_mse: 0.0179\n",
      "Epoch 55/500\n",
      "850/850 [==============================] - 0s 433us/step - loss: 0.0208 - mse: 0.0208 - val_loss: 0.0177 - val_mse: 0.0177\n",
      "Epoch 56/500\n",
      "850/850 [==============================] - 0s 442us/step - loss: 0.0207 - mse: 0.0207 - val_loss: 0.0188 - val_mse: 0.0188\n",
      "Epoch 57/500\n",
      "850/850 [==============================] - 0s 437us/step - loss: 0.0197 - mse: 0.0197 - val_loss: 0.0168 - val_mse: 0.0168\n",
      "Epoch 58/500\n",
      "850/850 [==============================] - 0s 437us/step - loss: 0.0191 - mse: 0.0191 - val_loss: 0.0175 - val_mse: 0.0175\n",
      "Epoch 59/500\n",
      "850/850 [==============================] - 0s 441us/step - loss: 0.0177 - mse: 0.0177 - val_loss: 0.0174 - val_mse: 0.0174\n",
      "Epoch 60/500\n",
      "850/850 [==============================] - 0s 433us/step - loss: 0.0188 - mse: 0.0188 - val_loss: 0.0183 - val_mse: 0.0183\n",
      "Epoch 61/500\n",
      "850/850 [==============================] - 0s 432us/step - loss: 0.0175 - mse: 0.0175 - val_loss: 0.0167 - val_mse: 0.0167\n",
      "Epoch 62/500\n",
      "850/850 [==============================] - 0s 438us/step - loss: 0.0179 - mse: 0.0179 - val_loss: 0.0169 - val_mse: 0.0169\n",
      "Epoch 63/500\n",
      "850/850 [==============================] - 0s 438us/step - loss: 0.0191 - mse: 0.0191 - val_loss: 0.0186 - val_mse: 0.0186\n",
      "Epoch 64/500\n",
      "850/850 [==============================] - 0s 443us/step - loss: 0.0178 - mse: 0.0178 - val_loss: 0.0168 - val_mse: 0.0168\n",
      "Epoch 65/500\n",
      "850/850 [==============================] - 0s 436us/step - loss: 0.0170 - mse: 0.0170 - val_loss: 0.0174 - val_mse: 0.0174\n",
      "Epoch 66/500\n",
      "850/850 [==============================] - 0s 438us/step - loss: 0.0180 - mse: 0.0180 - val_loss: 0.0164 - val_mse: 0.0164\n",
      "Epoch 67/500\n",
      "850/850 [==============================] - 0s 446us/step - loss: 0.0178 - mse: 0.0178 - val_loss: 0.0166 - val_mse: 0.0166\n",
      "Epoch 68/500\n",
      "850/850 [==============================] - 0s 436us/step - loss: 0.0186 - mse: 0.0186 - val_loss: 0.0165 - val_mse: 0.0165\n",
      "Epoch 69/500\n",
      "850/850 [==============================] - 0s 442us/step - loss: 0.0166 - mse: 0.0166 - val_loss: 0.0172 - val_mse: 0.0172\n",
      "Epoch 70/500\n",
      "850/850 [==============================] - 0s 438us/step - loss: 0.0163 - mse: 0.0163 - val_loss: 0.0164 - val_mse: 0.0164\n",
      "Epoch 71/500\n",
      "850/850 [==============================] - 0s 439us/step - loss: 0.0173 - mse: 0.0173 - val_loss: 0.0172 - val_mse: 0.0172\n",
      "Epoch 72/500\n",
      "850/850 [==============================] - 0s 433us/step - loss: 0.0167 - mse: 0.0167 - val_loss: 0.0164 - val_mse: 0.0164\n",
      "Epoch 73/500\n",
      "850/850 [==============================] - 0s 441us/step - loss: 0.0168 - mse: 0.0168 - val_loss: 0.0160 - val_mse: 0.0160\n",
      "Epoch 74/500\n",
      "850/850 [==============================] - 0s 435us/step - loss: 0.0186 - mse: 0.0186 - val_loss: 0.0161 - val_mse: 0.0161\n",
      "Epoch 75/500\n",
      "850/850 [==============================] - 0s 446us/step - loss: 0.0168 - mse: 0.0168 - val_loss: 0.0162 - val_mse: 0.0162\n",
      "Epoch 76/500\n",
      "850/850 [==============================] - 0s 434us/step - loss: 0.0157 - mse: 0.0157 - val_loss: 0.0165 - val_mse: 0.0165\n",
      "Epoch 77/500\n",
      "850/850 [==============================] - 0s 438us/step - loss: 0.0169 - mse: 0.0169 - val_loss: 0.0158 - val_mse: 0.0158\n",
      "Epoch 78/500\n",
      "850/850 [==============================] - 0s 443us/step - loss: 0.0168 - mse: 0.0168 - val_loss: 0.0161 - val_mse: 0.0161\n",
      "Epoch 79/500\n",
      "850/850 [==============================] - 0s 437us/step - loss: 0.0179 - mse: 0.0179 - val_loss: 0.0171 - val_mse: 0.0171\n",
      "Epoch 80/500\n",
      "850/850 [==============================] - 0s 439us/step - loss: 0.0172 - mse: 0.0172 - val_loss: 0.0159 - val_mse: 0.0159\n",
      "Epoch 81/500\n",
      "850/850 [==============================] - 0s 444us/step - loss: 0.0161 - mse: 0.0161 - val_loss: 0.0167 - val_mse: 0.0167\n",
      "Epoch 82/500\n",
      "850/850 [==============================] - 0s 437us/step - loss: 0.0164 - mse: 0.0164 - val_loss: 0.0159 - val_mse: 0.0159\n",
      "Epoch 83/500\n",
      "850/850 [==============================] - 0s 437us/step - loss: 0.0157 - mse: 0.0157 - val_loss: 0.0166 - val_mse: 0.0166\n",
      "Epoch 84/500\n",
      "850/850 [==============================] - 0s 438us/step - loss: 0.0160 - mse: 0.0160 - val_loss: 0.0161 - val_mse: 0.0161\n",
      "Epoch 85/500\n",
      "850/850 [==============================] - 0s 430us/step - loss: 0.0155 - mse: 0.0155 - val_loss: 0.0176 - val_mse: 0.0176\n",
      "Epoch 86/500\n",
      "850/850 [==============================] - 0s 440us/step - loss: 0.0159 - mse: 0.0159 - val_loss: 0.0178 - val_mse: 0.0178\n",
      "Epoch 87/500\n",
      "850/850 [==============================] - 0s 432us/step - loss: 0.0160 - mse: 0.0160 - val_loss: 0.0164 - val_mse: 0.0164\n",
      "Epoch 88/500\n",
      "850/850 [==============================] - 0s 433us/step - loss: 0.0163 - mse: 0.0163 - val_loss: 0.0171 - val_mse: 0.0171\n",
      "Epoch 89/500\n",
      "850/850 [==============================] - 0s 448us/step - loss: 0.0157 - mse: 0.0157 - val_loss: 0.0155 - val_mse: 0.0155\n",
      "Epoch 90/500\n",
      "850/850 [==============================] - 0s 428us/step - loss: 0.0163 - mse: 0.0163 - val_loss: 0.0164 - val_mse: 0.0164\n",
      "Epoch 91/500\n",
      "850/850 [==============================] - 0s 436us/step - loss: 0.0159 - mse: 0.0159 - val_loss: 0.0153 - val_mse: 0.0153\n",
      "Epoch 92/500\n",
      "850/850 [==============================] - 0s 441us/step - loss: 0.0154 - mse: 0.0154 - val_loss: 0.0151 - val_mse: 0.0151\n",
      "Epoch 93/500\n",
      "850/850 [==============================] - 0s 437us/step - loss: 0.0157 - mse: 0.0157 - val_loss: 0.0153 - val_mse: 0.0153\n",
      "Epoch 94/500\n",
      "850/850 [==============================] - 0s 446us/step - loss: 0.0150 - mse: 0.0150 - val_loss: 0.0157 - val_mse: 0.0157\n",
      "Epoch 95/500\n",
      "850/850 [==============================] - 0s 442us/step - loss: 0.0150 - mse: 0.0150 - val_loss: 0.0166 - val_mse: 0.0166\n",
      "Epoch 96/500\n",
      "850/850 [==============================] - 0s 452us/step - loss: 0.0163 - mse: 0.0163 - val_loss: 0.0157 - val_mse: 0.0157\n",
      "Epoch 97/500\n",
      "850/850 [==============================] - 0s 439us/step - loss: 0.0148 - mse: 0.0148 - val_loss: 0.0161 - val_mse: 0.0161\n",
      "Epoch 98/500\n",
      "850/850 [==============================] - 0s 434us/step - loss: 0.0162 - mse: 0.0162 - val_loss: 0.0169 - val_mse: 0.0169\n",
      "Epoch 99/500\n",
      "850/850 [==============================] - 0s 442us/step - loss: 0.0152 - mse: 0.0152 - val_loss: 0.0154 - val_mse: 0.0154\n",
      "Epoch 100/500\n",
      "850/850 [==============================] - 0s 444us/step - loss: 0.0152 - mse: 0.0152 - val_loss: 0.0155 - val_mse: 0.0155\n",
      "Epoch 101/500\n",
      "850/850 [==============================] - 0s 449us/step - loss: 0.0147 - mse: 0.0147 - val_loss: 0.0155 - val_mse: 0.0155\n",
      "Epoch 102/500\n",
      "850/850 [==============================] - 0s 447us/step - loss: 0.0150 - mse: 0.0150 - val_loss: 0.0165 - val_mse: 0.0165\n",
      "Epoch 103/500\n",
      "850/850 [==============================] - 0s 439us/step - loss: 0.0159 - mse: 0.0159 - val_loss: 0.0153 - val_mse: 0.0153\n",
      "Epoch 104/500\n",
      "850/850 [==============================] - 0s 437us/step - loss: 0.0141 - mse: 0.0141 - val_loss: 0.0152 - val_mse: 0.0152\n",
      "Epoch 105/500\n",
      "850/850 [==============================] - 0s 452us/step - loss: 0.0164 - mse: 0.0164 - val_loss: 0.0165 - val_mse: 0.0165\n",
      "Epoch 106/500\n",
      "850/850 [==============================] - 0s 434us/step - loss: 0.0148 - mse: 0.0148 - val_loss: 0.0153 - val_mse: 0.0153\n",
      "Epoch 107/500\n",
      "850/850 [==============================] - 0s 437us/step - loss: 0.0155 - mse: 0.0155 - val_loss: 0.0180 - val_mse: 0.0180\n",
      "Epoch 108/500\n",
      "850/850 [==============================] - 0s 443us/step - loss: 0.0162 - mse: 0.0162 - val_loss: 0.0151 - val_mse: 0.0151\n",
      "Epoch 109/500\n",
      "850/850 [==============================] - 0s 437us/step - loss: 0.0146 - mse: 0.0146 - val_loss: 0.0151 - val_mse: 0.0151\n",
      "Epoch 110/500\n",
      "850/850 [==============================] - 0s 438us/step - loss: 0.0160 - mse: 0.0160 - val_loss: 0.0149 - val_mse: 0.0149\n",
      "Epoch 111/500\n",
      "850/850 [==============================] - 0s 439us/step - loss: 0.0159 - mse: 0.0159 - val_loss: 0.0147 - val_mse: 0.0147\n",
      "Epoch 112/500\n",
      "850/850 [==============================] - 0s 436us/step - loss: 0.0136 - mse: 0.0136 - val_loss: 0.0149 - val_mse: 0.0149\n",
      "Epoch 113/500\n",
      "850/850 [==============================] - 0s 443us/step - loss: 0.0148 - mse: 0.0148 - val_loss: 0.0150 - val_mse: 0.0150\n",
      "Epoch 114/500\n",
      "850/850 [==============================] - 0s 435us/step - loss: 0.0153 - mse: 0.0153 - val_loss: 0.0149 - val_mse: 0.0149\n",
      "Epoch 115/500\n",
      "850/850 [==============================] - 0s 435us/step - loss: 0.0151 - mse: 0.0151 - val_loss: 0.0148 - val_mse: 0.0148\n",
      "Epoch 116/500\n",
      "850/850 [==============================] - 0s 450us/step - loss: 0.0145 - mse: 0.0145 - val_loss: 0.0157 - val_mse: 0.0157\n",
      "Epoch 117/500\n",
      "850/850 [==============================] - 0s 438us/step - loss: 0.0137 - mse: 0.0137 - val_loss: 0.0148 - val_mse: 0.0148\n",
      "Epoch 118/500\n",
      "850/850 [==============================] - 0s 444us/step - loss: 0.0143 - mse: 0.0143 - val_loss: 0.0166 - val_mse: 0.0166\n",
      "Epoch 119/500\n",
      "850/850 [==============================] - 0s 443us/step - loss: 0.0150 - mse: 0.0150 - val_loss: 0.0147 - val_mse: 0.0147\n",
      "Epoch 120/500\n",
      "850/850 [==============================] - 0s 448us/step - loss: 0.0143 - mse: 0.0143 - val_loss: 0.0151 - val_mse: 0.0151\n",
      "Epoch 121/500\n",
      "850/850 [==============================] - 0s 442us/step - loss: 0.0148 - mse: 0.0148 - val_loss: 0.0153 - val_mse: 0.0153\n",
      "Epoch 122/500\n",
      "850/850 [==============================] - 0s 432us/step - loss: 0.0140 - mse: 0.0140 - val_loss: 0.0148 - val_mse: 0.0148\n",
      "Epoch 123/500\n",
      "850/850 [==============================] - 0s 432us/step - loss: 0.0144 - mse: 0.0144 - val_loss: 0.0146 - val_mse: 0.0146\n",
      "Epoch 124/500\n",
      "850/850 [==============================] - 0s 450us/step - loss: 0.0145 - mse: 0.0145 - val_loss: 0.0153 - val_mse: 0.0153\n",
      "Epoch 125/500\n",
      "850/850 [==============================] - 0s 437us/step - loss: 0.0138 - mse: 0.0138 - val_loss: 0.0146 - val_mse: 0.0146\n",
      "Epoch 126/500\n",
      "850/850 [==============================] - 0s 433us/step - loss: 0.0145 - mse: 0.0145 - val_loss: 0.0152 - val_mse: 0.0152\n",
      "Epoch 127/500\n",
      "850/850 [==============================] - 0s 440us/step - loss: 0.0142 - mse: 0.0142 - val_loss: 0.0150 - val_mse: 0.0150\n",
      "Epoch 128/500\n",
      "850/850 [==============================] - 0s 438us/step - loss: 0.0137 - mse: 0.0137 - val_loss: 0.0151 - val_mse: 0.0151\n",
      "Epoch 129/500\n",
      "850/850 [==============================] - 0s 435us/step - loss: 0.0139 - mse: 0.0139 - val_loss: 0.0143 - val_mse: 0.0143\n",
      "Epoch 130/500\n",
      "850/850 [==============================] - 0s 439us/step - loss: 0.0148 - mse: 0.0148 - val_loss: 0.0140 - val_mse: 0.0140\n",
      "Epoch 131/500\n",
      "850/850 [==============================] - 0s 436us/step - loss: 0.0142 - mse: 0.0142 - val_loss: 0.0164 - val_mse: 0.0164\n",
      "Epoch 132/500\n",
      "850/850 [==============================] - 0s 441us/step - loss: 0.0150 - mse: 0.0150 - val_loss: 0.0164 - val_mse: 0.0164\n",
      "Epoch 133/500\n",
      "850/850 [==============================] - 0s 438us/step - loss: 0.0136 - mse: 0.0136 - val_loss: 0.0154 - val_mse: 0.0154\n",
      "Epoch 134/500\n",
      "850/850 [==============================] - 0s 438us/step - loss: 0.0143 - mse: 0.0143 - val_loss: 0.0141 - val_mse: 0.0141\n",
      "Epoch 135/500\n",
      "850/850 [==============================] - 0s 441us/step - loss: 0.0148 - mse: 0.0148 - val_loss: 0.0154 - val_mse: 0.0154\n",
      "Epoch 136/500\n",
      "850/850 [==============================] - 0s 434us/step - loss: 0.0155 - mse: 0.0155 - val_loss: 0.0150 - val_mse: 0.0150\n",
      "Epoch 137/500\n",
      "850/850 [==============================] - 0s 433us/step - loss: 0.0138 - mse: 0.0138 - val_loss: 0.0148 - val_mse: 0.0148\n",
      "Epoch 138/500\n",
      "850/850 [==============================] - 0s 437us/step - loss: 0.0147 - mse: 0.0147 - val_loss: 0.0143 - val_mse: 0.0143\n",
      "Epoch 139/500\n",
      "850/850 [==============================] - 0s 434us/step - loss: 0.0132 - mse: 0.0132 - val_loss: 0.0136 - val_mse: 0.0136\n",
      "Epoch 140/500\n",
      "850/850 [==============================] - 0s 443us/step - loss: 0.0143 - mse: 0.0143 - val_loss: 0.0134 - val_mse: 0.0134\n",
      "Epoch 141/500\n",
      "850/850 [==============================] - 0s 433us/step - loss: 0.0142 - mse: 0.0142 - val_loss: 0.0138 - val_mse: 0.0138\n",
      "Epoch 142/500\n",
      "850/850 [==============================] - 0s 433us/step - loss: 0.0134 - mse: 0.0134 - val_loss: 0.0139 - val_mse: 0.0139\n",
      "Epoch 143/500\n",
      "850/850 [==============================] - 0s 436us/step - loss: 0.0148 - mse: 0.0148 - val_loss: 0.0139 - val_mse: 0.0139\n",
      "Epoch 144/500\n",
      "850/850 [==============================] - 0s 435us/step - loss: 0.0134 - mse: 0.0134 - val_loss: 0.0148 - val_mse: 0.0148\n",
      "Epoch 145/500\n",
      "850/850 [==============================] - 0s 441us/step - loss: 0.0137 - mse: 0.0137 - val_loss: 0.0137 - val_mse: 0.0137\n",
      "Epoch 146/500\n",
      "850/850 [==============================] - 0s 436us/step - loss: 0.0138 - mse: 0.0138 - val_loss: 0.0153 - val_mse: 0.0153\n",
      "Epoch 147/500\n",
      "850/850 [==============================] - 0s 433us/step - loss: 0.0134 - mse: 0.0134 - val_loss: 0.0144 - val_mse: 0.0144\n",
      "Epoch 148/500\n",
      "850/850 [==============================] - 0s 444us/step - loss: 0.0146 - mse: 0.0146 - val_loss: 0.0144 - val_mse: 0.0144\n",
      "Epoch 149/500\n",
      "850/850 [==============================] - 0s 446us/step - loss: 0.0128 - mse: 0.0128 - val_loss: 0.0136 - val_mse: 0.0136\n",
      "Epoch 150/500\n",
      "850/850 [==============================] - 0s 435us/step - loss: 0.0138 - mse: 0.0138 - val_loss: 0.0133 - val_mse: 0.0133\n",
      "Epoch 151/500\n",
      "850/850 [==============================] - 0s 444us/step - loss: 0.0141 - mse: 0.0141 - val_loss: 0.0141 - val_mse: 0.0141\n",
      "Epoch 152/500\n",
      "850/850 [==============================] - 0s 441us/step - loss: 0.0139 - mse: 0.0139 - val_loss: 0.0144 - val_mse: 0.0144\n",
      "Epoch 153/500\n",
      "850/850 [==============================] - 0s 440us/step - loss: 0.0135 - mse: 0.0135 - val_loss: 0.0127 - val_mse: 0.0127\n",
      "Epoch 154/500\n",
      "850/850 [==============================] - 0s 438us/step - loss: 0.0137 - mse: 0.0137 - val_loss: 0.0141 - val_mse: 0.0141\n",
      "Epoch 155/500\n",
      "850/850 [==============================] - 0s 436us/step - loss: 0.0127 - mse: 0.0127 - val_loss: 0.0140 - val_mse: 0.0140\n",
      "Epoch 156/500\n",
      "850/850 [==============================] - 0s 442us/step - loss: 0.0147 - mse: 0.0147 - val_loss: 0.0137 - val_mse: 0.0137\n",
      "Epoch 157/500\n",
      "850/850 [==============================] - 0s 441us/step - loss: 0.0142 - mse: 0.0142 - val_loss: 0.0138 - val_mse: 0.0138\n",
      "Epoch 158/500\n",
      "850/850 [==============================] - 0s 437us/step - loss: 0.0134 - mse: 0.0134 - val_loss: 0.0142 - val_mse: 0.0142\n",
      "Epoch 159/500\n",
      "850/850 [==============================] - 0s 444us/step - loss: 0.0133 - mse: 0.0133 - val_loss: 0.0143 - val_mse: 0.0143\n",
      "Epoch 160/500\n",
      "850/850 [==============================] - 0s 435us/step - loss: 0.0127 - mse: 0.0127 - val_loss: 0.0131 - val_mse: 0.0131\n",
      "Epoch 161/500\n",
      "850/850 [==============================] - 0s 439us/step - loss: 0.0134 - mse: 0.0134 - val_loss: 0.0130 - val_mse: 0.0130\n",
      "Epoch 162/500\n",
      "850/850 [==============================] - 0s 441us/step - loss: 0.0128 - mse: 0.0128 - val_loss: 0.0132 - val_mse: 0.0132\n",
      "Epoch 163/500\n",
      "850/850 [==============================] - 0s 433us/step - loss: 0.0134 - mse: 0.0134 - val_loss: 0.0130 - val_mse: 0.0130\n",
      "Epoch 164/500\n",
      "850/850 [==============================] - 0s 438us/step - loss: 0.0137 - mse: 0.0137 - val_loss: 0.0147 - val_mse: 0.0147\n",
      "Epoch 165/500\n",
      "850/850 [==============================] - 0s 438us/step - loss: 0.0118 - mse: 0.0118 - val_loss: 0.0130 - val_mse: 0.0130\n",
      "Epoch 166/500\n",
      "850/850 [==============================] - 0s 440us/step - loss: 0.0127 - mse: 0.0127 - val_loss: 0.0139 - val_mse: 0.0139\n",
      "Epoch 167/500\n",
      "850/850 [==============================] - 0s 436us/step - loss: 0.0130 - mse: 0.0130 - val_loss: 0.0133 - val_mse: 0.0133\n",
      "Epoch 168/500\n",
      "850/850 [==============================] - 0s 442us/step - loss: 0.0125 - mse: 0.0125 - val_loss: 0.0134 - val_mse: 0.0134\n",
      "Epoch 169/500\n",
      "850/850 [==============================] - 0s 434us/step - loss: 0.0126 - mse: 0.0126 - val_loss: 0.0133 - val_mse: 0.0133\n",
      "Epoch 170/500\n",
      "850/850 [==============================] - 0s 447us/step - loss: 0.0125 - mse: 0.0125 - val_loss: 0.0134 - val_mse: 0.0134\n",
      "Epoch 171/500\n",
      "850/850 [==============================] - 0s 435us/step - loss: 0.0131 - mse: 0.0131 - val_loss: 0.0142 - val_mse: 0.0142\n",
      "Epoch 172/500\n",
      "850/850 [==============================] - 0s 441us/step - loss: 0.0128 - mse: 0.0128 - val_loss: 0.0138 - val_mse: 0.0138\n",
      "Epoch 173/500\n",
      "850/850 [==============================] - 0s 441us/step - loss: 0.0119 - mse: 0.0119 - val_loss: 0.0128 - val_mse: 0.0128\n",
      "Epoch 174/500\n",
      "850/850 [==============================] - 0s 433us/step - loss: 0.0131 - mse: 0.0131 - val_loss: 0.0127 - val_mse: 0.0127\n",
      "Epoch 175/500\n",
      "850/850 [==============================] - 0s 438us/step - loss: 0.0130 - mse: 0.0130 - val_loss: 0.0131 - val_mse: 0.0131\n",
      "Epoch 176/500\n",
      "850/850 [==============================] - 0s 435us/step - loss: 0.0124 - mse: 0.0124 - val_loss: 0.0127 - val_mse: 0.0127\n",
      "Epoch 177/500\n",
      "850/850 [==============================] - 0s 437us/step - loss: 0.0130 - mse: 0.0130 - val_loss: 0.0141 - val_mse: 0.0141\n",
      "Epoch 178/500\n",
      "850/850 [==============================] - 0s 433us/step - loss: 0.0128 - mse: 0.0128 - val_loss: 0.0131 - val_mse: 0.0131\n",
      "Epoch 179/500\n",
      "850/850 [==============================] - 0s 439us/step - loss: 0.0125 - mse: 0.0125 - val_loss: 0.0134 - val_mse: 0.0134\n",
      "Epoch 180/500\n",
      "850/850 [==============================] - 0s 445us/step - loss: 0.0134 - mse: 0.0134 - val_loss: 0.0143 - val_mse: 0.0143\n",
      "Epoch 181/500\n",
      "850/850 [==============================] - 0s 441us/step - loss: 0.0127 - mse: 0.0127 - val_loss: 0.0132 - val_mse: 0.0132\n",
      "Epoch 182/500\n",
      "850/850 [==============================] - 0s 437us/step - loss: 0.0125 - mse: 0.0125 - val_loss: 0.0137 - val_mse: 0.0137\n",
      "Epoch 183/500\n",
      "850/850 [==============================] - 0s 441us/step - loss: 0.0138 - mse: 0.0138 - val_loss: 0.0131 - val_mse: 0.0131\n",
      "Epoch 184/500\n",
      "850/850 [==============================] - 0s 441us/step - loss: 0.0129 - mse: 0.0129 - val_loss: 0.0136 - val_mse: 0.0136\n",
      "Epoch 185/500\n",
      "850/850 [==============================] - 0s 433us/step - loss: 0.0122 - mse: 0.0122 - val_loss: 0.0124 - val_mse: 0.0124\n",
      "Epoch 186/500\n",
      "850/850 [==============================] - 0s 435us/step - loss: 0.0119 - mse: 0.0119 - val_loss: 0.0140 - val_mse: 0.0140\n",
      "Epoch 187/500\n",
      "850/850 [==============================] - 0s 443us/step - loss: 0.0124 - mse: 0.0124 - val_loss: 0.0142 - val_mse: 0.0142\n",
      "Epoch 188/500\n",
      "850/850 [==============================] - 0s 436us/step - loss: 0.0139 - mse: 0.0139 - val_loss: 0.0155 - val_mse: 0.0155\n",
      "Epoch 189/500\n",
      "850/850 [==============================] - 0s 438us/step - loss: 0.0127 - mse: 0.0127 - val_loss: 0.0134 - val_mse: 0.0134\n",
      "Epoch 190/500\n",
      "850/850 [==============================] - 0s 437us/step - loss: 0.0132 - mse: 0.0132 - val_loss: 0.0123 - val_mse: 0.0123\n",
      "Epoch 191/500\n",
      "850/850 [==============================] - 0s 432us/step - loss: 0.0122 - mse: 0.0122 - val_loss: 0.0126 - val_mse: 0.0126\n",
      "Epoch 192/500\n",
      "850/850 [==============================] - 0s 440us/step - loss: 0.0130 - mse: 0.0130 - val_loss: 0.0130 - val_mse: 0.0130\n",
      "Epoch 193/500\n",
      "850/850 [==============================] - 0s 439us/step - loss: 0.0125 - mse: 0.0125 - val_loss: 0.0122 - val_mse: 0.0122\n",
      "Epoch 194/500\n",
      "850/850 [==============================] - 0s 441us/step - loss: 0.0128 - mse: 0.0128 - val_loss: 0.0127 - val_mse: 0.0127\n",
      "Epoch 195/500\n",
      "850/850 [==============================] - 0s 443us/step - loss: 0.0127 - mse: 0.0127 - val_loss: 0.0126 - val_mse: 0.0126\n",
      "Epoch 196/500\n",
      "850/850 [==============================] - 0s 431us/step - loss: 0.0123 - mse: 0.0123 - val_loss: 0.0118 - val_mse: 0.0118\n",
      "Epoch 197/500\n",
      "850/850 [==============================] - 0s 436us/step - loss: 0.0121 - mse: 0.0121 - val_loss: 0.0126 - val_mse: 0.0126\n",
      "Epoch 198/500\n",
      "850/850 [==============================] - 0s 442us/step - loss: 0.0115 - mse: 0.0115 - val_loss: 0.0126 - val_mse: 0.0126\n",
      "Epoch 199/500\n",
      "850/850 [==============================] - 0s 438us/step - loss: 0.0125 - mse: 0.0125 - val_loss: 0.0121 - val_mse: 0.0121\n",
      "Epoch 200/500\n",
      "850/850 [==============================] - 0s 439us/step - loss: 0.0121 - mse: 0.0121 - val_loss: 0.0126 - val_mse: 0.0126\n",
      "Epoch 201/500\n",
      "850/850 [==============================] - 0s 433us/step - loss: 0.0128 - mse: 0.0128 - val_loss: 0.0124 - val_mse: 0.0124\n",
      "Epoch 202/500\n",
      "850/850 [==============================] - 0s 440us/step - loss: 0.0113 - mse: 0.0113 - val_loss: 0.0120 - val_mse: 0.0120\n",
      "Epoch 203/500\n",
      "850/850 [==============================] - 0s 438us/step - loss: 0.0119 - mse: 0.0119 - val_loss: 0.0137 - val_mse: 0.0137\n",
      "Epoch 204/500\n",
      "850/850 [==============================] - 0s 440us/step - loss: 0.0117 - mse: 0.0117 - val_loss: 0.0110 - val_mse: 0.0110\n",
      "Epoch 205/500\n",
      "850/850 [==============================] - 0s 438us/step - loss: 0.0125 - mse: 0.0125 - val_loss: 0.0115 - val_mse: 0.0115\n",
      "Epoch 206/500\n",
      "850/850 [==============================] - 0s 446us/step - loss: 0.0118 - mse: 0.0118 - val_loss: 0.0114 - val_mse: 0.0114\n",
      "Epoch 207/500\n",
      "850/850 [==============================] - 0s 447us/step - loss: 0.0119 - mse: 0.0119 - val_loss: 0.0117 - val_mse: 0.0117\n",
      "Epoch 208/500\n",
      "850/850 [==============================] - 0s 437us/step - loss: 0.0126 - mse: 0.0126 - val_loss: 0.0120 - val_mse: 0.0120\n",
      "Epoch 209/500\n",
      "850/850 [==============================] - 0s 433us/step - loss: 0.0111 - mse: 0.0111 - val_loss: 0.0119 - val_mse: 0.0119\n",
      "Epoch 210/500\n",
      "850/850 [==============================] - 0s 439us/step - loss: 0.0118 - mse: 0.0118 - val_loss: 0.0120 - val_mse: 0.0120\n",
      "Epoch 211/500\n",
      "850/850 [==============================] - 0s 442us/step - loss: 0.0116 - mse: 0.0116 - val_loss: 0.0117 - val_mse: 0.0117\n",
      "Epoch 212/500\n",
      "850/850 [==============================] - 0s 433us/step - loss: 0.0116 - mse: 0.0116 - val_loss: 0.0136 - val_mse: 0.0136\n",
      "Epoch 213/500\n",
      "850/850 [==============================] - 0s 447us/step - loss: 0.0119 - mse: 0.0119 - val_loss: 0.0121 - val_mse: 0.0121\n",
      "Epoch 214/500\n",
      "850/850 [==============================] - 0s 441us/step - loss: 0.0112 - mse: 0.0112 - val_loss: 0.0125 - val_mse: 0.0125\n",
      "Epoch 215/500\n",
      "850/850 [==============================] - 0s 435us/step - loss: 0.0120 - mse: 0.0120 - val_loss: 0.0124 - val_mse: 0.0124\n",
      "Epoch 216/500\n",
      "850/850 [==============================] - 0s 440us/step - loss: 0.0126 - mse: 0.0126 - val_loss: 0.0119 - val_mse: 0.0119\n",
      "Epoch 217/500\n",
      "850/850 [==============================] - 0s 436us/step - loss: 0.0112 - mse: 0.0112 - val_loss: 0.0116 - val_mse: 0.0116\n",
      "Epoch 218/500\n",
      "850/850 [==============================] - 0s 441us/step - loss: 0.0123 - mse: 0.0123 - val_loss: 0.0123 - val_mse: 0.0123\n",
      "Epoch 219/500\n",
      "850/850 [==============================] - 0s 442us/step - loss: 0.0121 - mse: 0.0121 - val_loss: 0.0136 - val_mse: 0.0136\n",
      "Epoch 220/500\n",
      "850/850 [==============================] - 0s 431us/step - loss: 0.0123 - mse: 0.0123 - val_loss: 0.0133 - val_mse: 0.0133\n",
      "Epoch 221/500\n",
      "850/850 [==============================] - 0s 438us/step - loss: 0.0115 - mse: 0.0115 - val_loss: 0.0123 - val_mse: 0.0123\n",
      "Epoch 222/500\n",
      "850/850 [==============================] - 0s 448us/step - loss: 0.0115 - mse: 0.0115 - val_loss: 0.0117 - val_mse: 0.0117\n",
      "Epoch 223/500\n",
      "850/850 [==============================] - 0s 442us/step - loss: 0.0124 - mse: 0.0124 - val_loss: 0.0112 - val_mse: 0.0112\n",
      "Epoch 224/500\n",
      "850/850 [==============================] - 0s 434us/step - loss: 0.0117 - mse: 0.0117 - val_loss: 0.0111 - val_mse: 0.0111\n",
      "Epoch 225/500\n",
      "850/850 [==============================] - 0s 444us/step - loss: 0.0119 - mse: 0.0119 - val_loss: 0.0130 - val_mse: 0.0130\n",
      "Epoch 226/500\n",
      "850/850 [==============================] - 0s 434us/step - loss: 0.0115 - mse: 0.0115 - val_loss: 0.0125 - val_mse: 0.0125\n",
      "Epoch 227/500\n",
      "850/850 [==============================] - 0s 443us/step - loss: 0.0110 - mse: 0.0110 - val_loss: 0.0107 - val_mse: 0.0107\n",
      "Epoch 228/500\n",
      "850/850 [==============================] - 0s 429us/step - loss: 0.0107 - mse: 0.0107 - val_loss: 0.0120 - val_mse: 0.0120\n",
      "Epoch 229/500\n",
      "850/850 [==============================] - 0s 440us/step - loss: 0.0113 - mse: 0.0113 - val_loss: 0.0120 - val_mse: 0.0120\n",
      "Epoch 230/500\n",
      "850/850 [==============================] - 0s 438us/step - loss: 0.0115 - mse: 0.0115 - val_loss: 0.0111 - val_mse: 0.0111\n",
      "Epoch 231/500\n",
      "850/850 [==============================] - 0s 436us/step - loss: 0.0117 - mse: 0.0117 - val_loss: 0.0133 - val_mse: 0.0133\n",
      "Epoch 232/500\n",
      "850/850 [==============================] - 0s 436us/step - loss: 0.0115 - mse: 0.0115 - val_loss: 0.0117 - val_mse: 0.0117\n",
      "Epoch 233/500\n",
      "850/850 [==============================] - 0s 437us/step - loss: 0.0118 - mse: 0.0118 - val_loss: 0.0124 - val_mse: 0.0124\n",
      "Epoch 234/500\n",
      "850/850 [==============================] - 0s 437us/step - loss: 0.0113 - mse: 0.0113 - val_loss: 0.0112 - val_mse: 0.0112\n",
      "Epoch 235/500\n",
      "850/850 [==============================] - 0s 436us/step - loss: 0.0118 - mse: 0.0118 - val_loss: 0.0116 - val_mse: 0.0116\n",
      "Epoch 236/500\n",
      "850/850 [==============================] - 0s 440us/step - loss: 0.0112 - mse: 0.0112 - val_loss: 0.0116 - val_mse: 0.0116\n",
      "Epoch 237/500\n",
      "850/850 [==============================] - 0s 447us/step - loss: 0.0117 - mse: 0.0117 - val_loss: 0.0118 - val_mse: 0.0118\n",
      "Epoch 238/500\n",
      "850/850 [==============================] - 0s 443us/step - loss: 0.0119 - mse: 0.0119 - val_loss: 0.0142 - val_mse: 0.0142\n",
      "Epoch 239/500\n",
      "850/850 [==============================] - 0s 437us/step - loss: 0.0129 - mse: 0.0129 - val_loss: 0.0123 - val_mse: 0.0123\n",
      "Epoch 240/500\n",
      "850/850 [==============================] - 0s 438us/step - loss: 0.0116 - mse: 0.0116 - val_loss: 0.0122 - val_mse: 0.0122\n",
      "Epoch 241/500\n",
      "850/850 [==============================] - 0s 438us/step - loss: 0.0117 - mse: 0.0117 - val_loss: 0.0112 - val_mse: 0.0112\n",
      "Epoch 242/500\n",
      "850/850 [==============================] - 0s 437us/step - loss: 0.0114 - mse: 0.0114 - val_loss: 0.0110 - val_mse: 0.0110\n",
      "Epoch 243/500\n",
      "850/850 [==============================] - 0s 436us/step - loss: 0.0121 - mse: 0.0121 - val_loss: 0.0120 - val_mse: 0.0120\n",
      "Epoch 244/500\n",
      "850/850 [==============================] - 0s 439us/step - loss: 0.0112 - mse: 0.0112 - val_loss: 0.0116 - val_mse: 0.0116\n",
      "Epoch 245/500\n",
      "850/850 [==============================] - 0s 438us/step - loss: 0.0110 - mse: 0.0110 - val_loss: 0.0120 - val_mse: 0.0120\n",
      "Epoch 246/500\n",
      "850/850 [==============================] - 0s 434us/step - loss: 0.0113 - mse: 0.0113 - val_loss: 0.0114 - val_mse: 0.0114\n",
      "Epoch 247/500\n",
      "850/850 [==============================] - 0s 447us/step - loss: 0.0117 - mse: 0.0117 - val_loss: 0.0133 - val_mse: 0.0133\n",
      "Epoch 248/500\n",
      "850/850 [==============================] - 0s 434us/step - loss: 0.0118 - mse: 0.0118 - val_loss: 0.0111 - val_mse: 0.0111\n",
      "Epoch 249/500\n",
      "850/850 [==============================] - 0s 446us/step - loss: 0.0117 - mse: 0.0117 - val_loss: 0.0119 - val_mse: 0.0119\n",
      "Epoch 250/500\n",
      "850/850 [==============================] - 0s 436us/step - loss: 0.0112 - mse: 0.0112 - val_loss: 0.0121 - val_mse: 0.0121\n",
      "Epoch 251/500\n",
      "850/850 [==============================] - 0s 436us/step - loss: 0.0105 - mse: 0.0105 - val_loss: 0.0113 - val_mse: 0.0113\n",
      "Epoch 252/500\n",
      "850/850 [==============================] - 0s 439us/step - loss: 0.0109 - mse: 0.0109 - val_loss: 0.0108 - val_mse: 0.0108\n",
      "Epoch 253/500\n",
      "850/850 [==============================] - 0s 437us/step - loss: 0.0121 - mse: 0.0121 - val_loss: 0.0122 - val_mse: 0.0122\n",
      "Epoch 254/500\n",
      "850/850 [==============================] - 0s 436us/step - loss: 0.0112 - mse: 0.0112 - val_loss: 0.0139 - val_mse: 0.0139\n",
      "Epoch 255/500\n",
      "850/850 [==============================] - 0s 437us/step - loss: 0.0120 - mse: 0.0120 - val_loss: 0.0127 - val_mse: 0.0127\n",
      "Epoch 256/500\n",
      "850/850 [==============================] - 0s 440us/step - loss: 0.0123 - mse: 0.0123 - val_loss: 0.0115 - val_mse: 0.0115\n",
      "Epoch 257/500\n",
      "850/850 [==============================] - 0s 438us/step - loss: 0.0126 - mse: 0.0126 - val_loss: 0.0119 - val_mse: 0.0119\n",
      "Epoch 258/500\n",
      "850/850 [==============================] - 0s 444us/step - loss: 0.0117 - mse: 0.0117 - val_loss: 0.0116 - val_mse: 0.0116\n",
      "Epoch 259/500\n",
      "850/850 [==============================] - 0s 434us/step - loss: 0.0113 - mse: 0.0113 - val_loss: 0.0120 - val_mse: 0.0120\n",
      "Epoch 260/500\n",
      "850/850 [==============================] - 0s 436us/step - loss: 0.0107 - mse: 0.0107 - val_loss: 0.0117 - val_mse: 0.0117\n",
      "Epoch 261/500\n",
      "850/850 [==============================] - 0s 436us/step - loss: 0.0108 - mse: 0.0108 - val_loss: 0.0110 - val_mse: 0.0110\n",
      "Epoch 262/500\n",
      "850/850 [==============================] - 0s 443us/step - loss: 0.0115 - mse: 0.0115 - val_loss: 0.0113 - val_mse: 0.0113\n",
      "Epoch 263/500\n",
      "850/850 [==============================] - 0s 436us/step - loss: 0.0116 - mse: 0.0116 - val_loss: 0.0113 - val_mse: 0.0113\n",
      "Epoch 264/500\n",
      "850/850 [==============================] - 0s 442us/step - loss: 0.0112 - mse: 0.0112 - val_loss: 0.0105 - val_mse: 0.0105\n",
      "Epoch 265/500\n",
      "850/850 [==============================] - 0s 433us/step - loss: 0.0108 - mse: 0.0108 - val_loss: 0.0111 - val_mse: 0.0111\n",
      "Epoch 266/500\n",
      "850/850 [==============================] - 0s 442us/step - loss: 0.0123 - mse: 0.0123 - val_loss: 0.0107 - val_mse: 0.0107\n",
      "Epoch 267/500\n",
      "850/850 [==============================] - 0s 438us/step - loss: 0.0116 - mse: 0.0116 - val_loss: 0.0118 - val_mse: 0.0118\n",
      "Epoch 268/500\n",
      "850/850 [==============================] - 0s 440us/step - loss: 0.0105 - mse: 0.0105 - val_loss: 0.0113 - val_mse: 0.0113\n",
      "Epoch 269/500\n",
      "850/850 [==============================] - 0s 434us/step - loss: 0.0116 - mse: 0.0116 - val_loss: 0.0123 - val_mse: 0.0123\n",
      "Epoch 270/500\n",
      "850/850 [==============================] - 0s 432us/step - loss: 0.0114 - mse: 0.0114 - val_loss: 0.0119 - val_mse: 0.0119\n",
      "Epoch 271/500\n",
      "850/850 [==============================] - 0s 442us/step - loss: 0.0112 - mse: 0.0112 - val_loss: 0.0116 - val_mse: 0.0116\n",
      "Epoch 272/500\n",
      "850/850 [==============================] - 0s 440us/step - loss: 0.0113 - mse: 0.0113 - val_loss: 0.0112 - val_mse: 0.0112\n",
      "Epoch 273/500\n",
      "850/850 [==============================] - 0s 436us/step - loss: 0.0114 - mse: 0.0114 - val_loss: 0.0115 - val_mse: 0.0115\n",
      "Epoch 274/500\n",
      "850/850 [==============================] - 0s 440us/step - loss: 0.0102 - mse: 0.0102 - val_loss: 0.0113 - val_mse: 0.0113\n",
      "Epoch 275/500\n",
      "850/850 [==============================] - 0s 436us/step - loss: 0.0115 - mse: 0.0115 - val_loss: 0.0113 - val_mse: 0.0113\n",
      "Epoch 276/500\n",
      "850/850 [==============================] - 0s 435us/step - loss: 0.0104 - mse: 0.0104 - val_loss: 0.0102 - val_mse: 0.0102\n",
      "Epoch 277/500\n",
      "850/850 [==============================] - 0s 440us/step - loss: 0.0106 - mse: 0.0106 - val_loss: 0.0111 - val_mse: 0.0111\n",
      "Epoch 278/500\n",
      "850/850 [==============================] - 0s 433us/step - loss: 0.0100 - mse: 0.0100 - val_loss: 0.0104 - val_mse: 0.0104\n",
      "Epoch 279/500\n",
      "850/850 [==============================] - 0s 434us/step - loss: 0.0113 - mse: 0.0113 - val_loss: 0.0110 - val_mse: 0.0110\n",
      "Epoch 280/500\n",
      "850/850 [==============================] - 0s 441us/step - loss: 0.0099 - mse: 0.0099 - val_loss: 0.0104 - val_mse: 0.0104\n",
      "Epoch 281/500\n",
      "850/850 [==============================] - 0s 441us/step - loss: 0.0112 - mse: 0.0112 - val_loss: 0.0106 - val_mse: 0.0106\n",
      "Epoch 282/500\n",
      "850/850 [==============================] - 0s 434us/step - loss: 0.0098 - mse: 0.0098 - val_loss: 0.0111 - val_mse: 0.0111\n",
      "Epoch 283/500\n",
      "850/850 [==============================] - 0s 441us/step - loss: 0.0104 - mse: 0.0104 - val_loss: 0.0106 - val_mse: 0.0106\n",
      "Epoch 284/500\n",
      "850/850 [==============================] - 0s 434us/step - loss: 0.0097 - mse: 0.0097 - val_loss: 0.0109 - val_mse: 0.0109\n",
      "Epoch 285/500\n",
      "850/850 [==============================] - 0s 442us/step - loss: 0.0110 - mse: 0.0110 - val_loss: 0.0119 - val_mse: 0.0119\n",
      "Epoch 286/500\n",
      "850/850 [==============================] - 0s 437us/step - loss: 0.0101 - mse: 0.0101 - val_loss: 0.0108 - val_mse: 0.0108\n",
      "Epoch 287/500\n",
      "850/850 [==============================] - 0s 439us/step - loss: 0.0106 - mse: 0.0106 - val_loss: 0.0105 - val_mse: 0.0105\n",
      "Epoch 288/500\n",
      "850/850 [==============================] - 0s 440us/step - loss: 0.0103 - mse: 0.0103 - val_loss: 0.0124 - val_mse: 0.0124\n",
      "Epoch 289/500\n",
      "850/850 [==============================] - 0s 433us/step - loss: 0.0106 - mse: 0.0106 - val_loss: 0.0113 - val_mse: 0.0113\n",
      "Epoch 290/500\n",
      "850/850 [==============================] - 0s 444us/step - loss: 0.0104 - mse: 0.0104 - val_loss: 0.0110 - val_mse: 0.0110\n",
      "Epoch 291/500\n",
      "850/850 [==============================] - 0s 434us/step - loss: 0.0112 - mse: 0.0112 - val_loss: 0.0112 - val_mse: 0.0112\n",
      "Epoch 292/500\n",
      "850/850 [==============================] - 0s 427us/step - loss: 0.0108 - mse: 0.0108 - val_loss: 0.0102 - val_mse: 0.0102\n",
      "Epoch 293/500\n",
      "850/850 [==============================] - 0s 436us/step - loss: 0.0113 - mse: 0.0113 - val_loss: 0.0109 - val_mse: 0.0109\n",
      "Epoch 294/500\n",
      "850/850 [==============================] - 0s 436us/step - loss: 0.0105 - mse: 0.0105 - val_loss: 0.0119 - val_mse: 0.0119\n",
      "Epoch 295/500\n",
      "850/850 [==============================] - 0s 433us/step - loss: 0.0113 - mse: 0.0113 - val_loss: 0.0098 - val_mse: 0.0098\n",
      "Epoch 296/500\n",
      "850/850 [==============================] - 0s 443us/step - loss: 0.0113 - mse: 0.0113 - val_loss: 0.0101 - val_mse: 0.0101\n",
      "Epoch 297/500\n",
      "850/850 [==============================] - 0s 434us/step - loss: 0.0116 - mse: 0.0116 - val_loss: 0.0112 - val_mse: 0.0112\n",
      "Epoch 298/500\n",
      "850/850 [==============================] - 0s 435us/step - loss: 0.0104 - mse: 0.0104 - val_loss: 0.0110 - val_mse: 0.0110\n",
      "Epoch 299/500\n",
      "850/850 [==============================] - 0s 437us/step - loss: 0.0112 - mse: 0.0112 - val_loss: 0.0109 - val_mse: 0.0109\n",
      "Epoch 300/500\n",
      "850/850 [==============================] - 0s 432us/step - loss: 0.0094 - mse: 0.0094 - val_loss: 0.0118 - val_mse: 0.0118\n",
      "Epoch 301/500\n",
      "850/850 [==============================] - 0s 437us/step - loss: 0.0101 - mse: 0.0101 - val_loss: 0.0110 - val_mse: 0.0110\n",
      "Epoch 302/500\n",
      "850/850 [==============================] - 0s 439us/step - loss: 0.0100 - mse: 0.0100 - val_loss: 0.0105 - val_mse: 0.0105\n",
      "Epoch 303/500\n",
      "850/850 [==============================] - 0s 430us/step - loss: 0.0108 - mse: 0.0108 - val_loss: 0.0103 - val_mse: 0.0103\n",
      "Epoch 304/500\n",
      "850/850 [==============================] - 0s 439us/step - loss: 0.0100 - mse: 0.0100 - val_loss: 0.0106 - val_mse: 0.0106\n",
      "Epoch 305/500\n",
      "850/850 [==============================] - 0s 435us/step - loss: 0.0102 - mse: 0.0102 - val_loss: 0.0115 - val_mse: 0.0115\n",
      "Epoch 306/500\n",
      "850/850 [==============================] - 0s 425us/step - loss: 0.0106 - mse: 0.0106 - val_loss: 0.0109 - val_mse: 0.0109\n",
      "Epoch 307/500\n",
      "850/850 [==============================] - 0s 435us/step - loss: 0.0101 - mse: 0.0101 - val_loss: 0.0106 - val_mse: 0.0106\n",
      "Epoch 308/500\n",
      "850/850 [==============================] - 0s 431us/step - loss: 0.0101 - mse: 0.0101 - val_loss: 0.0104 - val_mse: 0.0104\n",
      "Epoch 309/500\n",
      "850/850 [==============================] - 0s 444us/step - loss: 0.0106 - mse: 0.0106 - val_loss: 0.0110 - val_mse: 0.0110\n",
      "Epoch 310/500\n",
      "850/850 [==============================] - 0s 440us/step - loss: 0.0103 - mse: 0.0103 - val_loss: 0.0112 - val_mse: 0.0112\n",
      "Epoch 311/500\n",
      "850/850 [==============================] - 0s 430us/step - loss: 0.0098 - mse: 0.0098 - val_loss: 0.0107 - val_mse: 0.0107\n",
      "Epoch 312/500\n",
      "850/850 [==============================] - 0s 439us/step - loss: 0.0106 - mse: 0.0106 - val_loss: 0.0102 - val_mse: 0.0102\n",
      "Epoch 313/500\n",
      "850/850 [==============================] - 0s 438us/step - loss: 0.0097 - mse: 0.0097 - val_loss: 0.0110 - val_mse: 0.0110\n",
      "Epoch 314/500\n",
      "850/850 [==============================] - 0s 436us/step - loss: 0.0099 - mse: 0.0099 - val_loss: 0.0109 - val_mse: 0.0109\n",
      "Epoch 315/500\n",
      "850/850 [==============================] - 0s 440us/step - loss: 0.0095 - mse: 0.0095 - val_loss: 0.0107 - val_mse: 0.0107\n",
      "Epoch 316/500\n",
      "850/850 [==============================] - 0s 436us/step - loss: 0.0098 - mse: 0.0098 - val_loss: 0.0120 - val_mse: 0.0120\n",
      "Epoch 317/500\n",
      "850/850 [==============================] - 0s 441us/step - loss: 0.0096 - mse: 0.0096 - val_loss: 0.0118 - val_mse: 0.0118\n",
      "Epoch 318/500\n",
      "850/850 [==============================] - 0s 445us/step - loss: 0.0098 - mse: 0.0098 - val_loss: 0.0105 - val_mse: 0.0105\n",
      "Epoch 319/500\n",
      "850/850 [==============================] - 0s 436us/step - loss: 0.0102 - mse: 0.0102 - val_loss: 0.0104 - val_mse: 0.0104\n",
      "Epoch 320/500\n",
      "850/850 [==============================] - 0s 438us/step - loss: 0.0102 - mse: 0.0102 - val_loss: 0.0096 - val_mse: 0.0096\n",
      "Epoch 321/500\n",
      "850/850 [==============================] - 0s 439us/step - loss: 0.0101 - mse: 0.0101 - val_loss: 0.0103 - val_mse: 0.0103\n",
      "Epoch 322/500\n",
      "850/850 [==============================] - 0s 437us/step - loss: 0.0102 - mse: 0.0102 - val_loss: 0.0100 - val_mse: 0.0100\n",
      "Epoch 323/500\n",
      "850/850 [==============================] - 0s 450us/step - loss: 0.0099 - mse: 0.0099 - val_loss: 0.0101 - val_mse: 0.0101\n",
      "Epoch 324/500\n",
      "850/850 [==============================] - 0s 434us/step - loss: 0.0103 - mse: 0.0103 - val_loss: 0.0100 - val_mse: 0.0100\n",
      "Epoch 325/500\n",
      "850/850 [==============================] - 0s 440us/step - loss: 0.0101 - mse: 0.0101 - val_loss: 0.0098 - val_mse: 0.0098\n",
      "Epoch 326/500\n",
      "850/850 [==============================] - 0s 441us/step - loss: 0.0098 - mse: 0.0098 - val_loss: 0.0098 - val_mse: 0.0098\n",
      "Epoch 327/500\n",
      "850/850 [==============================] - 0s 439us/step - loss: 0.0106 - mse: 0.0106 - val_loss: 0.0108 - val_mse: 0.0108\n",
      "Epoch 328/500\n",
      "850/850 [==============================] - 0s 450us/step - loss: 0.0100 - mse: 0.0100 - val_loss: 0.0103 - val_mse: 0.0103\n",
      "Epoch 329/500\n",
      "850/850 [==============================] - 0s 437us/step - loss: 0.0092 - mse: 0.0092 - val_loss: 0.0105 - val_mse: 0.0105\n",
      "Epoch 330/500\n",
      "850/850 [==============================] - 0s 434us/step - loss: 0.0104 - mse: 0.0104 - val_loss: 0.0097 - val_mse: 0.0097\n",
      "Epoch 331/500\n",
      "850/850 [==============================] - 0s 444us/step - loss: 0.0098 - mse: 0.0098 - val_loss: 0.0102 - val_mse: 0.0102\n",
      "Epoch 332/500\n",
      "850/850 [==============================] - 0s 433us/step - loss: 0.0107 - mse: 0.0107 - val_loss: 0.0106 - val_mse: 0.0106\n",
      "Epoch 333/500\n",
      "850/850 [==============================] - 0s 438us/step - loss: 0.0113 - mse: 0.0113 - val_loss: 0.0097 - val_mse: 0.0097\n",
      "Epoch 334/500\n",
      "850/850 [==============================] - 0s 442us/step - loss: 0.0110 - mse: 0.0110 - val_loss: 0.0104 - val_mse: 0.0104\n",
      "Epoch 335/500\n",
      "850/850 [==============================] - 0s 437us/step - loss: 0.0103 - mse: 0.0103 - val_loss: 0.0097 - val_mse: 0.0097\n",
      "Epoch 336/500\n",
      "850/850 [==============================] - 0s 431us/step - loss: 0.0093 - mse: 0.0093 - val_loss: 0.0112 - val_mse: 0.0112\n",
      "Epoch 337/500\n",
      "850/850 [==============================] - 0s 444us/step - loss: 0.0111 - mse: 0.0111 - val_loss: 0.0098 - val_mse: 0.0098\n",
      "Epoch 338/500\n",
      "850/850 [==============================] - 0s 430us/step - loss: 0.0096 - mse: 0.0096 - val_loss: 0.0097 - val_mse: 0.0097\n",
      "Epoch 339/500\n",
      "850/850 [==============================] - 0s 444us/step - loss: 0.0096 - mse: 0.0096 - val_loss: 0.0103 - val_mse: 0.0103\n",
      "Epoch 340/500\n",
      "850/850 [==============================] - 0s 437us/step - loss: 0.0099 - mse: 0.0099 - val_loss: 0.0119 - val_mse: 0.0119\n",
      "Epoch 341/500\n",
      "850/850 [==============================] - 0s 441us/step - loss: 0.0098 - mse: 0.0098 - val_loss: 0.0105 - val_mse: 0.0105\n",
      "Epoch 342/500\n",
      "850/850 [==============================] - 0s 440us/step - loss: 0.0090 - mse: 0.0090 - val_loss: 0.0098 - val_mse: 0.0098\n",
      "Epoch 343/500\n",
      "850/850 [==============================] - 0s 436us/step - loss: 0.0108 - mse: 0.0108 - val_loss: 0.0097 - val_mse: 0.0097\n",
      "Epoch 344/500\n",
      "850/850 [==============================] - 0s 437us/step - loss: 0.0100 - mse: 0.0100 - val_loss: 0.0104 - val_mse: 0.0104\n",
      "Epoch 345/500\n",
      "850/850 [==============================] - 0s 456us/step - loss: 0.0107 - mse: 0.0107 - val_loss: 0.0099 - val_mse: 0.0099\n",
      "Epoch 346/500\n",
      "850/850 [==============================] - 0s 430us/step - loss: 0.0093 - mse: 0.0093 - val_loss: 0.0100 - val_mse: 0.0100\n",
      "Epoch 347/500\n",
      "850/850 [==============================] - 0s 439us/step - loss: 0.0102 - mse: 0.0102 - val_loss: 0.0106 - val_mse: 0.0106\n",
      "Epoch 348/500\n",
      "850/850 [==============================] - 0s 435us/step - loss: 0.0097 - mse: 0.0097 - val_loss: 0.0095 - val_mse: 0.0095\n",
      "Epoch 349/500\n",
      "850/850 [==============================] - 0s 432us/step - loss: 0.0090 - mse: 0.0090 - val_loss: 0.0113 - val_mse: 0.0113\n",
      "Epoch 350/500\n",
      "850/850 [==============================] - 0s 446us/step - loss: 0.0101 - mse: 0.0101 - val_loss: 0.0104 - val_mse: 0.0104\n",
      "Epoch 351/500\n",
      "850/850 [==============================] - 0s 433us/step - loss: 0.0087 - mse: 0.0087 - val_loss: 0.0118 - val_mse: 0.0118\n",
      "Epoch 352/500\n",
      "850/850 [==============================] - 0s 434us/step - loss: 0.0103 - mse: 0.0103 - val_loss: 0.0107 - val_mse: 0.0107\n",
      "Epoch 353/500\n",
      "850/850 [==============================] - 0s 441us/step - loss: 0.0095 - mse: 0.0095 - val_loss: 0.0095 - val_mse: 0.0095\n",
      "Epoch 354/500\n",
      "850/850 [==============================] - 0s 435us/step - loss: 0.0095 - mse: 0.0095 - val_loss: 0.0093 - val_mse: 0.0093\n",
      "Epoch 355/500\n",
      "850/850 [==============================] - 0s 441us/step - loss: 0.0089 - mse: 0.0089 - val_loss: 0.0106 - val_mse: 0.0106\n",
      "Epoch 356/500\n",
      "850/850 [==============================] - 0s 441us/step - loss: 0.0091 - mse: 0.0091 - val_loss: 0.0093 - val_mse: 0.0093\n",
      "Epoch 357/500\n",
      "850/850 [==============================] - 0s 435us/step - loss: 0.0089 - mse: 0.0089 - val_loss: 0.0095 - val_mse: 0.0095\n",
      "Epoch 358/500\n",
      "850/850 [==============================] - 0s 437us/step - loss: 0.0091 - mse: 0.0091 - val_loss: 0.0093 - val_mse: 0.0093\n",
      "Epoch 359/500\n",
      "850/850 [==============================] - 0s 431us/step - loss: 0.0094 - mse: 0.0094 - val_loss: 0.0106 - val_mse: 0.0106\n",
      "Epoch 360/500\n",
      "850/850 [==============================] - 0s 433us/step - loss: 0.0102 - mse: 0.0102 - val_loss: 0.0104 - val_mse: 0.0104\n",
      "Epoch 361/500\n",
      "850/850 [==============================] - 0s 440us/step - loss: 0.0096 - mse: 0.0096 - val_loss: 0.0106 - val_mse: 0.0106\n",
      "Epoch 362/500\n",
      "850/850 [==============================] - 0s 429us/step - loss: 0.0092 - mse: 0.0092 - val_loss: 0.0099 - val_mse: 0.0099\n",
      "Epoch 363/500\n",
      "850/850 [==============================] - 0s 433us/step - loss: 0.0089 - mse: 0.0089 - val_loss: 0.0111 - val_mse: 0.0111\n",
      "Epoch 364/500\n",
      "850/850 [==============================] - 0s 447us/step - loss: 0.0094 - mse: 0.0094 - val_loss: 0.0099 - val_mse: 0.0099\n",
      "Epoch 365/500\n",
      "850/850 [==============================] - 0s 434us/step - loss: 0.0094 - mse: 0.0094 - val_loss: 0.0095 - val_mse: 0.0095\n",
      "Epoch 366/500\n",
      "850/850 [==============================] - 0s 433us/step - loss: 0.0088 - mse: 0.0088 - val_loss: 0.0094 - val_mse: 0.0094\n",
      "Epoch 367/500\n",
      "850/850 [==============================] - 0s 444us/step - loss: 0.0092 - mse: 0.0092 - val_loss: 0.0096 - val_mse: 0.0096\n",
      "Epoch 368/500\n",
      "850/850 [==============================] - 0s 438us/step - loss: 0.0086 - mse: 0.0086 - val_loss: 0.0100 - val_mse: 0.0100\n",
      "Epoch 369/500\n",
      "850/850 [==============================] - 0s 433us/step - loss: 0.0084 - mse: 0.0084 - val_loss: 0.0100 - val_mse: 0.0100\n",
      "Epoch 370/500\n",
      "850/850 [==============================] - 0s 432us/step - loss: 0.0092 - mse: 0.0092 - val_loss: 0.0110 - val_mse: 0.0110\n",
      "Epoch 371/500\n",
      "850/850 [==============================] - 0s 433us/step - loss: 0.0090 - mse: 0.0090 - val_loss: 0.0106 - val_mse: 0.0106\n",
      "Epoch 372/500\n",
      "850/850 [==============================] - 0s 447us/step - loss: 0.0093 - mse: 0.0093 - val_loss: 0.0096 - val_mse: 0.0096\n",
      "Epoch 373/500\n",
      "850/850 [==============================] - 0s 435us/step - loss: 0.0089 - mse: 0.0089 - val_loss: 0.0094 - val_mse: 0.0094\n",
      "Epoch 374/500\n",
      "850/850 [==============================] - 0s 431us/step - loss: 0.0083 - mse: 0.0083 - val_loss: 0.0104 - val_mse: 0.0104\n",
      "Epoch 375/500\n",
      "850/850 [==============================] - 0s 448us/step - loss: 0.0103 - mse: 0.0103 - val_loss: 0.0108 - val_mse: 0.0108\n",
      "Epoch 376/500\n",
      "850/850 [==============================] - 0s 435us/step - loss: 0.0086 - mse: 0.0086 - val_loss: 0.0107 - val_mse: 0.0107\n",
      "Epoch 377/500\n",
      "850/850 [==============================] - 0s 436us/step - loss: 0.0089 - mse: 0.0089 - val_loss: 0.0092 - val_mse: 0.0092\n",
      "Epoch 378/500\n",
      "850/850 [==============================] - 0s 446us/step - loss: 0.0090 - mse: 0.0090 - val_loss: 0.0089 - val_mse: 0.0089\n",
      "Epoch 379/500\n",
      "850/850 [==============================] - 0s 435us/step - loss: 0.0088 - mse: 0.0088 - val_loss: 0.0100 - val_mse: 0.0100\n",
      "Epoch 380/500\n",
      "850/850 [==============================] - 0s 446us/step - loss: 0.0083 - mse: 0.0083 - val_loss: 0.0092 - val_mse: 0.0092\n",
      "Epoch 381/500\n",
      "850/850 [==============================] - 0s 433us/step - loss: 0.0091 - mse: 0.0091 - val_loss: 0.0099 - val_mse: 0.0099\n",
      "Epoch 382/500\n",
      "850/850 [==============================] - 0s 440us/step - loss: 0.0090 - mse: 0.0090 - val_loss: 0.0097 - val_mse: 0.0097\n",
      "Epoch 383/500\n",
      "850/850 [==============================] - 0s 439us/step - loss: 0.0094 - mse: 0.0094 - val_loss: 0.0096 - val_mse: 0.0096\n",
      "Epoch 384/500\n",
      "850/850 [==============================] - 0s 436us/step - loss: 0.0081 - mse: 0.0081 - val_loss: 0.0092 - val_mse: 0.0092\n",
      "Epoch 385/500\n",
      "850/850 [==============================] - 0s 439us/step - loss: 0.0092 - mse: 0.0092 - val_loss: 0.0098 - val_mse: 0.0098\n",
      "Epoch 386/500\n",
      "850/850 [==============================] - 0s 436us/step - loss: 0.0089 - mse: 0.0089 - val_loss: 0.0100 - val_mse: 0.0100\n",
      "Epoch 387/500\n",
      "850/850 [==============================] - 0s 431us/step - loss: 0.0083 - mse: 0.0083 - val_loss: 0.0093 - val_mse: 0.0093\n",
      "Epoch 388/500\n",
      "850/850 [==============================] - 0s 438us/step - loss: 0.0089 - mse: 0.0089 - val_loss: 0.0101 - val_mse: 0.0101\n",
      "Epoch 389/500\n",
      "850/850 [==============================] - 0s 438us/step - loss: 0.0096 - mse: 0.0096 - val_loss: 0.0089 - val_mse: 0.0089\n",
      "Epoch 390/500\n",
      "850/850 [==============================] - 0s 432us/step - loss: 0.0089 - mse: 0.0089 - val_loss: 0.0099 - val_mse: 0.0099\n",
      "Epoch 391/500\n",
      "850/850 [==============================] - 0s 442us/step - loss: 0.0098 - mse: 0.0098 - val_loss: 0.0101 - val_mse: 0.0101\n",
      "Epoch 392/500\n",
      "850/850 [==============================] - 0s 433us/step - loss: 0.0088 - mse: 0.0088 - val_loss: 0.0099 - val_mse: 0.0099\n",
      "Epoch 393/500\n",
      "850/850 [==============================] - 0s 436us/step - loss: 0.0090 - mse: 0.0090 - val_loss: 0.0094 - val_mse: 0.0094\n",
      "Epoch 394/500\n",
      "850/850 [==============================] - 0s 439us/step - loss: 0.0083 - mse: 0.0083 - val_loss: 0.0102 - val_mse: 0.0102\n",
      "Epoch 395/500\n",
      "850/850 [==============================] - 0s 438us/step - loss: 0.0091 - mse: 0.0091 - val_loss: 0.0098 - val_mse: 0.0098\n",
      "Epoch 396/500\n",
      "850/850 [==============================] - 0s 436us/step - loss: 0.0089 - mse: 0.0089 - val_loss: 0.0107 - val_mse: 0.0107\n",
      "Epoch 397/500\n",
      "850/850 [==============================] - 0s 438us/step - loss: 0.0093 - mse: 0.0093 - val_loss: 0.0094 - val_mse: 0.0094\n",
      "Epoch 398/500\n",
      "850/850 [==============================] - 0s 433us/step - loss: 0.0088 - mse: 0.0088 - val_loss: 0.0090 - val_mse: 0.0090\n",
      "Epoch 399/500\n",
      "850/850 [==============================] - 0s 448us/step - loss: 0.0082 - mse: 0.0082 - val_loss: 0.0091 - val_mse: 0.0091\n",
      "Epoch 400/500\n",
      "850/850 [==============================] - 0s 432us/step - loss: 0.0080 - mse: 0.0080 - val_loss: 0.0090 - val_mse: 0.0090\n",
      "Epoch 401/500\n",
      "850/850 [==============================] - 0s 442us/step - loss: 0.0084 - mse: 0.0084 - val_loss: 0.0089 - val_mse: 0.0089\n",
      "Epoch 402/500\n",
      "850/850 [==============================] - 0s 441us/step - loss: 0.0084 - mse: 0.0084 - val_loss: 0.0094 - val_mse: 0.0094\n",
      "Epoch 403/500\n",
      "850/850 [==============================] - 0s 435us/step - loss: 0.0084 - mse: 0.0084 - val_loss: 0.0095 - val_mse: 0.0095\n",
      "Epoch 404/500\n",
      "850/850 [==============================] - 0s 439us/step - loss: 0.0084 - mse: 0.0084 - val_loss: 0.0095 - val_mse: 0.0095\n",
      "Epoch 405/500\n",
      "850/850 [==============================] - 0s 435us/step - loss: 0.0091 - mse: 0.0091 - val_loss: 0.0094 - val_mse: 0.0094\n",
      "Epoch 406/500\n",
      "850/850 [==============================] - 0s 432us/step - loss: 0.0090 - mse: 0.0090 - val_loss: 0.0096 - val_mse: 0.0096\n",
      "Epoch 407/500\n",
      "850/850 [==============================] - 0s 441us/step - loss: 0.0081 - mse: 0.0081 - val_loss: 0.0096 - val_mse: 0.0096\n",
      "Epoch 408/500\n",
      "850/850 [==============================] - 0s 434us/step - loss: 0.0084 - mse: 0.0084 - val_loss: 0.0086 - val_mse: 0.0086\n",
      "Epoch 409/500\n",
      "850/850 [==============================] - 0s 432us/step - loss: 0.0087 - mse: 0.0087 - val_loss: 0.0094 - val_mse: 0.0094\n",
      "Epoch 410/500\n",
      "850/850 [==============================] - 0s 440us/step - loss: 0.0085 - mse: 0.0085 - val_loss: 0.0093 - val_mse: 0.0093\n",
      "Epoch 411/500\n",
      "850/850 [==============================] - 0s 441us/step - loss: 0.0088 - mse: 0.0088 - val_loss: 0.0086 - val_mse: 0.0086\n",
      "Epoch 412/500\n",
      "850/850 [==============================] - 0s 434us/step - loss: 0.0086 - mse: 0.0086 - val_loss: 0.0096 - val_mse: 0.0096\n",
      "Epoch 413/500\n",
      "850/850 [==============================] - 0s 446us/step - loss: 0.0079 - mse: 0.0079 - val_loss: 0.0099 - val_mse: 0.0099\n",
      "Epoch 414/500\n",
      "850/850 [==============================] - 0s 433us/step - loss: 0.0088 - mse: 0.0088 - val_loss: 0.0101 - val_mse: 0.0101\n",
      "Epoch 415/500\n",
      "850/850 [==============================] - 0s 432us/step - loss: 0.0083 - mse: 0.0083 - val_loss: 0.0089 - val_mse: 0.0089\n",
      "Epoch 416/500\n",
      "850/850 [==============================] - 0s 447us/step - loss: 0.0085 - mse: 0.0085 - val_loss: 0.0091 - val_mse: 0.0091\n",
      "Epoch 417/500\n",
      "850/850 [==============================] - 0s 432us/step - loss: 0.0082 - mse: 0.0082 - val_loss: 0.0105 - val_mse: 0.0105\n",
      "Epoch 418/500\n",
      "850/850 [==============================] - 0s 442us/step - loss: 0.0087 - mse: 0.0087 - val_loss: 0.0096 - val_mse: 0.0096\n",
      "Epoch 419/500\n",
      "850/850 [==============================] - 0s 435us/step - loss: 0.0089 - mse: 0.0089 - val_loss: 0.0098 - val_mse: 0.0098\n",
      "Epoch 420/500\n",
      "850/850 [==============================] - 0s 434us/step - loss: 0.0086 - mse: 0.0086 - val_loss: 0.0094 - val_mse: 0.0094\n",
      "Epoch 421/500\n",
      "850/850 [==============================] - 0s 437us/step - loss: 0.0087 - mse: 0.0087 - val_loss: 0.0103 - val_mse: 0.0103\n",
      "Epoch 422/500\n",
      "850/850 [==============================] - 0s 431us/step - loss: 0.0082 - mse: 0.0082 - val_loss: 0.0103 - val_mse: 0.0103\n",
      "Epoch 423/500\n",
      "850/850 [==============================] - 0s 440us/step - loss: 0.0081 - mse: 0.0081 - val_loss: 0.0093 - val_mse: 0.0093\n",
      "Epoch 424/500\n",
      "850/850 [==============================] - 0s 436us/step - loss: 0.0085 - mse: 0.0085 - val_loss: 0.0096 - val_mse: 0.0096\n",
      "Epoch 425/500\n",
      "850/850 [==============================] - 0s 439us/step - loss: 0.0078 - mse: 0.0078 - val_loss: 0.0091 - val_mse: 0.0091\n",
      "Epoch 426/500\n",
      "850/850 [==============================] - 0s 434us/step - loss: 0.0082 - mse: 0.0082 - val_loss: 0.0092 - val_mse: 0.0092\n",
      "Epoch 427/500\n",
      "850/850 [==============================] - 0s 436us/step - loss: 0.0084 - mse: 0.0084 - val_loss: 0.0094 - val_mse: 0.0094\n",
      "Epoch 428/500\n",
      "850/850 [==============================] - 0s 440us/step - loss: 0.0081 - mse: 0.0081 - val_loss: 0.0093 - val_mse: 0.0093\n",
      "Epoch 429/500\n",
      "850/850 [==============================] - 0s 452us/step - loss: 0.0079 - mse: 0.0079 - val_loss: 0.0104 - val_mse: 0.0104\n",
      "Epoch 430/500\n",
      "850/850 [==============================] - 0s 434us/step - loss: 0.0090 - mse: 0.0090 - val_loss: 0.0090 - val_mse: 0.0090\n",
      "Epoch 431/500\n",
      "850/850 [==============================] - 0s 435us/step - loss: 0.0088 - mse: 0.0088 - val_loss: 0.0085 - val_mse: 0.0085\n",
      "Epoch 432/500\n",
      "850/850 [==============================] - 0s 438us/step - loss: 0.0088 - mse: 0.0088 - val_loss: 0.0087 - val_mse: 0.0087\n",
      "Epoch 433/500\n",
      "850/850 [==============================] - 0s 435us/step - loss: 0.0073 - mse: 0.0073 - val_loss: 0.0093 - val_mse: 0.0093\n",
      "Epoch 434/500\n",
      "850/850 [==============================] - 0s 431us/step - loss: 0.0080 - mse: 0.0080 - val_loss: 0.0096 - val_mse: 0.0096\n",
      "Epoch 435/500\n",
      "850/850 [==============================] - 0s 441us/step - loss: 0.0089 - mse: 0.0089 - val_loss: 0.0094 - val_mse: 0.0094\n",
      "Epoch 436/500\n",
      "850/850 [==============================] - 0s 435us/step - loss: 0.0082 - mse: 0.0082 - val_loss: 0.0097 - val_mse: 0.0097\n",
      "Epoch 437/500\n",
      "850/850 [==============================] - 0s 433us/step - loss: 0.0087 - mse: 0.0087 - val_loss: 0.0093 - val_mse: 0.0093\n",
      "Epoch 438/500\n",
      "850/850 [==============================] - 0s 446us/step - loss: 0.0078 - mse: 0.0078 - val_loss: 0.0096 - val_mse: 0.0096\n",
      "Epoch 439/500\n",
      "850/850 [==============================] - 0s 432us/step - loss: 0.0079 - mse: 0.0079 - val_loss: 0.0105 - val_mse: 0.0105\n",
      "Epoch 440/500\n",
      "850/850 [==============================] - 0s 445us/step - loss: 0.0080 - mse: 0.0080 - val_loss: 0.0089 - val_mse: 0.0089\n",
      "Epoch 441/500\n",
      "850/850 [==============================] - 0s 430us/step - loss: 0.0080 - mse: 0.0080 - val_loss: 0.0091 - val_mse: 0.0091\n",
      "Epoch 442/500\n",
      "850/850 [==============================] - 0s 432us/step - loss: 0.0080 - mse: 0.0080 - val_loss: 0.0114 - val_mse: 0.0114\n",
      "Epoch 443/500\n",
      "850/850 [==============================] - 0s 436us/step - loss: 0.0074 - mse: 0.0074 - val_loss: 0.0094 - val_mse: 0.0094\n",
      "Epoch 444/500\n",
      "850/850 [==============================] - 0s 431us/step - loss: 0.0082 - mse: 0.0082 - val_loss: 0.0102 - val_mse: 0.0102\n",
      "Epoch 445/500\n",
      "850/850 [==============================] - 0s 438us/step - loss: 0.0083 - mse: 0.0083 - val_loss: 0.0117 - val_mse: 0.0117\n",
      "Epoch 446/500\n",
      "850/850 [==============================] - 0s 433us/step - loss: 0.0088 - mse: 0.0088 - val_loss: 0.0100 - val_mse: 0.0100\n",
      "Epoch 447/500\n",
      "850/850 [==============================] - 0s 435us/step - loss: 0.0080 - mse: 0.0080 - val_loss: 0.0091 - val_mse: 0.0091\n",
      "Epoch 448/500\n",
      "850/850 [==============================] - 0s 454us/step - loss: 0.0090 - mse: 0.0090 - val_loss: 0.0100 - val_mse: 0.0100\n",
      "Epoch 449/500\n",
      "850/850 [==============================] - 0s 442us/step - loss: 0.0077 - mse: 0.0077 - val_loss: 0.0093 - val_mse: 0.0093\n",
      "Epoch 450/500\n",
      "850/850 [==============================] - 0s 450us/step - loss: 0.0073 - mse: 0.0073 - val_loss: 0.0093 - val_mse: 0.0093\n",
      "Epoch 451/500\n",
      "850/850 [==============================] - 0s 441us/step - loss: 0.0067 - mse: 0.0067 - val_loss: 0.0096 - val_mse: 0.0096\n",
      "Epoch 452/500\n",
      "850/850 [==============================] - 0s 453us/step - loss: 0.0080 - mse: 0.0080 - val_loss: 0.0091 - val_mse: 0.0091\n",
      "Epoch 453/500\n",
      "850/850 [==============================] - 0s 446us/step - loss: 0.0085 - mse: 0.0085 - val_loss: 0.0098 - val_mse: 0.0098\n",
      "Epoch 454/500\n",
      "850/850 [==============================] - 0s 457us/step - loss: 0.0084 - mse: 0.0084 - val_loss: 0.0097 - val_mse: 0.0097\n",
      "Epoch 455/500\n",
      "850/850 [==============================] - 0s 446us/step - loss: 0.0084 - mse: 0.0084 - val_loss: 0.0089 - val_mse: 0.0089\n",
      "Epoch 456/500\n",
      "850/850 [==============================] - 0s 467us/step - loss: 0.0081 - mse: 0.0081 - val_loss: 0.0091 - val_mse: 0.0091\n",
      "Epoch 457/500\n",
      "850/850 [==============================] - 0s 440us/step - loss: 0.0085 - mse: 0.0085 - val_loss: 0.0087 - val_mse: 0.0087\n",
      "Epoch 458/500\n",
      "850/850 [==============================] - 0s 445us/step - loss: 0.0083 - mse: 0.0083 - val_loss: 0.0094 - val_mse: 0.0094\n",
      "Epoch 459/500\n",
      "850/850 [==============================] - 0s 448us/step - loss: 0.0077 - mse: 0.0077 - val_loss: 0.0090 - val_mse: 0.0090\n",
      "Epoch 460/500\n",
      "850/850 [==============================] - 0s 440us/step - loss: 0.0085 - mse: 0.0085 - val_loss: 0.0097 - val_mse: 0.0097\n",
      "Epoch 461/500\n",
      "850/850 [==============================] - 0s 446us/step - loss: 0.0083 - mse: 0.0083 - val_loss: 0.0117 - val_mse: 0.0117\n",
      "Epoch 462/500\n",
      "850/850 [==============================] - 0s 440us/step - loss: 0.0078 - mse: 0.0078 - val_loss: 0.0104 - val_mse: 0.0104\n",
      "Epoch 463/500\n",
      "850/850 [==============================] - 0s 454us/step - loss: 0.0087 - mse: 0.0087 - val_loss: 0.0099 - val_mse: 0.0099\n",
      "Epoch 464/500\n",
      "850/850 [==============================] - 0s 455us/step - loss: 0.0077 - mse: 0.0077 - val_loss: 0.0089 - val_mse: 0.0089\n",
      "Epoch 465/500\n",
      "850/850 [==============================] - 0s 443us/step - loss: 0.0082 - mse: 0.0082 - val_loss: 0.0088 - val_mse: 0.0088\n",
      "Epoch 466/500\n",
      "850/850 [==============================] - 0s 441us/step - loss: 0.0082 - mse: 0.0082 - val_loss: 0.0089 - val_mse: 0.0089\n",
      "Epoch 467/500\n",
      "850/850 [==============================] - 0s 448us/step - loss: 0.0078 - mse: 0.0078 - val_loss: 0.0085 - val_mse: 0.0085\n",
      "Epoch 468/500\n",
      "850/850 [==============================] - 0s 441us/step - loss: 0.0078 - mse: 0.0078 - val_loss: 0.0090 - val_mse: 0.0090\n",
      "Epoch 469/500\n",
      "850/850 [==============================] - 0s 450us/step - loss: 0.0073 - mse: 0.0073 - val_loss: 0.0092 - val_mse: 0.0092\n",
      "Epoch 470/500\n",
      "850/850 [==============================] - 0s 444us/step - loss: 0.0073 - mse: 0.0073 - val_loss: 0.0091 - val_mse: 0.0091\n",
      "Epoch 471/500\n",
      "850/850 [==============================] - 0s 444us/step - loss: 0.0084 - mse: 0.0084 - val_loss: 0.0082 - val_mse: 0.0082\n",
      "Epoch 472/500\n",
      "850/850 [==============================] - 0s 452us/step - loss: 0.0076 - mse: 0.0076 - val_loss: 0.0089 - val_mse: 0.0089\n",
      "Epoch 473/500\n",
      "850/850 [==============================] - 0s 443us/step - loss: 0.0077 - mse: 0.0077 - val_loss: 0.0089 - val_mse: 0.0089\n",
      "Epoch 474/500\n",
      "850/850 [==============================] - 0s 448us/step - loss: 0.0069 - mse: 0.0069 - val_loss: 0.0089 - val_mse: 0.0089\n",
      "Epoch 475/500\n",
      "850/850 [==============================] - 0s 456us/step - loss: 0.0075 - mse: 0.0075 - val_loss: 0.0101 - val_mse: 0.0101\n",
      "Epoch 476/500\n",
      "850/850 [==============================] - 0s 441us/step - loss: 0.0076 - mse: 0.0076 - val_loss: 0.0091 - val_mse: 0.0091\n",
      "Epoch 477/500\n",
      "850/850 [==============================] - 0s 453us/step - loss: 0.0074 - mse: 0.0074 - val_loss: 0.0090 - val_mse: 0.0090\n",
      "Epoch 478/500\n",
      "850/850 [==============================] - 0s 445us/step - loss: 0.0081 - mse: 0.0081 - val_loss: 0.0099 - val_mse: 0.0099\n",
      "Epoch 479/500\n",
      "850/850 [==============================] - 0s 434us/step - loss: 0.0077 - mse: 0.0077 - val_loss: 0.0092 - val_mse: 0.0092\n",
      "Epoch 480/500\n",
      "850/850 [==============================] - 0s 440us/step - loss: 0.0073 - mse: 0.0073 - val_loss: 0.0098 - val_mse: 0.0098\n",
      "Epoch 481/500\n",
      "850/850 [==============================] - 0s 435us/step - loss: 0.0077 - mse: 0.0077 - val_loss: 0.0089 - val_mse: 0.0089\n",
      "Epoch 482/500\n",
      "850/850 [==============================] - 0s 435us/step - loss: 0.0075 - mse: 0.0075 - val_loss: 0.0099 - val_mse: 0.0099\n",
      "Epoch 483/500\n",
      "850/850 [==============================] - 0s 454us/step - loss: 0.0077 - mse: 0.0077 - val_loss: 0.0088 - val_mse: 0.0088\n",
      "Epoch 484/500\n",
      "850/850 [==============================] - 0s 432us/step - loss: 0.0078 - mse: 0.0078 - val_loss: 0.0091 - val_mse: 0.0091\n",
      "Epoch 485/500\n",
      "850/850 [==============================] - 0s 436us/step - loss: 0.0068 - mse: 0.0068 - val_loss: 0.0092 - val_mse: 0.0092\n",
      "Epoch 486/500\n",
      "850/850 [==============================] - 0s 445us/step - loss: 0.0072 - mse: 0.0072 - val_loss: 0.0096 - val_mse: 0.0096\n",
      "Epoch 487/500\n",
      "850/850 [==============================] - 0s 438us/step - loss: 0.0077 - mse: 0.0077 - val_loss: 0.0088 - val_mse: 0.0088\n",
      "Epoch 488/500\n",
      "850/850 [==============================] - 0s 434us/step - loss: 0.0076 - mse: 0.0076 - val_loss: 0.0086 - val_mse: 0.0086\n",
      "Epoch 489/500\n",
      "850/850 [==============================] - 0s 435us/step - loss: 0.0075 - mse: 0.0075 - val_loss: 0.0093 - val_mse: 0.0093\n",
      "Epoch 490/500\n",
      "850/850 [==============================] - 0s 439us/step - loss: 0.0071 - mse: 0.0071 - val_loss: 0.0091 - val_mse: 0.0091\n",
      "Epoch 491/500\n",
      "850/850 [==============================] - 0s 441us/step - loss: 0.0073 - mse: 0.0073 - val_loss: 0.0091 - val_mse: 0.0091\n",
      "Epoch 492/500\n",
      "850/850 [==============================] - 0s 435us/step - loss: 0.0078 - mse: 0.0078 - val_loss: 0.0086 - val_mse: 0.0086\n",
      "Epoch 493/500\n",
      "850/850 [==============================] - 0s 439us/step - loss: 0.0075 - mse: 0.0075 - val_loss: 0.0094 - val_mse: 0.0094\n",
      "Epoch 494/500\n",
      "850/850 [==============================] - 0s 440us/step - loss: 0.0078 - mse: 0.0078 - val_loss: 0.0088 - val_mse: 0.0088\n",
      "Epoch 495/500\n",
      "850/850 [==============================] - 0s 437us/step - loss: 0.0078 - mse: 0.0078 - val_loss: 0.0089 - val_mse: 0.0089\n",
      "Epoch 496/500\n",
      "850/850 [==============================] - 0s 434us/step - loss: 0.0080 - mse: 0.0080 - val_loss: 0.0089 - val_mse: 0.0089\n",
      "Epoch 497/500\n",
      "850/850 [==============================] - 0s 434us/step - loss: 0.0072 - mse: 0.0072 - val_loss: 0.0088 - val_mse: 0.0088\n",
      "Epoch 498/500\n",
      "850/850 [==============================] - 0s 441us/step - loss: 0.0077 - mse: 0.0077 - val_loss: 0.0088 - val_mse: 0.0088\n",
      "Epoch 499/500\n",
      "850/850 [==============================] - 0s 435us/step - loss: 0.0071 - mse: 0.0071 - val_loss: 0.0095 - val_mse: 0.0095\n",
      "Epoch 500/500\n",
      "850/850 [==============================] - 0s 434us/step - loss: 0.0074 - mse: 0.0074 - val_loss: 0.0094 - val_mse: 0.0094\n"
     ]
    }
   ],
   "source": [
    "# This permutation of the model aggressivly overfits\n",
    "#   after ~530 epochs.  So training is stopped just\n",
    "#   before that point.\n",
    "batch_size = 32\n",
    "epochs = 500\n",
    "history = model.fit(x_train, \n",
    "                    y_train,\n",
    "                    batch_size=batch_size,\n",
    "                    epochs=epochs,\n",
    "                    verbose=1,\n",
    "                    validation_data=[x_test, \n",
    "                                     y_test\n",
    "                                     ]\n",
    "                    )"
   ]
  },
  {
   "cell_type": "markdown",
   "metadata": {
    "colab_type": "text",
    "id": "B-WgopETy6oz"
   },
   "source": [
    "## Generate loss (MSE) plot"
   ]
  },
  {
   "cell_type": "code",
   "execution_count": null,
   "metadata": {
    "colab": {
     "base_uri": "https://localhost:8080/",
     "height": 182
    },
    "colab_type": "code",
    "executionInfo": {
     "elapsed": 192573,
     "status": "ok",
     "timestamp": 1588550883615,
     "user": {
      "displayName": "TiraniceD W",
      "photoUrl": "",
      "userId": "08898756779555237454"
     },
     "user_tz": 300
    },
    "id": "Fk2nprXDy6o0",
    "outputId": "07ea421b-c387-4c5e-f7d2-d1d899e1c460"
   },
   "outputs": [
    {
     "data": {
      "image/png": "[encoded data removed]",
      "text/plain": [
       "<Figure size 432x288 with 1 Axes>"
      ]
     },
     "metadata": {
      "needs_background": "light",
      "tags": []
     },
     "output_type": "display_data"
    }
   ],
   "source": [
    "plt.figure()\n",
    "plt.subplot(212)\n",
    "plt.plot(history.history['loss'])\n",
    "plt.plot(history.history['val_loss'])\n",
    "plt.title('convolution model loss')\n",
    "plt.ylabel('loss')\n",
    "plt.xlabel('epoch')\n",
    "plt.legend(['training', 'validation'], loc='upper left')\n",
    "plt.tight_layout()\n",
    "plt.savefig(\"ConvModelLoss.png\")\n",
    "plt.show()"
   ]
  },
  {
   "cell_type": "markdown",
   "metadata": {
    "colab_type": "text",
    "id": "15Eu8lw4y6o8"
   },
   "source": [
    "## Test on remaining 90 images and calculate mean difference between predicted and actual scores"
   ]
  },
  {
   "cell_type": "code",
   "execution_count": null,
   "metadata": {
    "colab": {
     "base_uri": "https://localhost:8080/",
     "height": 72
    },
    "colab_type": "code",
    "executionInfo": {
     "elapsed": 192961,
     "status": "ok",
     "timestamp": 1588550884021,
     "user": {
      "displayName": "TiraniceD W",
      "photoUrl": "",
      "userId": "08898756779555237454"
     },
     "user_tz": 300
    },
    "id": "tni_BACCy6o9",
    "outputId": "3a588b40-d157-452e-ee60-affe857b6491"
   },
   "outputs": [
    {
     "name": "stdout",
     "output_type": "stream",
     "text": [
      "Mean difference\n",
      "---------------\n"
     ]
    },
    {
     "data": {
      "text/plain": [
       "0.06889501530570666"
      ]
     },
     "metadata": {
      "tags": []
     },
     "output_type": "display_data"
    }
   ],
   "source": [
    "preds = model.predict(x_test)\n",
    "diff = preds.flatten() - (y_test)\n",
    "print(\"Mean difference\")\n",
    "print(\"---------------\")\n",
    "display(np.mean(np.abs(diff)))"
   ]
  },
  {
   "cell_type": "markdown",
   "metadata": {
    "colab_type": "text",
    "id": "ociD06ecy6pH"
   },
   "source": [
    "## Save model"
   ]
  },
  {
   "cell_type": "code",
   "execution_count": null,
   "metadata": {
    "colab": {},
    "colab_type": "code",
    "id": "NMf3sshmy6pI"
   },
   "outputs": [],
   "source": [
    "model.save(\"atm4wCurModel\")"
   ]
  },
  {
   "cell_type": "markdown",
   "metadata": {
    "colab_type": "text",
    "id": "Tp6Ghpyhy6pP"
   },
   "source": [
    "## Various data plots"
   ]
  },
  {
   "cell_type": "code",
   "execution_count": null,
   "metadata": {
    "colab": {
     "base_uri": "https://localhost:8080/",
     "height": 313
    },
    "colab_type": "code",
    "executionInfo": {
     "elapsed": 192943,
     "status": "ok",
     "timestamp": 1588550884025,
     "user": {
      "displayName": "TiraniceD W",
      "photoUrl": "",
      "userId": "08898756779555237454"
     },
     "user_tz": 300
    },
    "id": "WARY_Qnpy6pQ",
    "outputId": "d00b0219-1950-42b1-a0e0-373039844e23"
   },
   "outputs": [
    {
     "data": {
      "image/png": "[encoded data removed]",
      "text/plain": [
       "<Figure size 432x288 with 1 Axes>"
      ]
     },
     "metadata": {
      "needs_background": "light",
      "tags": []
     },
     "output_type": "display_data"
    },
    {
     "data": {
      "text/plain": [
       "<Figure size 14400x1440 with 0 Axes>"
      ]
     },
     "metadata": {
      "tags": []
     },
     "output_type": "display_data"
    }
   ],
   "source": [
    "\n",
    "shuffledInd = np.linspace(0,149,num = 150)\n",
    "\n",
    "plt.figure()\n",
    "plt.scatter(shuffledInd, y_test)\n",
    "plt.scatter(shuffledInd, preds)\n",
    "plt.title(\"Predictions/Actual Comparison\")\n",
    "plt.ylabel(\"score\")\n",
    "plt.xlabel(\"image num\")\n",
    "plt.legend(['actual', 'prediction'], loc='upper left')\n",
    "plt.figure(figsize=(200,20))\n",
    "plt.show()"
   ]
  },
  {
   "cell_type": "code",
   "execution_count": null,
   "metadata": {
    "colab": {
     "base_uri": "https://localhost:8080/",
     "height": 295
    },
    "colab_type": "code",
    "executionInfo": {
     "elapsed": 192925,
     "status": "ok",
     "timestamp": 1588550884027,
     "user": {
      "displayName": "TiraniceD W",
      "photoUrl": "",
      "userId": "08898756779555237454"
     },
     "user_tz": 300
    },
    "id": "OSRQyoqly6pZ",
    "outputId": "df690317-2088-47dd-8782-475276b56ed1"
   },
   "outputs": [
    {
     "data": {
      "image/png": "[encoded data removed]",
      "text/plain": [
       "<Figure size 432x288 with 1 Axes>"
      ]
     },
     "metadata": {
      "needs_background": "light",
      "tags": []
     },
     "output_type": "display_data"
    }
   ],
   "source": [
    "plt.figure()\n",
    "plt.scatter(y_test, preds)\n",
    "plt.title(\"Predicted vs Actual value\")\n",
    "plt.ylabel(\"predicted value\")\n",
    "plt.xlabel(\"actual value\")\n",
    "plt.savefig(\"ConvPredictedVAct.png\")\n",
    "plt.axis('square')\n",
    "plt.show()"
   ]
  },
  {
   "cell_type": "code",
   "execution_count": null,
   "metadata": {
    "colab": {
     "base_uri": "https://localhost:8080/",
     "height": 295
    },
    "colab_type": "code",
    "executionInfo": {
     "elapsed": 193220,
     "status": "ok",
     "timestamp": 1588550884351,
     "user": {
      "displayName": "TiraniceD W",
      "photoUrl": "",
      "userId": "08898756779555237454"
     },
     "user_tz": 300
    },
    "id": "w0KecFt9y6pg",
    "outputId": "00c0bc0c-dc8c-425c-ab0f-a9f1e694b7d7"
   },
   "outputs": [
    {
     "data": {
      "image/png": "[encoded data removed]",
      "text/plain": [
       "<Figure size 432x288 with 1 Axes>"
      ]
     },
     "metadata": {
      "needs_background": "light",
      "tags": []
     },
     "output_type": "display_data"
    }
   ],
   "source": [
    "plt.figure()\n",
    "plt.scatter(y_test, diff)\n",
    "plt.title(\"Difference vs Actual value\")\n",
    "plt.ylabel(\"Difference\")\n",
    "plt.xlabel(\"actual value\")\n",
    "plt.axis('square')\n",
    "plt.savefig(\"ConvDiffVAct.png\")\n",
    "plt.show()"
   ]
  },
  {
   "cell_type": "markdown",
   "metadata": {
    "colab_type": "text",
    "id": "nnpKxZnGy6p2"
   },
   "source": [
    "## Find the 10 worst and 5 best predictions"
   ]
  },
  {
   "cell_type": "code",
   "execution_count": null,
   "metadata": {
    "colab": {
     "base_uri": "https://localhost:8080/",
     "height": 53
    },
    "colab_type": "code",
    "executionInfo": {
     "elapsed": 193201,
     "status": "ok",
     "timestamp": 1588550884353,
     "user": {
      "displayName": "TiraniceD W",
      "photoUrl": "",
      "userId": "08898756779555237454"
     },
     "user_tz": 300
    },
    "id": "JHQ0RQ3sy6p4",
    "outputId": "992ba3e3-8be3-4689-de02-0583e0bd0c72"
   },
   "outputs": [
    {
     "data": {
      "text/plain": [
       "array([ 65, 110,  55,  45,  30,  48, 123,  68, 120,  63])"
      ]
     },
     "metadata": {
      "tags": []
     },
     "output_type": "display_data"
    },
    {
     "data": {
      "text/plain": [
       "array([108,  90,  60,  93,  34])"
      ]
     },
     "metadata": {
      "tags": []
     },
     "output_type": "display_data"
    }
   ],
   "source": [
    "absDiff = np.abs(diff)\n",
    "\n",
    "top10 = np.argpartition(absDiff, -10)[-10:]\n",
    "bottom5= np.argpartition(absDiff, 5)[:5]\n",
    "display(top10)\n",
    "display(bottom5)"
   ]
  },
  {
   "cell_type": "markdown",
   "metadata": {
    "colab_type": "text",
    "id": "BWgi2nP6y6qA"
   },
   "source": [
    "## Show the 10 worst predictions"
   ]
  },
  {
   "cell_type": "code",
   "execution_count": null,
   "metadata": {
    "colab": {
     "base_uri": "https://localhost:8080/",
     "height": 925
    },
    "colab_type": "code",
    "executionInfo": {
     "elapsed": 193189,
     "status": "ok",
     "timestamp": 1588550884355,
     "user": {
      "displayName": "TiraniceD W",
      "photoUrl": "",
      "userId": "08898756779555237454"
     },
     "user_tz": 300
    },
    "id": "gsI_rqkCy6qD",
    "outputId": "1d597ee9-e12e-4cda-e73b-c0e9586c44d2"
   },
   "outputs": [
    {
     "name": "stdout",
     "output_type": "stream",
     "text": [
      "Human Score\n"
     ]
    },
    {
     "data": {
      "text/plain": [
       "0.294118"
      ]
     },
     "metadata": {
      "tags": []
     },
     "output_type": "display_data"
    },
    {
     "name": "stdout",
     "output_type": "stream",
     "text": [
      "Prediction\n"
     ]
    },
    {
     "data": {
      "text/plain": [
       "0.48557183"
      ]
     },
     "metadata": {
      "tags": []
     },
     "output_type": "display_data"
    },
    {
     "name": "stdout",
     "output_type": "stream",
     "text": [
      "---------------\n",
      "Human Score\n"
     ]
    },
    {
     "data": {
      "text/plain": [
       "0.264706"
      ]
     },
     "metadata": {
      "tags": []
     },
     "output_type": "display_data"
    },
    {
     "name": "stdout",
     "output_type": "stream",
     "text": [
      "Prediction\n"
     ]
    },
    {
     "data": {
      "text/plain": [
       "0.062143095"
      ]
     },
     "metadata": {
      "tags": []
     },
     "output_type": "display_data"
    },
    {
     "name": "stdout",
     "output_type": "stream",
     "text": [
      "---------------\n",
      "Human Score\n"
     ]
    },
    {
     "data": {
      "text/plain": [
       "0.235294"
      ]
     },
     "metadata": {
      "tags": []
     },
     "output_type": "display_data"
    },
    {
     "name": "stdout",
     "output_type": "stream",
     "text": [
      "Prediction\n"
     ]
    },
    {
     "data": {
      "text/plain": [
       "0.50180894"
      ]
     },
     "metadata": {
      "tags": []
     },
     "output_type": "display_data"
    },
    {
     "name": "stdout",
     "output_type": "stream",
     "text": [
      "---------------\n",
      "Human Score\n"
     ]
    },
    {
     "data": {
      "text/plain": [
       "0.457143"
      ]
     },
     "metadata": {
      "tags": []
     },
     "output_type": "display_data"
    },
    {
     "name": "stdout",
     "output_type": "stream",
     "text": [
      "Prediction\n"
     ]
    },
    {
     "data": {
      "text/plain": [
       "0.23242766"
      ]
     },
     "metadata": {
      "tags": []
     },
     "output_type": "display_data"
    },
    {
     "name": "stdout",
     "output_type": "stream",
     "text": [
      "---------------\n",
      "Human Score\n"
     ]
    },
    {
     "data": {
      "text/plain": [
       "0.057143"
      ]
     },
     "metadata": {
      "tags": []
     },
     "output_type": "display_data"
    },
    {
     "name": "stdout",
     "output_type": "stream",
     "text": [
      "Prediction\n"
     ]
    },
    {
     "data": {
      "text/plain": [
       "0.49395928"
      ]
     },
     "metadata": {
      "tags": []
     },
     "output_type": "display_data"
    },
    {
     "name": "stdout",
     "output_type": "stream",
     "text": [
      "---------------\n",
      "Human Score\n"
     ]
    },
    {
     "data": {
      "text/plain": [
       "0.470588"
      ]
     },
     "metadata": {
      "tags": []
     },
     "output_type": "display_data"
    },
    {
     "name": "stdout",
     "output_type": "stream",
     "text": [
      "Prediction\n"
     ]
    },
    {
     "data": {
      "text/plain": [
       "0.25468254"
      ]
     },
     "metadata": {
      "tags": []
     },
     "output_type": "display_data"
    },
    {
     "name": "stdout",
     "output_type": "stream",
     "text": [
      "---------------\n",
      "Human Score\n"
     ]
    },
    {
     "data": {
      "text/plain": [
       "0.542857"
      ]
     },
     "metadata": {
      "tags": []
     },
     "output_type": "display_data"
    },
    {
     "name": "stdout",
     "output_type": "stream",
     "text": [
      "Prediction\n"
     ]
    },
    {
     "data": {
      "text/plain": [
       "0.27474698"
      ]
     },
     "metadata": {
      "tags": []
     },
     "output_type": "display_data"
    },
    {
     "name": "stdout",
     "output_type": "stream",
     "text": [
      "---------------\n",
      "Human Score\n"
     ]
    },
    {
     "data": {
      "text/plain": [
       "0.088235"
      ]
     },
     "metadata": {
      "tags": []
     },
     "output_type": "display_data"
    },
    {
     "name": "stdout",
     "output_type": "stream",
     "text": [
      "Prediction\n"
     ]
    },
    {
     "data": {
      "text/plain": [
       "0.28067064"
      ]
     },
     "metadata": {
      "tags": []
     },
     "output_type": "display_data"
    },
    {
     "name": "stdout",
     "output_type": "stream",
     "text": [
      "---------------\n",
      "Human Score\n"
     ]
    },
    {
     "data": {
      "text/plain": [
       "0.470588"
      ]
     },
     "metadata": {
      "tags": []
     },
     "output_type": "display_data"
    },
    {
     "name": "stdout",
     "output_type": "stream",
     "text": [
      "Prediction\n"
     ]
    },
    {
     "data": {
      "text/plain": [
       "0.6918239"
      ]
     },
     "metadata": {
      "tags": []
     },
     "output_type": "display_data"
    },
    {
     "name": "stdout",
     "output_type": "stream",
     "text": [
      "---------------\n",
      "Human Score\n"
     ]
    },
    {
     "data": {
      "text/plain": [
       "0.352941"
      ]
     },
     "metadata": {
      "tags": []
     },
     "output_type": "display_data"
    },
    {
     "name": "stdout",
     "output_type": "stream",
     "text": [
      "Prediction\n"
     ]
    },
    {
     "data": {
      "text/plain": [
       "0.6243114"
      ]
     },
     "metadata": {
      "tags": []
     },
     "output_type": "display_data"
    },
    {
     "name": "stdout",
     "output_type": "stream",
     "text": [
      "---------------\n"
     ]
    }
   ],
   "source": [
    "for i in range (10):\n",
    "    print(\"Human Score\")\n",
    "    display(y_test[top10[i]])\n",
    "    print(\"Prediction\")\n",
    "    display(preds[top10[i]][0])\n",
    "    print(\"---------------\")"
   ]
  },
  {
   "cell_type": "markdown",
   "metadata": {
    "colab_type": "text",
    "id": "3bWYpjqFy6qI"
   },
   "source": [
    "## Show the 10 models that had the largest difference between predicted and human score"
   ]
  },
  {
   "cell_type": "code",
   "execution_count": null,
   "metadata": {
    "colab": {
     "base_uri": "https://localhost:8080/",
     "height": 341
    },
    "colab_type": "code",
    "executionInfo": {
     "elapsed": 193168,
     "status": "ok",
     "timestamp": 1588550884356,
     "user": {
      "displayName": "TiraniceD W",
      "photoUrl": "",
      "userId": "08898756779555237454"
     },
     "user_tz": 300
    },
    "id": "Lb-_S0K7y6qK",
    "outputId": "8eb87c51-fb48-413b-9f19-52aeea81168d"
   },
   "outputs": [
    {
     "data": {
      "image/png": "[encoded data removed]",
      "text/plain": [
       "<Figure size 432x288 with 1 Axes>"
      ]
     },
     "metadata": {
      "needs_background": "light",
      "tags": []
     },
     "output_type": "display_data"
    },
    {
     "name": "stdout",
     "output_type": "stream",
     "text": [
      "Human Score\n"
     ]
    },
    {
     "data": {
      "text/plain": [
       "0.294118"
      ]
     },
     "metadata": {
      "tags": []
     },
     "output_type": "display_data"
    },
    {
     "name": "stdout",
     "output_type": "stream",
     "text": [
      "Prediction\n"
     ]
    },
    {
     "data": {
      "text/plain": [
       "0.48557183"
      ]
     },
     "metadata": {
      "tags": []
     },
     "output_type": "display_data"
    }
   ],
   "source": [
    "plt.imshow(image.array_to_img(x_test[top10[0],:,:,:]), cmap='Greys_r') \n",
    "plt.show()\n",
    "\n",
    "print(\"Human Score\")\n",
    "display(y_test[top10[0]])\n",
    "print(\"Prediction\")\n",
    "display(preds[top10[0]][0])"
   ]
  },
  {
   "cell_type": "code",
   "execution_count": null,
   "metadata": {
    "colab": {
     "base_uri": "https://localhost:8080/",
     "height": 341
    },
    "colab_type": "code",
    "executionInfo": {
     "elapsed": 193612,
     "status": "ok",
     "timestamp": 1588550884827,
     "user": {
      "displayName": "TiraniceD W",
      "photoUrl": "",
      "userId": "08898756779555237454"
     },
     "user_tz": 300
    },
    "id": "my97pllpy6qP",
    "outputId": "c46fa566-7e9c-4bcc-fad5-4c857c990f95"
   },
   "outputs": [
    {
     "data": {
      "image/png": "[encoded data removed]",
      "text/plain": [
       "<Figure size 432x288 with 1 Axes>"
      ]
     },
     "metadata": {
      "needs_background": "light",
      "tags": []
     },
     "output_type": "display_data"
    },
    {
     "name": "stdout",
     "output_type": "stream",
     "text": [
      "Human Score\n"
     ]
    },
    {
     "data": {
      "text/plain": [
       "0.264706"
      ]
     },
     "metadata": {
      "tags": []
     },
     "output_type": "display_data"
    },
    {
     "name": "stdout",
     "output_type": "stream",
     "text": [
      "Prediction\n"
     ]
    },
    {
     "data": {
      "text/plain": [
       "0.062143095"
      ]
     },
     "metadata": {
      "tags": []
     },
     "output_type": "display_data"
    }
   ],
   "source": [
    "plt.imshow(image.array_to_img(x_test[top10[1],:,:,:]), cmap='Greys_r') \n",
    "plt.show()\n",
    "\n",
    "print(\"Human Score\")\n",
    "display(y_test[top10[1]])\n",
    "print(\"Prediction\")\n",
    "display(preds[top10[1]][0])"
   ]
  },
  {
   "cell_type": "code",
   "execution_count": null,
   "metadata": {
    "colab": {
     "base_uri": "https://localhost:8080/",
     "height": 341
    },
    "colab_type": "code",
    "executionInfo": {
     "elapsed": 193596,
     "status": "ok",
     "timestamp": 1588550884829,
     "user": {
      "displayName": "TiraniceD W",
      "photoUrl": "",
      "userId": "08898756779555237454"
     },
     "user_tz": 300
    },
    "id": "71uGs3Q3y6qT",
    "outputId": "06a91980-8bfa-40b8-d665-3ca75733598e"
   },
   "outputs": [
    {
     "data": {
      "image/png": "[encoded data removed]",
      "text/plain": [
       "<Figure size 432x288 with 1 Axes>"
      ]
     },
     "metadata": {
      "needs_background": "light",
      "tags": []
     },
     "output_type": "display_data"
    },
    {
     "name": "stdout",
     "output_type": "stream",
     "text": [
      "Human Score\n"
     ]
    },
    {
     "data": {
      "text/plain": [
       "0.235294"
      ]
     },
     "metadata": {
      "tags": []
     },
     "output_type": "display_data"
    },
    {
     "name": "stdout",
     "output_type": "stream",
     "text": [
      "Prediction\n"
     ]
    },
    {
     "data": {
      "text/plain": [
       "0.50180894"
      ]
     },
     "metadata": {
      "tags": []
     },
     "output_type": "display_data"
    }
   ],
   "source": [
    "plt.imshow(image.array_to_img(x_test[top10[2],:,:,:]), cmap='Greys_r') \n",
    "plt.savefig(\"ConvHumanNoiseExample2.png\")\n",
    "plt.show()\n",
    "\n",
    "print(\"Human Score\")\n",
    "display(y_test[top10[2]])\n",
    "print(\"Prediction\")\n",
    "display(preds[top10[2]][0])"
   ]
  },
  {
   "cell_type": "code",
   "execution_count": null,
   "metadata": {
    "colab": {
     "base_uri": "https://localhost:8080/",
     "height": 341
    },
    "colab_type": "code",
    "executionInfo": {
     "elapsed": 193998,
     "status": "ok",
     "timestamp": 1588550885250,
     "user": {
      "displayName": "TiraniceD W",
      "photoUrl": "",
      "userId": "08898756779555237454"
     },
     "user_tz": 300
    },
    "id": "u1ldROzky6qe",
    "outputId": "17cef7c7-f8f6-4273-dbe5-c17bfbc75534"
   },
   "outputs": [
    {
     "data": {
      "image/png": "[encoded data removed]",
      "text/plain": [
       "<Figure size 432x288 with 1 Axes>"
      ]
     },
     "metadata": {
      "needs_background": "light",
      "tags": []
     },
     "output_type": "display_data"
    },
    {
     "name": "stdout",
     "output_type": "stream",
     "text": [
      "Human Score\n"
     ]
    },
    {
     "data": {
      "text/plain": [
       "0.457143"
      ]
     },
     "metadata": {
      "tags": []
     },
     "output_type": "display_data"
    },
    {
     "name": "stdout",
     "output_type": "stream",
     "text": [
      "Prediction\n"
     ]
    },
    {
     "data": {
      "text/plain": [
       "0.23242766"
      ]
     },
     "metadata": {
      "tags": []
     },
     "output_type": "display_data"
    }
   ],
   "source": [
    "plt.imshow(image.array_to_img(x_test[top10[3],:,:,:]), cmap='Greys_r') \n",
    "plt.show()\n",
    "\n",
    "print(\"Human Score\")\n",
    "display(y_test[top10[3]])\n",
    "print(\"Prediction\")\n",
    "display(preds[top10[3]][0])"
   ]
  },
  {
   "cell_type": "code",
   "execution_count": null,
   "metadata": {
    "colab": {
     "base_uri": "https://localhost:8080/",
     "height": 341
    },
    "colab_type": "code",
    "executionInfo": {
     "elapsed": 193981,
     "status": "ok",
     "timestamp": 1588550885252,
     "user": {
      "displayName": "TiraniceD W",
      "photoUrl": "",
      "userId": "08898756779555237454"
     },
     "user_tz": 300
    },
    "id": "9VNVSHbIy6qj",
    "outputId": "fe9b4316-f44c-43e7-fae9-80738f4dcd45"
   },
   "outputs": [
    {
     "data": {
      "image/png": "[encoded data removed]",
      "text/plain": [
       "<Figure size 432x288 with 1 Axes>"
      ]
     },
     "metadata": {
      "needs_background": "light",
      "tags": []
     },
     "output_type": "display_data"
    },
    {
     "name": "stdout",
     "output_type": "stream",
     "text": [
      "Human Score\n"
     ]
    },
    {
     "data": {
      "text/plain": [
       "0.057143"
      ]
     },
     "metadata": {
      "tags": []
     },
     "output_type": "display_data"
    },
    {
     "name": "stdout",
     "output_type": "stream",
     "text": [
      "Prediction\n"
     ]
    },
    {
     "data": {
      "text/plain": [
       "0.49395928"
      ]
     },
     "metadata": {
      "tags": []
     },
     "output_type": "display_data"
    }
   ],
   "source": [
    "plt.imshow(image.array_to_img(x_test[top10[4],:,:,:]), cmap='Greys_r') \n",
    "plt.show()\n",
    "\n",
    "print(\"Human Score\")\n",
    "display(y_test[top10[4]])\n",
    "print(\"Prediction\")\n",
    "display(preds[top10[4]][0])"
   ]
  },
  {
   "cell_type": "code",
   "execution_count": null,
   "metadata": {
    "colab": {
     "base_uri": "https://localhost:8080/",
     "height": 341
    },
    "colab_type": "code",
    "executionInfo": {
     "elapsed": 193958,
     "status": "ok",
     "timestamp": 1588550885253,
     "user": {
      "displayName": "TiraniceD W",
      "photoUrl": "",
      "userId": "08898756779555237454"
     },
     "user_tz": 300
    },
    "id": "y3D7BtKdy6qq",
    "outputId": "d02b68db-4c00-46e1-e7a9-c9577245f14e"
   },
   "outputs": [
    {
     "data": {
      "image/png": "[encoded data removed]",
      "text/plain": [
       "<Figure size 432x288 with 1 Axes>"
      ]
     },
     "metadata": {
      "needs_background": "light",
      "tags": []
     },
     "output_type": "display_data"
    },
    {
     "name": "stdout",
     "output_type": "stream",
     "text": [
      "Human Score\n"
     ]
    },
    {
     "data": {
      "text/plain": [
       "0.470588"
      ]
     },
     "metadata": {
      "tags": []
     },
     "output_type": "display_data"
    },
    {
     "name": "stdout",
     "output_type": "stream",
     "text": [
      "Prediction\n"
     ]
    },
    {
     "data": {
      "text/plain": [
       "0.25468254"
      ]
     },
     "metadata": {
      "tags": []
     },
     "output_type": "display_data"
    }
   ],
   "source": [
    "plt.imshow(image.array_to_img(x_test[top10[5],:,:,:]), cmap='Greys_r') \n",
    "plt.show()\n",
    "\n",
    "print(\"Human Score\")\n",
    "display(y_test[top10[5]])\n",
    "print(\"Prediction\")\n",
    "display(preds[top10[5]][0])"
   ]
  },
  {
   "cell_type": "code",
   "execution_count": null,
   "metadata": {
    "colab": {
     "base_uri": "https://localhost:8080/",
     "height": 341
    },
    "colab_type": "code",
    "executionInfo": {
     "elapsed": 193942,
     "status": "ok",
     "timestamp": 1588550885255,
     "user": {
      "displayName": "TiraniceD W",
      "photoUrl": "",
      "userId": "08898756779555237454"
     },
     "user_tz": 300
    },
    "id": "IqtvKsYay6qs",
    "outputId": "e52ef2b6-7fe1-4361-9b3e-f8cb3e7a44ba"
   },
   "outputs": [
    {
     "data": {
      "image/png": "[encoded data removed]",
      "text/plain": [
       "<Figure size 432x288 with 1 Axes>"
      ]
     },
     "metadata": {
      "needs_background": "light",
      "tags": []
     },
     "output_type": "display_data"
    },
    {
     "name": "stdout",
     "output_type": "stream",
     "text": [
      "Human Score\n"
     ]
    },
    {
     "data": {
      "text/plain": [
       "0.542857"
      ]
     },
     "metadata": {
      "tags": []
     },
     "output_type": "display_data"
    },
    {
     "name": "stdout",
     "output_type": "stream",
     "text": [
      "Prediction\n"
     ]
    },
    {
     "data": {
      "text/plain": [
       "0.27474698"
      ]
     },
     "metadata": {
      "tags": []
     },
     "output_type": "display_data"
    }
   ],
   "source": [
    "plt.imshow(image.array_to_img(x_test[top10[6],:,:,:]), cmap='Greys_r') \n",
    "plt.show()\n",
    "\n",
    "print(\"Human Score\")\n",
    "display(y_test[top10[6]])\n",
    "print(\"Prediction\")\n",
    "display(preds[top10[6]][0])"
   ]
  },
  {
   "cell_type": "code",
   "execution_count": null,
   "metadata": {
    "colab": {
     "base_uri": "https://localhost:8080/",
     "height": 341
    },
    "colab_type": "code",
    "executionInfo": {
     "elapsed": 194365,
     "status": "ok",
     "timestamp": 1588550885700,
     "user": {
      "displayName": "TiraniceD W",
      "photoUrl": "",
      "userId": "08898756779555237454"
     },
     "user_tz": 300
    },
    "id": "lvWhNgz8y6qy",
    "outputId": "45e11e0c-a777-4343-efca-c387bb9f50ac"
   },
   "outputs": [
    {
     "data": {
      "image/png": "[encoded data removed]",
      "text/plain": [
       "<Figure size 432x288 with 1 Axes>"
      ]
     },
     "metadata": {
      "needs_background": "light",
      "tags": []
     },
     "output_type": "display_data"
    },
    {
     "name": "stdout",
     "output_type": "stream",
     "text": [
      "Human Score\n"
     ]
    },
    {
     "data": {
      "text/plain": [
       "0.088235"
      ]
     },
     "metadata": {
      "tags": []
     },
     "output_type": "display_data"
    },
    {
     "name": "stdout",
     "output_type": "stream",
     "text": [
      "Prediction\n"
     ]
    },
    {
     "data": {
      "text/plain": [
       "0.28067064"
      ]
     },
     "metadata": {
      "tags": []
     },
     "output_type": "display_data"
    }
   ],
   "source": [
    "plt.imshow(image.array_to_img(x_test[top10[7],:,:,:]), cmap='Greys_r') \n",
    "plt.show()\n",
    "\n",
    "print(\"Human Score\")\n",
    "display(y_test[top10[7]])\n",
    "print(\"Prediction\")\n",
    "display(preds[top10[7]][0])"
   ]
  },
  {
   "cell_type": "code",
   "execution_count": null,
   "metadata": {
    "colab": {
     "base_uri": "https://localhost:8080/",
     "height": 341
    },
    "colab_type": "code",
    "executionInfo": {
     "elapsed": 194344,
     "status": "ok",
     "timestamp": 1588550885701,
     "user": {
      "displayName": "TiraniceD W",
      "photoUrl": "",
      "userId": "08898756779555237454"
     },
     "user_tz": 300
    },
    "id": "0CGmIRkZy6q0",
    "outputId": "ae3a451f-95df-43cd-dd85-77330d14bbff"
   },
   "outputs": [
    {
     "data": {
      "image/png": "[encoded data removed]",
      "text/plain": [
       "<Figure size 432x288 with 1 Axes>"
      ]
     },
     "metadata": {
      "needs_background": "light",
      "tags": []
     },
     "output_type": "display_data"
    },
    {
     "name": "stdout",
     "output_type": "stream",
     "text": [
      "Human Score\n"
     ]
    },
    {
     "data": {
      "text/plain": [
       "0.470588"
      ]
     },
     "metadata": {
      "tags": []
     },
     "output_type": "display_data"
    },
    {
     "name": "stdout",
     "output_type": "stream",
     "text": [
      "Prediction\n"
     ]
    },
    {
     "data": {
      "text/plain": [
       "0.6918239"
      ]
     },
     "metadata": {
      "tags": []
     },
     "output_type": "display_data"
    }
   ],
   "source": [
    "plt.imshow(image.array_to_img(x_test[top10[8],:,:,:]), cmap='Greys_r') \n",
    "plt.show()\n",
    "\n",
    "print(\"Human Score\")\n",
    "display(y_test[top10[8]])\n",
    "print(\"Prediction\")\n",
    "display(preds[top10[8]][0])"
   ]
  },
  {
   "cell_type": "code",
   "execution_count": null,
   "metadata": {
    "colab": {
     "base_uri": "https://localhost:8080/",
     "height": 341
    },
    "colab_type": "code",
    "executionInfo": {
     "elapsed": 195119,
     "status": "ok",
     "timestamp": 1588550886496,
     "user": {
      "displayName": "TiraniceD W",
      "photoUrl": "",
      "userId": "08898756779555237454"
     },
     "user_tz": 300
    },
    "id": "Y-9_-pfHy6q5",
    "outputId": "657a54b0-772a-42d8-f541-6fad6c919579"
   },
   "outputs": [
    {
     "data": {
      "image/png": "[encoded data removed]",
      "text/plain": [
       "<Figure size 432x288 with 1 Axes>"
      ]
     },
     "metadata": {
      "needs_background": "light",
      "tags": []
     },
     "output_type": "display_data"
    },
    {
     "name": "stdout",
     "output_type": "stream",
     "text": [
      "Human Score\n"
     ]
    },
    {
     "data": {
      "text/plain": [
       "0.352941"
      ]
     },
     "metadata": {
      "tags": []
     },
     "output_type": "display_data"
    },
    {
     "name": "stdout",
     "output_type": "stream",
     "text": [
      "Prediction\n"
     ]
    },
    {
     "data": {
      "text/plain": [
       "0.6243114"
      ]
     },
     "metadata": {
      "tags": []
     },
     "output_type": "display_data"
    }
   ],
   "source": [
    "plt.imshow(image.array_to_img(x_test[top10[9],:,:,:]), cmap='Greys_r') \n",
    "plt.savefig(\"ConvHumanNoiseExample.png\")\n",
    "plt.show()\n",
    "\n",
    "print(\"Human Score\")\n",
    "display(y_test[top10[9]])\n",
    "print(\"Prediction\")\n",
    "display(preds[top10[9]][0])"
   ]
  },
  {
   "cell_type": "markdown",
   "metadata": {
    "colab_type": "text",
    "id": "RciZ1mJSy6q-"
   },
   "source": [
    "## Show the 5 models that the net had the closest prediction on"
   ]
  },
  {
   "cell_type": "code",
   "execution_count": null,
   "metadata": {
    "colab": {
     "base_uri": "https://localhost:8080/",
     "height": 341
    },
    "colab_type": "code",
    "executionInfo": {
     "elapsed": 195093,
     "status": "ok",
     "timestamp": 1588550886498,
     "user": {
      "displayName": "TiraniceD W",
      "photoUrl": "",
      "userId": "08898756779555237454"
     },
     "user_tz": 300
    },
    "id": "A7hM-c9Hy6q_",
    "outputId": "c13bd12d-5e79-480e-d12f-369a0ad08dc1"
   },
   "outputs": [
    {
     "data": {
      "image/png": "[encoded data removed]",
      "text/plain": [
       "<Figure size 432x288 with 1 Axes>"
      ]
     },
     "metadata": {
      "needs_background": "light",
      "tags": []
     },
     "output_type": "display_data"
    },
    {
     "name": "stdout",
     "output_type": "stream",
     "text": [
      "Human Score\n"
     ]
    },
    {
     "data": {
      "text/plain": [
       "0.058824"
      ]
     },
     "metadata": {
      "tags": []
     },
     "output_type": "display_data"
    },
    {
     "name": "stdout",
     "output_type": "stream",
     "text": [
      "Prediction\n"
     ]
    },
    {
     "data": {
      "text/plain": [
       "0.059968013"
      ]
     },
     "metadata": {
      "tags": []
     },
     "output_type": "display_data"
    }
   ],
   "source": [
    "plt.imshow(image.array_to_img(x_test[bottom5[0],:,:,:]), cmap='Greys_r') \n",
    "plt.show()\n",
    "\n",
    "print(\"Human Score\")\n",
    "display(y_test[bottom5[0]])\n",
    "print(\"Prediction\")\n",
    "display(preds[bottom5[0]][0])"
   ]
  },
  {
   "cell_type": "code",
   "execution_count": null,
   "metadata": {
    "colab": {
     "base_uri": "https://localhost:8080/",
     "height": 341
    },
    "colab_type": "code",
    "executionInfo": {
     "elapsed": 195077,
     "status": "ok",
     "timestamp": 1588550886498,
     "user": {
      "displayName": "TiraniceD W",
      "photoUrl": "",
      "userId": "08898756779555237454"
     },
     "user_tz": 300
    },
    "id": "Fq_ynD5Qy6rD",
    "outputId": "e60eed24-cebd-4505-8042-44965b9b2a80"
   },
   "outputs": [
    {
     "data": {
      "image/png": "[encoded data removed]",
      "text/plain": [
       "<Figure size 432x288 with 1 Axes>"
      ]
     },
     "metadata": {
      "needs_background": "light",
      "tags": []
     },
     "output_type": "display_data"
    },
    {
     "name": "stdout",
     "output_type": "stream",
     "text": [
      "Human Score\n"
     ]
    },
    {
     "data": {
      "text/plain": [
       "0.057143"
      ]
     },
     "metadata": {
      "tags": []
     },
     "output_type": "display_data"
    },
    {
     "name": "stdout",
     "output_type": "stream",
     "text": [
      "Prediction\n"
     ]
    },
    {
     "data": {
      "text/plain": [
       "0.05805636"
      ]
     },
     "metadata": {
      "tags": []
     },
     "output_type": "display_data"
    }
   ],
   "source": [
    "plt.imshow(image.array_to_img(x_test[bottom5[1],:,:,:]), cmap='Greys_r') \n",
    "plt.show()\n",
    "\n",
    "print(\"Human Score\")\n",
    "display(y_test[bottom5[1]])\n",
    "print(\"Prediction\")\n",
    "display(preds[bottom5[1]][0])"
   ]
  },
  {
   "cell_type": "code",
   "execution_count": null,
   "metadata": {
    "colab": {
     "base_uri": "https://localhost:8080/",
     "height": 341
    },
    "colab_type": "code",
    "executionInfo": {
     "elapsed": 195059,
     "status": "ok",
     "timestamp": 1588550886499,
     "user": {
      "displayName": "TiraniceD W",
      "photoUrl": "",
      "userId": "08898756779555237454"
     },
     "user_tz": 300
    },
    "id": "YNMEZug8y6rH",
    "outputId": "c14505c0-a766-42f2-d933-b1d098d10724"
   },
   "outputs": [
    {
     "data": {
      "image/png": "[encoded data removed]",
      "text/plain": [
       "<Figure size 432x288 with 1 Axes>"
      ]
     },
     "metadata": {
      "needs_background": "light",
      "tags": []
     },
     "output_type": "display_data"
    },
    {
     "name": "stdout",
     "output_type": "stream",
     "text": [
      "Human Score\n"
     ]
    },
    {
     "data": {
      "text/plain": [
       "0.057143"
      ]
     },
     "metadata": {
      "tags": []
     },
     "output_type": "display_data"
    },
    {
     "name": "stdout",
     "output_type": "stream",
     "text": [
      "Prediction\n"
     ]
    },
    {
     "data": {
      "text/plain": [
       "0.05598427"
      ]
     },
     "metadata": {
      "tags": []
     },
     "output_type": "display_data"
    }
   ],
   "source": [
    "plt.imshow(image.array_to_img(x_test[bottom5[2],:,:,:]), cmap='Greys_r') \n",
    "plt.show()\n",
    "\n",
    "print(\"Human Score\")\n",
    "display(y_test[bottom5[2]])\n",
    "print(\"Prediction\")\n",
    "display(preds[bottom5[2]][0])"
   ]
  },
  {
   "cell_type": "code",
   "execution_count": null,
   "metadata": {
    "colab": {
     "base_uri": "https://localhost:8080/",
     "height": 341
    },
    "colab_type": "code",
    "executionInfo": {
     "elapsed": 195452,
     "status": "ok",
     "timestamp": 1588550886904,
     "user": {
      "displayName": "TiraniceD W",
      "photoUrl": "",
      "userId": "08898756779555237454"
     },
     "user_tz": 300
    },
    "id": "MRfkTbgDy6rN",
    "outputId": "d6e9a404-5bbb-44eb-dc44-44ca6a1e2ea0"
   },
   "outputs": [
    {
     "data": {
      "image/png": "[encoded data removed]",
      "text/plain": [
       "<Figure size 432x288 with 1 Axes>"
      ]
     },
     "metadata": {
      "needs_background": "light",
      "tags": []
     },
     "output_type": "display_data"
    },
    {
     "name": "stdout",
     "output_type": "stream",
     "text": [
      "Human Score\n"
     ]
    },
    {
     "data": {
      "text/plain": [
       "0.085714"
      ]
     },
     "metadata": {
      "tags": []
     },
     "output_type": "display_data"
    },
    {
     "name": "stdout",
     "output_type": "stream",
     "text": [
      "Prediction\n"
     ]
    },
    {
     "data": {
      "text/plain": [
       "0.084173456"
      ]
     },
     "metadata": {
      "tags": []
     },
     "output_type": "display_data"
    }
   ],
   "source": [
    "plt.imshow(image.array_to_img(x_test[bottom5[3],:,:,:]), cmap='Greys_r') \n",
    "plt.show()\n",
    "\n",
    "print(\"Human Score\")\n",
    "display(y_test[bottom5[3]])\n",
    "print(\"Prediction\")\n",
    "display(preds[bottom5[3]][0])"
   ]
  },
  {
   "cell_type": "code",
   "execution_count": null,
   "metadata": {
    "colab": {
     "base_uri": "https://localhost:8080/",
     "height": 341
    },
    "colab_type": "code",
    "executionInfo": {
     "elapsed": 195434,
     "status": "ok",
     "timestamp": 1588550886906,
     "user": {
      "displayName": "TiraniceD W",
      "photoUrl": "",
      "userId": "08898756779555237454"
     },
     "user_tz": 300
    },
    "id": "39wLTXGGy6rR",
    "outputId": "bce7c61d-5ccc-4bf6-e4df-d3daa791d536"
   },
   "outputs": [
    {
     "data": {
      "image/png": "[encoded data removed]",
      "text/plain": [
       "<Figure size 432x288 with 1 Axes>"
      ]
     },
     "metadata": {
      "needs_background": "light",
      "tags": []
     },
     "output_type": "display_data"
    },
    {
     "name": "stdout",
     "output_type": "stream",
     "text": [
      "Human Score\n"
     ]
    },
    {
     "data": {
      "text/plain": [
       "0.222222"
      ]
     },
     "metadata": {
      "tags": []
     },
     "output_type": "display_data"
    },
    {
     "name": "stdout",
     "output_type": "stream",
     "text": [
      "Prediction\n"
     ]
    },
    {
     "data": {
      "text/plain": [
       "0.2204854"
      ]
     },
     "metadata": {
      "tags": []
     },
     "output_type": "display_data"
    }
   ],
   "source": [
    "plt.imshow(image.array_to_img(x_test[bottom5[4],:,:,:]), cmap='Greys_r') \n",
    "plt.show()\n",
    "\n",
    "print(\"Human Score\")\n",
    "display(y_test[bottom5[4]])\n",
    "print(\"Prediction\")\n",
    "display(preds[bottom5[4]][0])"
   ]
  },
  {
   "cell_type": "code",
   "execution_count": null,
   "metadata": {
    "colab": {
     "base_uri": "https://localhost:8080/",
     "height": 53
    },
    "colab_type": "code",
    "executionInfo": {
     "elapsed": 195421,
     "status": "ok",
     "timestamp": 1588550886910,
     "user": {
      "displayName": "TiraniceD W",
      "photoUrl": "",
      "userId": "08898756779555237454"
     },
     "user_tz": 300
    },
    "id": "6kEzvWWmy6rV",
    "outputId": "f640d31e-1bb3-40d7-eb4b-619aeae70b63"
   },
   "outputs": [
    {
     "data": {
      "text/plain": [
       "0.901352"
      ]
     },
     "metadata": {
      "tags": []
     },
     "output_type": "display_data"
    },
    {
     "data": {
      "text/plain": [
       "51"
      ]
     },
     "metadata": {
      "tags": []
     },
     "output_type": "display_data"
    }
   ],
   "source": [
    "maxPred = np.amax(preds, axis=0)\n",
    "maxPredIndex = np.where(preds == maxPred)\n",
    "display(maxPred[0])\n",
    "display(maxPredIndex[0][0])"
   ]
  },
  {
   "cell_type": "markdown",
   "metadata": {
    "colab_type": "text",
    "id": "nopjeQtOy6rX"
   },
   "source": [
    "## Show the model that the net gave the highest score"
   ]
  },
  {
   "cell_type": "code",
   "execution_count": null,
   "metadata": {
    "colab": {
     "base_uri": "https://localhost:8080/",
     "height": 341
    },
    "colab_type": "code",
    "executionInfo": {
     "elapsed": 195409,
     "status": "ok",
     "timestamp": 1588550886912,
     "user": {
      "displayName": "TiraniceD W",
      "photoUrl": "",
      "userId": "08898756779555237454"
     },
     "user_tz": 300
    },
    "id": "MIcICpCBy6rY",
    "outputId": "b67c338e-0c16-46c5-c920-fecb32f7a59a"
   },
   "outputs": [
    {
     "data": {
      "image/png": "[encoded data removed]",
      "text/plain": [
       "<Figure size 432x288 with 1 Axes>"
      ]
     },
     "metadata": {
      "needs_background": "light",
      "tags": []
     },
     "output_type": "display_data"
    },
    {
     "name": "stdout",
     "output_type": "stream",
     "text": [
      "Human Score\n"
     ]
    },
    {
     "data": {
      "text/plain": [
       "0.911765"
      ]
     },
     "metadata": {
      "tags": []
     },
     "output_type": "display_data"
    },
    {
     "name": "stdout",
     "output_type": "stream",
     "text": [
      "Prediction\n"
     ]
    },
    {
     "data": {
      "text/plain": [
       "0.901352"
      ]
     },
     "metadata": {
      "tags": []
     },
     "output_type": "display_data"
    }
   ],
   "source": [
    "plt.imshow(image.array_to_img(x_test[maxPredIndex[0][0],:,:,:]), cmap='Greys_r') \n",
    "plt.savefig(\"ConvPredictedBest.png\")\n",
    "plt.show()\n",
    "\n",
    "print(\"Human Score\")\n",
    "display(y_test[maxPredIndex[0][0]])\n",
    "print(\"Prediction\")\n",
    "display(preds[maxPredIndex[0][0]][0])"
   ]
  },
  {
   "cell_type": "code",
   "execution_count": null,
   "metadata": {
    "colab": {},
    "colab_type": "code",
    "id": "oqUvkZFJy6rq"
   },
   "outputs": [],
   "source": []
  }
 ],
 "metadata": {
  "accelerator": "GPU",
  "colab": {
   "name": "ConvRegressionTest.ipynb",
   "provenance": [],
   "toc_visible": true
  },
  "kernelspec": {
   "display_name": "Python 3",
   "language": "python",
   "name": "python3"
  },
  "language_info": {
   "codemirror_mode": {
    "name": "ipython",
    "version": 3
   },
   "file_extension": ".py",
   "mimetype": "text/x-python",
   "name": "python",
   "nbconvert_exporter": "python",
   "pygments_lexer": "ipython3",
   "version": "3.7.6"
  }
 },
 "nbformat": 4,
 "nbformat_minor": 4
}
