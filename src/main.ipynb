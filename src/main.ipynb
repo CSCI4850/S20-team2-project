{
 "cells": [
  {
   "cell_type": "code",
   "execution_count": 11,
   "metadata": {},
   "outputs": [
    {
     "data": {
      "text/plain": [
       "(1294, 100, 100, 3)"
      ]
     },
     "metadata": {},
     "output_type": "display_data"
    },
    {
     "data": {
      "text/plain": [
       "(1294, 245)"
      ]
     },
     "metadata": {},
     "output_type": "display_data"
    },
    {
     "name": "stdout",
     "output_type": "stream",
     "text": [
      "Model: \"sequential_3\"\n",
      "_________________________________________________________________\n",
      "Layer (type)                 Output Shape              Param #   \n",
      "=================================================================\n",
      "conv2d_5 (Conv2D)            (None, 85, 85, 32)        24608     \n",
      "_________________________________________________________________\n",
      "conv2d_6 (Conv2D)            (None, 70, 70, 32)        262176    \n",
      "_________________________________________________________________\n",
      "max_pooling2d_3 (MaxPooling2 (None, 17, 17, 32)        0         \n",
      "_________________________________________________________________\n",
      "dropout_5 (Dropout)          (None, 17, 17, 32)        0         \n",
      "_________________________________________________________________\n",
      "flatten_3 (Flatten)          (None, 9248)              0         \n",
      "_________________________________________________________________\n",
      "dense_5 (Dense)              (None, 128)               1183872   \n",
      "_________________________________________________________________\n",
      "dropout_6 (Dropout)          (None, 128)               0         \n",
      "_________________________________________________________________\n",
      "dense_6 (Dense)              (None, 245)               31605     \n",
      "=================================================================\n",
      "Total params: 1,502,261\n",
      "Trainable params: 1,502,261\n",
      "Non-trainable params: 0\n",
      "_________________________________________________________________\n",
      "Epoch 1/4\n",
      "1294/1294 [==============================] - 157s 121ms/step - loss: 6.6852 - accuracy: 0.1631\n",
      "Epoch 2/4\n",
      "1294/1294 [==============================] - 148s 114ms/step - loss: 6.7757 - accuracy: 0.9869\n",
      "Epoch 3/4\n",
      "1294/1294 [==============================] - 158s 122ms/step - loss: 16.1056 - accuracy: 0.9938\n",
      "Epoch 4/4\n",
      "1294/1294 [==============================] - 148s 114ms/step - loss: 16.1181 - accuracy: 0.9946\n"
     ]
    },
    {
     "data": {
      "image/png": "[encoded data removed]",
      "text/plain": [
       "<Figure size 432x288 with 2 Axes>"
      ]
     },
     "metadata": {
      "needs_background": "light"
     },
     "output_type": "display_data"
    }
   ],
   "source": [
    "# 1- Process the dataset\n",
    "# 2- Make the deep neural network\n",
    "# 3- Train the DNN\n",
    "# 4- Test the DNN\n",
    "\n",
    "import keras\n",
    "from keras import backend as K\n",
    "import numpy as np\n",
    "import matplotlib.pyplot as plt\n",
    "from mpl_toolkits.mplot3d import axes3d\n",
    "%matplotlib inline\n",
    "from IPython.display import display\n",
    "from keras.applications.xception import Xception\n",
    "from keras.preprocessing import image\n",
    "from keras.applications.xception import preprocess_input, decode_predictions\n",
    "\n",
    "# First : Processing the dataset\n",
    "\n",
    "def grab_image(img_path):\n",
    "    img = image.load_img(img_path, target_size=(100, 100))\n",
    "    x = image.img_to_array(img)\n",
    "    x = np.expand_dims(x, axis=0)\n",
    "    x = preprocess_input(x)\n",
    "    return x\n",
    "\n",
    "X = np.concatenate([grab_image('/home/jts7n/miscImgs/model/%d_model.png'%(i)) for i in range(1294)])\n",
    "\n",
    "x_train = X\n",
    "y_train = np.zeros([1294])\n",
    "\n",
    "x_train /= 255\n",
    "\n",
    "# # Convert class vector [0-9] to categorical assignments (one-hot)\n",
    "y_train = keras.utils.to_categorical(y_train, len(np.unique(x_train)))\n",
    "\n",
    "display(x_train.shape)\n",
    "display(y_train.shape)\n",
    "\n",
    "model = keras.Sequential()\n",
    "# Note the input size (there is only one channel - intensity)\n",
    "# these images... if you are using color images, your would\n",
    "# need to set the last dimension of the input_shape to -3-\n",
    "# above and this would carry over into this cell...\n",
    "\n",
    "# Use ‘relu’ as the activation function for the input layer\n",
    "model.add(keras.layers.Conv2D(32, kernel_size=(16, 16),\n",
    "                              activation='relu',\n",
    "                              input_shape=[x_train.shape[1],\n",
    "                                           x_train.shape[2],\n",
    "                                           x_train.shape[3]]))\n",
    "\n",
    "# Use ‘relu’ as the activation function for the hidden layers\n",
    "model.add(keras.layers.Conv2D(32, (16, 16), activation='relu'))\n",
    "model.add(keras.layers.MaxPooling2D(pool_size=(4, 4)))\n",
    "model.add(keras.layers.Dropout(0.25))\n",
    "model.add(keras.layers.Flatten())\n",
    "\n",
    "# Add some dense layer(s)\n",
    "model.add(keras.layers.Dense(128, activation='relu'))\n",
    "model.add(keras.layers.Dropout(0.5))\n",
    "\n",
    "# Use ‘linear ’as the activation function for the output layer\n",
    "model.add(keras.layers.Dense(y_train.shape[1], activation='linear'))\n",
    "model.compile(loss=keras.losses.categorical_crossentropy,\n",
    "optimizer=keras.optimizers.Adam(),\n",
    "metrics=['accuracy'])\n",
    "model.summary()\n",
    "\n",
    "# Third : Train the model\n",
    "\n",
    "batch_size = 512\n",
    "epochs = 4\n",
    "history = model.fit(x_train, y_train,\n",
    "                    batch_size=batch_size,\n",
    "                    epochs=epochs,\n",
    "                    verbose=1,\n",
    "                    validation_split = 0)\n",
    "\n",
    "plt.figure(1)\n",
    "# summarize history for accuracy\n",
    "plt.subplot(211)\n",
    "plt.plot(history.history['accuracy'])\n",
    "#plt.plot(history.history['val_accuracy'])\n",
    "plt.title('model accuracy')\n",
    "plt.ylabel('accuracy')\n",
    "plt.xlabel('epoch')\n",
    "plt.legend(['train'], loc='upper left')\n",
    "# summarize history for loss\n",
    "plt.subplot(212)\n",
    "plt.plot(history.history['loss'])\n",
    "#plt.plot(history.history['val_loss'])\n",
    "plt.title('model loss')\n",
    "plt.ylabel('loss')\n",
    "plt.xlabel('epoch')\n",
    "plt.legend(['train'], loc='upper left')\n",
    "plt.tight_layout()\n",
    "plt.show()\n",
    "\n"
   ]
  },
  {
   "cell_type": "markdown",
   "metadata": {},
   "source": [
    "### Fourth : Test the model"
   ]
  },
  {
   "cell_type": "code",
   "execution_count": null,
   "metadata": {},
   "outputs": [],
   "source": []
  }
 ],
 "metadata": {
  "kernelspec": {
   "display_name": "Python 3",
   "language": "python",
   "name": "python3"
  },
  "language_info": {
   "codemirror_mode": {
    "name": "ipython",
    "version": 3
   },
   "file_extension": ".py",
   "mimetype": "text/x-python",
   "name": "python",
   "nbconvert_exporter": "python",
   "pygments_lexer": "ipython3",
   "version": "3.7.6"
  }
 },
 "nbformat": 4,
 "nbformat_minor": 4
}
