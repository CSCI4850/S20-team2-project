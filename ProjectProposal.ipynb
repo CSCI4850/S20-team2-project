{
 "cells": [
  {
   "cell_type": "markdown",
   "metadata": {},
   "source": [
    "## 1. Does your project have a specific or focused aim (or set of aims)? (3 points)"
   ]
  },
  {
   "cell_type": "code",
   "execution_count": null,
   "metadata": {},
   "outputs": [],
   "source": []
  },
  {
   "cell_type": "markdown",
   "metadata": {},
   "source": [
    "## 2. Does your proposal exposit the specific role that neural networks will play in the project? (2 points)"
   ]
  },
  {
   "cell_type": "code",
   "execution_count": null,
   "metadata": {},
   "outputs": [],
   "source": []
  },
  {
   "cell_type": "markdown",
   "metadata": {},
   "source": [
    "## 3. Does your project have a specific set of data (or data sets) identified? (4 points)\n"
   ]
  },
  {
   "cell_type": "markdown",
   "metadata": {},
   "source": [
    "The data sets identified have been amassed for Galaxy Zoo: Mergers (Link:https://mergers.galaxyzoo.org/). The target information is framed as two galaxies converge.  The first data set is called Target Info which is a text file containing the coordinates (in Right Ascension (RA - east and west longitudinal coordinates) and Declination (Dec - north and south latitudinal coordinates) for the center of each galaxy paring.  There is also a set of alternative names derived Atlas of Peculiar Galaxies (Arp), General Catalogue of Nebulae and Clusters of Stars (NGC/IC), Uppsala General Catalogue (UGC), Sloan Digital Sky Survey (SDSS), and Two Micron ALl Sky Survey (2MASS).  These sets are collected into a Target SDSS file with contains the id of the objects as well as the de-reddened magnitudes of SDSS u, g, r, i and z bands.  Those bands are filtered observations based on ultraviolet (u), green (g), red (r), near-infrared (i), and infrared (z) filtration measurements.  Whenever possible, DR7 and DR8 (data release) values are included.  \n",
    "\n",
    "Below is the column information provided by Target_info.txt:\n",
    "\n",
    ">ID\tTarget id, one-up number roughly same as Merger Zoo presentation order\\\\\n",
    ">SDSSID\tSDSS DR7 ID for target\\newline\n",
    ">PRI_RA_DEG\tRA in degrees for primary galaxy\\break\n",
    ">PRI_DEC_DEG\tDEC in degrees for primary galaxy\n",
    ">PRI_NAMES\tAlternate names for primary galaxy: SDSS, Arp, NGC/IC, UGC, 2MASS\n",
    ">SEC_RA_DEG\tRA in degrees for secondary galaxy\n",
    ">SEC_DEC_DEG\tDEC in degrees for secondary galaxy\n",
    ">SEC_NAMES\tAlternate names for secondary galaxy: SDSS, Arp, NGC/IC, UGC, 2MASS\"\n",
    "\n",
    "Below is the column information provided by Target_sdss.txt:\n",
    "\n",
    ">ID\tTarget id, one-up number roughly same as Merger Zoo presentation order\n",
    "SDSSID\tSDSS DR7 ID for target\n",
    "PRI_DR7_ID\tSDSS DR7 id for primary galaxy\n",
    "PRI_DR8_ID\tSDSS DR8 id for primary galaxy\n",
    "SEC_DR7_ID\tSDSS DR7 id for secondary galaxy\n",
    "SEC_DR8_ID\tSDSS DR8 id for secondary galaxy\n",
    "PRI_DR7_U\tDered U magnitude (model - extinction) from DR7 for primary\n",
    "PRI_DR7_G\tDered G magnitude (model - extinction) from DR7 for primary\n",
    "PRI_DR7_R\tDered R magnitude (model - extinction) from DR7 for primary\n",
    "PRI_DR7_I\tDered I magnitude (model - extinction) from DR7 for primary\n",
    "PRI_DR7_Z\tDered Z magnitude (model - extinction) from DR7 for primary\n",
    "PRI_DR7_SPECZ\tSpectral redshift from DR7 for primary\n",
    "PRI_DR7_PHOTOZ\tPhotometric redshift from DR7 for primary\n",
    "PRI_DR7_PHOTOZ2\tAlternate photometric redshift from DR7 for primary\n",
    "PRI_DR8_U\tDered U magnitude (model - extinction) from DR8 for primary\n",
    "PRI_DR8_G\tDered G magnitude (model - extinction) from DR8 for primary\n",
    "PRI_DR8_R\tDered R magnitude (model - extinction) from DR8 for primary\n",
    "PRI_DR8_I\tDered I magnitude (model - extinction) from DR8 for primary\n",
    "PRI_DR8_Z\tDered Z magnitude (model - extinction) from DR8 for primary\n",
    "PRI_DR8_SPECZ\tSpectral redshift from DR8 for primary\n",
    "PRI_DR8_PHOTOZ\tPhotometric redshift from DR8 for primary\n",
    "PRI_DR8_PHOTOZ2\tAlternate photometric redshift from DR8 for primary\n",
    "SEC_DR7_U\tDered U magnitude (model - extinction) from DR7 for secondary\n",
    "SEC_DR7_G\tDered G magnitude (model - extinction) from DR7 for secondary\n",
    "SEC_DR7_R\tDered R magnitude (model - extinction) from DR7 for secondary\n",
    "SEC_DR7_I\tDered I magnitude (model - extinction) from DR7 for secondary\n",
    "SEC_DR7_Z\tDered Z magnitude (model - extinction) from DR7 for secondary\n",
    "SEC_DR7_SPECZ\tSpectral redshift from DR7 for secondary\n",
    "SEC_DR7_PHOTOZ\tPhotometric redshift from DR7 for secondary\n",
    "SEC_DR7_PHOTOZ2\tAlternate photometric redshift from DR7 for secondary\n",
    "SEC_DR8_U\tDered U magnitude (model - extinction) from DR8 for secondary\n",
    "SEC_DR8_G\tDered G magnitude (model - extinction) from DR8 for secondary\n",
    "SEC_DR8_R\tDered R magnitude (model - extinction) from DR8 for secondary\n",
    "SEC_DR8_I\tDered I magnitude (model - extinction) from DR8 for secondary\n",
    "SEC_DR8_Z\tDered Z magnitude (model - extinction) from DR8 for secondary\n",
    "SEC_DR8_SPECZ\tSpectral redshift from DR8 for secondary\n",
    "SEC_DR8_PHOTOZ\tPhotometric redshift from DR8 for secondary\n",
    "SEC_DR8_PHOTOZ2\tAlternate photometric redshift from DR8 for secondary\n"
   ]
  },
  {
   "cell_type": "markdown",
   "metadata": {},
   "source": [
    "## 4. Does your proposal describe a verifiable testing protocol? In order words, did you describe a set of specific tests that you could run for collecting data and/or statistics which can discriminate between success or failure at meeting the specific aim of the project in both a quantitative and qualitative manner? (4 points)\n"
   ]
  },
  {
   "cell_type": "code",
   "execution_count": null,
   "metadata": {},
   "outputs": [],
   "source": []
  }
 ],
 "metadata": {
  "kernelspec": {
   "display_name": "Python 3",
   "language": "python",
   "name": "python3"
  },
  "language_info": {
   "codemirror_mode": {
    "name": "ipython",
    "version": 3
   },
   "file_extension": ".py",
   "mimetype": "text/x-python",
   "name": "python",
   "nbconvert_exporter": "python",
   "pygments_lexer": "ipython3",
   "version": "3.7.6"
  }
 },
 "nbformat": 4,
 "nbformat_minor": 4
}
