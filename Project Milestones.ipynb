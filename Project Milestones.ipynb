{
 "cells": [
  {
   "cell_type": "markdown",
   "metadata": {},
   "source": [
    "### Milestone #1 : 03/24/2020"
   ]
  },
  {
   "cell_type": "markdown",
   "metadata": {},
   "source": [
    "| Deliverable | Percent Complete | Estimated Completion Date | Percent Complete by Next Milestone | \n",
    "|------------:|-----------------:|--------------------------:|-----------------------------------:|\n",
    "|        Code |              25% |                  April 21 |                                35% |\n",
    "|       Paper |               0% |                  April 21 |                                 0% |\n",
    "|        Demo |               0% |                  April 28 |                                15% |\n",
    "|Presentation |              15% |                     May 1 |                                30% |"
   ]
  },
  {
   "cell_type": "markdown",
   "metadata": {},
   "source": [
    "Since this is the first milestone report there are no deliverable goals that were met or not met. The main deliverable goals to meet before the next milestone report is the code to be thirty-five percent complete, the presentation to be thirty percent complete, and the demo to be fifteen percent complete. Every team member is working to build a general-purpose convolution neural network. Matthew Ogden is working on the presentation and building a general-purpose regression model to compare two images. Aric Moilanen is working on the project paper. Derrick Reckers is working on the project demo. Shawn Mace is building a single layer network that can conveniently visualize weights. Jarrett Shaver is building code to conveniently train a new regression model on a new system of model images and human scores."
   ]
  },
  {
   "cell_type": "markdown",
   "metadata": {},
   "source": [
    "### Milestone #2 : 03/31/2020"
   ]
  },
  {
   "cell_type": "markdown",
   "metadata": {},
   "source": [
    "| Deliverable | Percent Complete | Estimated Completion Date | Percent Complete by Next Milestone | \n",
    "|------------:|-----------------:|--------------------------:|-----------------------------------:|\n",
    "|        Code |              30% |                  April 21 |                                80% |\n",
    "|       Paper |              15% |                  April 21 |                                60% |\n",
    "|        Demo |               0% |                  April 28 |                                50% |\n",
    "|Presentation |              15% |                     May 1 |                                30% |"
   ]
  },
  {
   "cell_type": "markdown",
   "metadata": {},
   "source": [
    "Adapting open lab six into a network trained on galaxy models, outside research on convolutional neural networks, and the initial draft for the paper were accomplished to the anticipated percentage. None of the deliverable goals established in the last milestone report were not accomplished to the anticipated percentage.\n",
    "\n",
    "Moving forward, Aric Moilanen is working on the project paper, fleshing out the background, abstract, and architecture implementation before the next milestone. Derrick Reckers is working on the project demo, pulling together information from the main code deliverables to make a thorough demo to half-completion before the next milestone. Shawn Mace, Matthew Ogden, Jarrett Shaver, and Devon Wilson are working to get the code base to eighty percent before the next milestone. Matthew Ogden will be building a neural network to feed in two images and compare them and doing analysis on how well our neural networks are doing. Shawn Mace will be building a single layer network that can visualize the weights and creating callback functions to save slices of the network. Jarrett Shaver is building code to conveniently train a new regression model on a new system of model images and human scores and building networks for identifying perturbedness."
   ]
  },
  {
   "cell_type": "markdown",
   "metadata": {},
   "source": [
    "### Milestone #3 : 04/14/2020"
   ]
  },
  {
   "cell_type": "markdown",
   "metadata": {},
   "source": [
    "| Deliverable | Percent Complete | Estimated Completion Date | Percent Complete by Next Milestone | \n",
    "|------------:|-----------------:|--------------------------:|-----------------------------------:|\n",
    "|        Code |              75% |                  April 21 |                                95% |\n",
    "|       Paper |              30% |                  April 21 |                                100% |\n",
    "|        Demo |               25% |                  April 28 |                                75% |\n",
    "|Presentation |              30% |                     May 1 |                                75% |"
   ]
  },
  {
   "cell_type": "markdown",
   "metadata": {},
   "source": [
    "### Old\n",
    "Adapting open lab six into a network trained on galaxy models, outside research on convolutional neural networks, and the initial draft for the paper were accomplished to the anticipated percentage. None of the deliverable goals established in the last milestone report were not accomplished to the anticipated percentage.\n",
    "\n",
    "Moving forward, Aric Moilanen is working on the project paper, fleshing out the background, abstract, and architecture implementation before the next milestone. Derrick Reckers is working on the project demo, pulling together information from the main code deliverables to make a thorough demo to half-completion before the next milestone. Shawn Mace, Matthew Ogden, Jarrett Shaver, and Devon Wilson are working to get the code base to eighty percent before the next milestone. Matthew Ogden will be building a neural network to feed in two images and compare them and doing analysis on how well our neural networks are doing. Shawn Mace will be building a single layer network that can visualize the weights and creating callback functions to save slices of the network. Jarrett Shaver is building code to conveniently train a new regression model on a new system of model images and human scores and building networks for identifying perturbedness.\n",
    "\n",
    "### New\n",
    "\n",
    "All members of the team accomplished a working CNN based on OLA 6 adapted towards the project images.  \n",
    "\n",
    "Aric Moilanen organized the project paper and begun writing.   In addition, he developed a working CNN regression model for the initial data and found the CNN is biased towards lower scored models. Derrick began organizing the DEMO format and layout.  \n",
    "\n",
    "system and discoveredworked on single layer and conv network.   WIll be moving forward working on the paper.\n",
    "\n",
    "Derrick.  Looked into the format and depth of the demo.  Directed what is needed from other team memebers. \n",
    "\n",
    "Shawn.  Draw function to visualize the weights.   Being able to show one node. \n",
    "\n",
    "Matthew.  Built a single layer network.  \n",
    "\n",
    "Jarrett. \n",
    "\n",
    "Devon. "
   ]
  },
  {
   "cell_type": "code",
   "execution_count": null,
   "metadata": {},
   "outputs": [],
   "source": []
  }
 ],
 "metadata": {
  "kernelspec": {
   "display_name": "Python 3",
   "language": "python",
   "name": "python3"
  },
  "language_info": {
   "codemirror_mode": {
    "name": "ipython",
    "version": 3
   },
   "file_extension": ".py",
   "mimetype": "text/x-python",
   "name": "python",
   "nbconvert_exporter": "python",
   "pygments_lexer": "ipython3",
   "version": "3.7.6"
  }
 },
 "nbformat": 4,
 "nbformat_minor": 4
}
