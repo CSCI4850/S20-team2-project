{
 "cells": [
  {
   "cell_type": "markdown",
   "metadata": {},
   "source": [
    "# Adaption of OLA 6 for project"
   ]
  },
  {
   "cell_type": "markdown",
   "metadata": {},
   "source": [
    "Aric Moilanen "
   ]
  },
  {
   "cell_type": "code",
   "execution_count": 1,
   "metadata": {},
   "outputs": [
    {
     "name": "stderr",
     "output_type": "stream",
     "text": [
      "Using TensorFlow backend.\n"
     ]
    }
   ],
   "source": [
    "import keras\n",
    "from keras import backend as K\n",
    "import numpy as np\n",
    "import matplotlib.pyplot as plt\n",
    "from mpl_toolkits.mplot3d import axes3d\n",
    "%matplotlib inline\n",
    "from IPython.display import display"
   ]
  },
  {
   "cell_type": "code",
   "execution_count": 2,
   "metadata": {},
   "outputs": [],
   "source": [
    "from keras.preprocessing import image\n",
    "from keras.applications.xception import preprocess_input, decode_predictions"
   ]
  },
  {
   "cell_type": "code",
   "execution_count": 26,
   "metadata": {},
   "outputs": [
    {
     "data": {
      "text/plain": [
       "(600, 100, 100, 1)"
      ]
     },
     "execution_count": 26,
     "metadata": {},
     "output_type": "execute_result"
    }
   ],
   "source": [
    "def grab_image(img_path_base, index, numImages):\n",
    "    #Desired image dimension (image will be square ie # by # pixels)\n",
    "    imageDim = 100\n",
    "    \n",
    "    if (index<10):\n",
    "        img_path = img_path_base+\"000\"+str(index)+\"_model.png\"\n",
    "    elif (index<100 and index >=10):\n",
    "        img_path = img_path_base+\"00\"+str(index)+\"_model.png\"\n",
    "    elif (index<1000 and index>=100):\n",
    "        img_path = img_path_base+\"0\"+str(index)+\"_model.png\"\n",
    "    elif (index<10000 and index>=1000):\n",
    "        img_path = img_path_base+str(index)+\"_model.png\"\n",
    "        \n",
    "    img = image.load_img(img_path, target_size=(imageDim, imageDim), color_mode = \"grayscale\")\n",
    "    x = image.img_to_array(img)\n",
    "    x = np.expand_dims(x, axis=0)\n",
    "    x = preprocess_input(x)\n",
    "    return x\n",
    "\n",
    "#Num of images to read in\n",
    "numImages = 600\n",
    "X = np.concatenate([grab_image('/home/atm4w/Project/Data/miscImgs/',i, numImages) for i in range(numImages)]) \n",
    "X /= 255.0\n",
    "\n",
    "X.shape"
   ]
  },
  {
   "cell_type": "code",
   "execution_count": 27,
   "metadata": {},
   "outputs": [
    {
     "data": {
      "image/png": "[encoded data removed]",
      "text/plain": [
       "<Figure size 432x288 with 1 Axes>"
      ]
     },
     "metadata": {
      "needs_background": "light"
     },
     "output_type": "display_data"
    }
   ],
   "source": [
    "plt.imshow(image.array_to_img(X[45,:,:,:]), cmap='Greys_r')\n",
    "plt.show()"
   ]
  },
  {
   "cell_type": "code",
   "execution_count": 28,
   "metadata": {},
   "outputs": [
    {
     "data": {
      "text/plain": [
       "(1294,)"
      ]
     },
     "metadata": {},
     "output_type": "display_data"
    },
    {
     "data": {
      "text/plain": [
       "array([0.945946, 0.941176, 0.918919, 0.916667, 0.916667, 0.914286,\n",
       "       0.914286, 0.911765, 0.891892, 0.885714])"
      ]
     },
     "metadata": {},
     "output_type": "display_data"
    }
   ],
   "source": [
    "Y = np.loadtxt('/home/atm4w/Project/Data/miscImgs/scores/humanScores.txt')\n",
    "display(Y.shape)\n",
    "display(Y[0:10])"
   ]
  },
  {
   "cell_type": "code",
   "execution_count": 29,
   "metadata": {},
   "outputs": [
    {
     "data": {
      "text/plain": [
       "(600, 100, 100, 1)"
      ]
     },
     "metadata": {},
     "output_type": "display_data"
    },
    {
     "data": {
      "text/plain": [
       "(600,)"
      ]
     },
     "metadata": {},
     "output_type": "display_data"
    }
   ],
   "source": [
    "p = np.random.permutation(len(X))\n",
    "Xshuffled = X[p]\n",
    "Yshuffled = Y[p]\n",
    "\n",
    "display(Xshuffled.shape)\n",
    "display(Yshuffled.shape)"
   ]
  },
  {
   "cell_type": "code",
   "execution_count": 30,
   "metadata": {},
   "outputs": [
    {
     "data": {
      "image/png": "[encoded data removed]",
      "text/plain": [
       "<Figure size 432x288 with 1 Axes>"
      ]
     },
     "metadata": {
      "needs_background": "light"
     },
     "output_type": "display_data"
    },
    {
     "data": {
      "text/plain": [
       "0.111111"
      ]
     },
     "metadata": {},
     "output_type": "display_data"
    }
   ],
   "source": [
    "plt.imshow(image.array_to_img(Xshuffled[0,:,:,:]), cmap='Greys_r')\n",
    "plt.show()\n",
    "display(Yshuffled[0])"
   ]
  },
  {
   "cell_type": "code",
   "execution_count": 31,
   "metadata": {},
   "outputs": [
    {
     "data": {
      "text/plain": [
       "(510, 100, 100, 1)"
      ]
     },
     "metadata": {},
     "output_type": "display_data"
    },
    {
     "data": {
      "text/plain": [
       "(510,)"
      ]
     },
     "metadata": {},
     "output_type": "display_data"
    },
    {
     "data": {
      "text/plain": [
       "(90, 100, 100, 1)"
      ]
     },
     "metadata": {},
     "output_type": "display_data"
    },
    {
     "data": {
      "text/plain": [
       "(90,)"
      ]
     },
     "metadata": {},
     "output_type": "display_data"
    }
   ],
   "source": [
    "x_train = Xshuffled[0:(round(numImages*.85)),:,:]\n",
    "y_train = Yshuffled[0:(round(numImages*.85))]\n",
    "x_test = Xshuffled[(round(numImages*.85)): , : , :]\n",
    "y_test = Yshuffled[(round(numImages*.85)):]\n",
    "\n",
    "display(x_train.shape)\n",
    "display(y_train.shape)\n",
    "display(x_test.shape)\n",
    "display(y_test.shape)"
   ]
  },
  {
   "cell_type": "code",
   "execution_count": 88,
   "metadata": {},
   "outputs": [
    {
     "name": "stdout",
     "output_type": "stream",
     "text": [
      "Model: \"sequential_32\"\n",
      "_________________________________________________________________\n",
      "Layer (type)                 Output Shape              Param #   \n",
      "=================================================================\n",
      "conv2d_71 (Conv2D)           (None, 89, 89, 16)        2320      \n",
      "_________________________________________________________________\n",
      "conv2d_72 (Conv2D)           (None, 78, 78, 16)        36880     \n",
      "_________________________________________________________________\n",
      "max_pooling2d_23 (MaxPooling (None, 19, 19, 16)        0         \n",
      "_________________________________________________________________\n",
      "dropout_15 (Dropout)         (None, 19, 19, 16)        0         \n",
      "_________________________________________________________________\n",
      "conv2d_73 (Conv2D)           (None, 8, 8, 8)           18440     \n",
      "_________________________________________________________________\n",
      "flatten_28 (Flatten)         (None, 512)               0         \n",
      "_________________________________________________________________\n",
      "dense_28 (Dense)             (None, 1)                 513       \n",
      "=================================================================\n",
      "Total params: 58,153\n",
      "Trainable params: 58,153\n",
      "Non-trainable params: 0\n",
      "_________________________________________________________________\n"
     ]
    }
   ],
   "source": [
    "model = keras.Sequential()\n",
    "model.add(keras.layers.Conv2D(16, kernel_size=(12, 12),\n",
    "                activation='relu',\n",
    "                input_shape=[x_test.shape[1],\n",
    "                x_test.shape[2],\n",
    "                x_test.shape[3]]))\n",
    "model.add(keras.layers.Conv2D(16, kernel_size=(12, 12), activation='relu'))\n",
    "model.add(keras.layers.MaxPooling2D(pool_size=(4, 4)))\n",
    "model.add(keras.layers.Dropout(0.3))\n",
    "\n",
    "model.add(keras.layers.Conv2D(8, kernel_size=(12, 12), activation='relu'))\n",
    "#model.add(keras.layers.Conv2D(16, kernel_size=(12, 12), activation='relu'))\n",
    "#model.add(keras.layers.MaxPooling2D(pool_size=(4, 4)))\n",
    "#model.add(keras.layers.Dropout(0.25))\n",
    "\n",
    "model.add(keras.layers.Flatten())\n",
    "#model.add(keras.layers.Dense(128, activation='relu'))\n",
    "#model.add(keras.layers.Dropout(0.5))\n",
    "model.add(keras.layers.Dense(1, activation='sigmoid'))\n",
    "\n",
    "\n",
    "model.compile(loss=keras.losses.mean_squared_error, optimizer=keras.optimizers.Adam(learning_rate=0.0001), metrics=['mse'])\n",
    "model.summary()"
   ]
  },
  {
   "cell_type": "code",
   "execution_count": 89,
   "metadata": {},
   "outputs": [
    {
     "name": "stdout",
     "output_type": "stream",
     "text": [
      "Train on 357 samples, validate on 153 samples\n",
      "Epoch 1/90\n",
      "357/357 [==============================] - 19s 54ms/step - loss: 0.0794 - mse: 0.0794 - val_loss: 0.0447 - val_mse: 0.0447\n",
      "Epoch 2/90\n",
      "357/357 [==============================] - 18s 51ms/step - loss: 0.0547 - mse: 0.0547 - val_loss: 0.0451 - val_mse: 0.0451\n",
      "Epoch 3/90\n",
      "357/357 [==============================] - 19s 52ms/step - loss: 0.0543 - mse: 0.0543 - val_loss: 0.0448 - val_mse: 0.0448\n",
      "Epoch 4/90\n",
      "357/357 [==============================] - 18s 51ms/step - loss: 0.0544 - mse: 0.0544 - val_loss: 0.0468 - val_mse: 0.0468\n",
      "Epoch 5/90\n",
      "357/357 [==============================] - 18s 51ms/step - loss: 0.0545 - mse: 0.0545 - val_loss: 0.0443 - val_mse: 0.0443\n",
      "Epoch 6/90\n",
      "357/357 [==============================] - 18s 51ms/step - loss: 0.0547 - mse: 0.0547 - val_loss: 0.0464 - val_mse: 0.0464\n",
      "Epoch 7/90\n",
      "357/357 [==============================] - 18s 51ms/step - loss: 0.0549 - mse: 0.0549 - val_loss: 0.0454 - val_mse: 0.0454\n",
      "Epoch 8/90\n",
      "357/357 [==============================] - 19s 53ms/step - loss: 0.0550 - mse: 0.0550 - val_loss: 0.0443 - val_mse: 0.0443\n",
      "Epoch 9/90\n",
      "357/357 [==============================] - 18s 51ms/step - loss: 0.0544 - mse: 0.0544 - val_loss: 0.0443 - val_mse: 0.0443\n",
      "Epoch 10/90\n",
      "357/357 [==============================] - 19s 54ms/step - loss: 0.0543 - mse: 0.0543 - val_loss: 0.0442 - val_mse: 0.0442\n",
      "Epoch 11/90\n",
      "357/357 [==============================] - 18s 50ms/step - loss: 0.0538 - mse: 0.0538 - val_loss: 0.0444 - val_mse: 0.0444\n",
      "Epoch 12/90\n",
      "357/357 [==============================] - 19s 52ms/step - loss: 0.0544 - mse: 0.0544 - val_loss: 0.0442 - val_mse: 0.0442\n",
      "Epoch 13/90\n",
      "357/357 [==============================] - 19s 53ms/step - loss: 0.0545 - mse: 0.0545 - val_loss: 0.0441 - val_mse: 0.0441\n",
      "Epoch 14/90\n",
      "357/357 [==============================] - 19s 52ms/step - loss: 0.0539 - mse: 0.0539 - val_loss: 0.0441 - val_mse: 0.0441\n",
      "Epoch 15/90\n",
      "357/357 [==============================] - 19s 52ms/step - loss: 0.0542 - mse: 0.0542 - val_loss: 0.0440 - val_mse: 0.0440\n",
      "Epoch 16/90\n",
      "357/357 [==============================] - 19s 52ms/step - loss: 0.0539 - mse: 0.0539 - val_loss: 0.0459 - val_mse: 0.0459\n",
      "Epoch 17/90\n",
      "357/357 [==============================] - 18s 50ms/step - loss: 0.0561 - mse: 0.0561 - val_loss: 0.0464 - val_mse: 0.0464\n",
      "Epoch 18/90\n",
      "357/357 [==============================] - 18s 52ms/step - loss: 0.0542 - mse: 0.0542 - val_loss: 0.0442 - val_mse: 0.0442\n",
      "Epoch 19/90\n",
      "357/357 [==============================] - 19s 52ms/step - loss: 0.0533 - mse: 0.0533 - val_loss: 0.0439 - val_mse: 0.0439\n",
      "Epoch 20/90\n",
      "357/357 [==============================] - 18s 52ms/step - loss: 0.0544 - mse: 0.0544 - val_loss: 0.0450 - val_mse: 0.0450\n",
      "Epoch 21/90\n",
      "357/357 [==============================] - 20s 55ms/step - loss: 0.0537 - mse: 0.0537 - val_loss: 0.0436 - val_mse: 0.0436\n",
      "Epoch 22/90\n",
      "357/357 [==============================] - 19s 53ms/step - loss: 0.0535 - mse: 0.0535 - val_loss: 0.0435 - val_mse: 0.0435\n",
      "Epoch 23/90\n",
      "357/357 [==============================] - 19s 53ms/step - loss: 0.0535 - mse: 0.0535 - val_loss: 0.0433 - val_mse: 0.0433\n",
      "Epoch 24/90\n",
      "357/357 [==============================] - 19s 52ms/step - loss: 0.0530 - mse: 0.0530 - val_loss: 0.0433 - val_mse: 0.0433\n",
      "Epoch 25/90\n",
      "357/357 [==============================] - 19s 54ms/step - loss: 0.0531 - mse: 0.0531 - val_loss: 0.0441 - val_mse: 0.0441\n",
      "Epoch 26/90\n",
      "357/357 [==============================] - 19s 53ms/step - loss: 0.0515 - mse: 0.0515 - val_loss: 0.0451 - val_mse: 0.0451\n",
      "Epoch 27/90\n",
      "357/357 [==============================] - 18s 51ms/step - loss: 0.0521 - mse: 0.0521 - val_loss: 0.0422 - val_mse: 0.0422\n",
      "Epoch 28/90\n",
      "357/357 [==============================] - 19s 55ms/step - loss: 0.0519 - mse: 0.0519 - val_loss: 0.0419 - val_mse: 0.0419\n",
      "Epoch 29/90\n",
      "357/357 [==============================] - 18s 52ms/step - loss: 0.0505 - mse: 0.0505 - val_loss: 0.0412 - val_mse: 0.0412\n",
      "Epoch 30/90\n",
      "357/357 [==============================] - 19s 53ms/step - loss: 0.0499 - mse: 0.0499 - val_loss: 0.0411 - val_mse: 0.0411\n",
      "Epoch 31/90\n",
      "357/357 [==============================] - 19s 53ms/step - loss: 0.0497 - mse: 0.0497 - val_loss: 0.0392 - val_mse: 0.0392\n",
      "Epoch 32/90\n",
      "357/357 [==============================] - 19s 54ms/step - loss: 0.0470 - mse: 0.0470 - val_loss: 0.0384 - val_mse: 0.0384\n",
      "Epoch 33/90\n",
      "357/357 [==============================] - 19s 53ms/step - loss: 0.0467 - mse: 0.0467 - val_loss: 0.0365 - val_mse: 0.0365\n",
      "Epoch 34/90\n",
      "357/357 [==============================] - 19s 53ms/step - loss: 0.0439 - mse: 0.0439 - val_loss: 0.0353 - val_mse: 0.0353\n",
      "Epoch 35/90\n",
      "357/357 [==============================] - 19s 52ms/step - loss: 0.0422 - mse: 0.0422 - val_loss: 0.0335 - val_mse: 0.0335\n",
      "Epoch 36/90\n",
      "357/357 [==============================] - 19s 53ms/step - loss: 0.0400 - mse: 0.0400 - val_loss: 0.0344 - val_mse: 0.0344\n",
      "Epoch 37/90\n",
      "357/357 [==============================] - 19s 52ms/step - loss: 0.0372 - mse: 0.0372 - val_loss: 0.0307 - val_mse: 0.0307\n",
      "Epoch 38/90\n",
      "357/357 [==============================] - 18s 51ms/step - loss: 0.0363 - mse: 0.0363 - val_loss: 0.0289 - val_mse: 0.0289\n",
      "Epoch 39/90\n",
      "357/357 [==============================] - 19s 54ms/step - loss: 0.0341 - mse: 0.0341 - val_loss: 0.0277 - val_mse: 0.0277\n",
      "Epoch 40/90\n",
      "357/357 [==============================] - 19s 53ms/step - loss: 0.0327 - mse: 0.0327 - val_loss: 0.0281 - val_mse: 0.0281\n",
      "Epoch 41/90\n",
      "357/357 [==============================] - 19s 53ms/step - loss: 0.0311 - mse: 0.0311 - val_loss: 0.0270 - val_mse: 0.0270\n",
      "Epoch 42/90\n",
      "357/357 [==============================] - 20s 55ms/step - loss: 0.0311 - mse: 0.0311 - val_loss: 0.0257 - val_mse: 0.0257\n",
      "Epoch 43/90\n",
      "357/357 [==============================] - 20s 55ms/step - loss: 0.0292 - mse: 0.0292 - val_loss: 0.0254 - val_mse: 0.0254\n",
      "Epoch 44/90\n",
      "357/357 [==============================] - 19s 54ms/step - loss: 0.0285 - mse: 0.0285 - val_loss: 0.0253 - val_mse: 0.0253\n",
      "Epoch 45/90\n",
      "357/357 [==============================] - 18s 52ms/step - loss: 0.0279 - mse: 0.0279 - val_loss: 0.0250 - val_mse: 0.0250\n",
      "Epoch 46/90\n",
      "357/357 [==============================] - 18s 50ms/step - loss: 0.0265 - mse: 0.0265 - val_loss: 0.0246 - val_mse: 0.0246\n",
      "Epoch 47/90\n",
      "357/357 [==============================] - 18s 51ms/step - loss: 0.0266 - mse: 0.0266 - val_loss: 0.0238 - val_mse: 0.0238\n",
      "Epoch 48/90\n",
      "357/357 [==============================] - 18s 51ms/step - loss: 0.0255 - mse: 0.0255 - val_loss: 0.0233 - val_mse: 0.0233\n",
      "Epoch 49/90\n",
      "357/357 [==============================] - 18s 50ms/step - loss: 0.0240 - mse: 0.0240 - val_loss: 0.0232 - val_mse: 0.0232\n",
      "Epoch 50/90\n",
      "357/357 [==============================] - 18s 52ms/step - loss: 0.0247 - mse: 0.0247 - val_loss: 0.0226 - val_mse: 0.0226\n",
      "Epoch 51/90\n",
      "357/357 [==============================] - 18s 52ms/step - loss: 0.0233 - mse: 0.0233 - val_loss: 0.0233 - val_mse: 0.0233\n",
      "Epoch 52/90\n",
      "357/357 [==============================] - 18s 52ms/step - loss: 0.0216 - mse: 0.0216 - val_loss: 0.0225 - val_mse: 0.0225\n",
      "Epoch 53/90\n",
      "357/357 [==============================] - 19s 52ms/step - loss: 0.0212 - mse: 0.0212 - val_loss: 0.0230 - val_mse: 0.0230\n",
      "Epoch 54/90\n",
      "357/357 [==============================] - 18s 51ms/step - loss: 0.0226 - mse: 0.0226 - val_loss: 0.0229 - val_mse: 0.0229\n",
      "Epoch 55/90\n",
      "357/357 [==============================] - 18s 50ms/step - loss: 0.0217 - mse: 0.0217 - val_loss: 0.0220 - val_mse: 0.0220\n",
      "Epoch 56/90\n",
      "357/357 [==============================] - 19s 52ms/step - loss: 0.0206 - mse: 0.0206 - val_loss: 0.0218 - val_mse: 0.0218\n",
      "Epoch 57/90\n",
      "357/357 [==============================] - 18s 50ms/step - loss: 0.0210 - mse: 0.0210 - val_loss: 0.0218 - val_mse: 0.0218\n",
      "Epoch 58/90\n",
      "357/357 [==============================] - 18s 51ms/step - loss: 0.0216 - mse: 0.0216 - val_loss: 0.0220 - val_mse: 0.0220\n",
      "Epoch 59/90\n",
      "357/357 [==============================] - 18s 50ms/step - loss: 0.0203 - mse: 0.0203 - val_loss: 0.0225 - val_mse: 0.0225\n",
      "Epoch 60/90\n",
      "357/357 [==============================] - 18s 52ms/step - loss: 0.0202 - mse: 0.0202 - val_loss: 0.0216 - val_mse: 0.0216\n",
      "Epoch 61/90\n",
      "357/357 [==============================] - 18s 52ms/step - loss: 0.0201 - mse: 0.0201 - val_loss: 0.0217 - val_mse: 0.0217\n",
      "Epoch 62/90\n",
      "357/357 [==============================] - 18s 51ms/step - loss: 0.0199 - mse: 0.0199 - val_loss: 0.0220 - val_mse: 0.0220\n",
      "Epoch 63/90\n",
      "357/357 [==============================] - 18s 52ms/step - loss: 0.0197 - mse: 0.0197 - val_loss: 0.0220 - val_mse: 0.0220\n",
      "Epoch 64/90\n",
      "357/357 [==============================] - 18s 51ms/step - loss: 0.0182 - mse: 0.0182 - val_loss: 0.0225 - val_mse: 0.0225\n",
      "Epoch 65/90\n",
      "357/357 [==============================] - 18s 49ms/step - loss: 0.0195 - mse: 0.0195 - val_loss: 0.0218 - val_mse: 0.0218\n",
      "Epoch 66/90\n",
      "357/357 [==============================] - 17s 49ms/step - loss: 0.0187 - mse: 0.0187 - val_loss: 0.0232 - val_mse: 0.0232\n",
      "Epoch 67/90\n",
      "357/357 [==============================] - 18s 49ms/step - loss: 0.0191 - mse: 0.0191 - val_loss: 0.0224 - val_mse: 0.0224\n",
      "Epoch 68/90\n",
      "357/357 [==============================] - 18s 50ms/step - loss: 0.0197 - mse: 0.0197 - val_loss: 0.0214 - val_mse: 0.0214\n",
      "Epoch 69/90\n",
      "357/357 [==============================] - 17s 49ms/step - loss: 0.0186 - mse: 0.0186 - val_loss: 0.0215 - val_mse: 0.0215\n",
      "Epoch 70/90\n",
      "357/357 [==============================] - 18s 51ms/step - loss: 0.0182 - mse: 0.0182 - val_loss: 0.0226 - val_mse: 0.0226\n",
      "Epoch 71/90\n",
      "357/357 [==============================] - 18s 50ms/step - loss: 0.0188 - mse: 0.0188 - val_loss: 0.0214 - val_mse: 0.0214\n",
      "Epoch 72/90\n",
      "357/357 [==============================] - 18s 49ms/step - loss: 0.0181 - mse: 0.0181 - val_loss: 0.0215 - val_mse: 0.0215\n",
      "Epoch 73/90\n",
      "357/357 [==============================] - 18s 50ms/step - loss: 0.0178 - mse: 0.0178 - val_loss: 0.0215 - val_mse: 0.0215\n",
      "Epoch 74/90\n",
      "357/357 [==============================] - 18s 50ms/step - loss: 0.0170 - mse: 0.0170 - val_loss: 0.0221 - val_mse: 0.0221\n",
      "Epoch 75/90\n",
      "357/357 [==============================] - 18s 49ms/step - loss: 0.0174 - mse: 0.0174 - val_loss: 0.0222 - val_mse: 0.0222\n",
      "Epoch 76/90\n",
      "357/357 [==============================] - 18s 50ms/step - loss: 0.0172 - mse: 0.0172 - val_loss: 0.0219 - val_mse: 0.0219\n",
      "Epoch 77/90\n",
      "357/357 [==============================] - 17s 49ms/step - loss: 0.0172 - mse: 0.0172 - val_loss: 0.0213 - val_mse: 0.0213\n",
      "Epoch 78/90\n",
      "357/357 [==============================] - 18s 50ms/step - loss: 0.0179 - mse: 0.0179 - val_loss: 0.0217 - val_mse: 0.0217\n",
      "Epoch 79/90\n",
      "357/357 [==============================] - 18s 50ms/step - loss: 0.0178 - mse: 0.0178 - val_loss: 0.0219 - val_mse: 0.0219\n",
      "Epoch 80/90\n",
      "357/357 [==============================] - 18s 51ms/step - loss: 0.0181 - mse: 0.0181 - val_loss: 0.0216 - val_mse: 0.0216\n",
      "Epoch 81/90\n",
      "357/357 [==============================] - 18s 51ms/step - loss: 0.0168 - mse: 0.0168 - val_loss: 0.0214 - val_mse: 0.0214\n",
      "Epoch 82/90\n",
      "357/357 [==============================] - 18s 51ms/step - loss: 0.0168 - mse: 0.0168 - val_loss: 0.0210 - val_mse: 0.0210\n",
      "Epoch 83/90\n",
      "357/357 [==============================] - 18s 51ms/step - loss: 0.0170 - mse: 0.0170 - val_loss: 0.0219 - val_mse: 0.0219\n",
      "Epoch 84/90\n",
      "357/357 [==============================] - 18s 51ms/step - loss: 0.0164 - mse: 0.0164 - val_loss: 0.0214 - val_mse: 0.0214\n",
      "Epoch 85/90\n",
      "357/357 [==============================] - 18s 51ms/step - loss: 0.0168 - mse: 0.0168 - val_loss: 0.0229 - val_mse: 0.0229\n",
      "Epoch 86/90\n",
      "357/357 [==============================] - 18s 51ms/step - loss: 0.0174 - mse: 0.0174 - val_loss: 0.0210 - val_mse: 0.0210\n",
      "Epoch 87/90\n",
      "357/357 [==============================] - 18s 50ms/step - loss: 0.0175 - mse: 0.0175 - val_loss: 0.0210 - val_mse: 0.0210\n",
      "Epoch 88/90\n",
      "357/357 [==============================] - 18s 52ms/step - loss: 0.0162 - mse: 0.0162 - val_loss: 0.0207 - val_mse: 0.0207\n",
      "Epoch 89/90\n",
      "357/357 [==============================] - 19s 53ms/step - loss: 0.0167 - mse: 0.0167 - val_loss: 0.0221 - val_mse: 0.0221\n",
      "Epoch 90/90\n",
      "357/357 [==============================] - 17s 49ms/step - loss: 0.0168 - mse: 0.0168 - val_loss: 0.0206 - val_mse: 0.0206\n"
     ]
    }
   ],
   "source": [
    "batch_size = 4\n",
    "epochs = 90\n",
    "history = model.fit(x_train, y_train,\n",
    "    batch_size=batch_size,\n",
    "    epochs=epochs,\n",
    "    verbose=1,\n",
    "    validation_split = 0.3)"
   ]
  },
  {
   "cell_type": "code",
   "execution_count": 90,
   "metadata": {},
   "outputs": [
    {
     "data": {
      "image/png": "[encoded data removed]",
      "text/plain": [
       "<Figure size 432x288 with 1 Axes>"
      ]
     },
     "metadata": {
      "needs_background": "light"
     },
     "output_type": "display_data"
    }
   ],
   "source": [
    "plt.figure()\n",
    "# summarize history for accuracy\n",
    "#plt.subplot(211)\n",
    "#plt.plot(history.history['mean_squared_error'])\n",
    "#plt.plot(history.history['val_mean_squared_error'])\n",
    "#plt.title('model mean_squared_error')\n",
    "#plt.ylabel('mean_squared_error')\n",
    "#plt.xlabel('epoch')\n",
    "#plt.legend(['training', 'validation'], loc='upper left')\n",
    "#* summarize history for loss\n",
    "plt.subplot(212)\n",
    "plt.plot(history.history['loss'])\n",
    "plt.plot(history.history['val_loss'])\n",
    "plt.title('model loss')\n",
    "plt.ylabel('loss')\n",
    "plt.xlabel('epoch')\n",
    "plt.legend(['training', 'validation'], loc='upper left')\n",
    "plt.tight_layout()\n",
    "plt.show()"
   ]
  },
  {
   "cell_type": "code",
   "execution_count": 134,
   "metadata": {},
   "outputs": [
    {
     "name": "stdout",
     "output_type": "stream",
     "text": [
      "Mean difference\n",
      "---------------\n"
     ]
    },
    {
     "data": {
      "text/plain": [
       "0.10037875083124373"
      ]
     },
     "metadata": {},
     "output_type": "display_data"
    }
   ],
   "source": [
    "preds = model.predict(x_test)\n",
    "diff = preds.flatten() - (y_test)\n",
    "print(\"Mean difference\")\n",
    "print(\"---------------\")\n",
    "display(np.mean(np.abs(diff)))"
   ]
  },
  {
   "cell_type": "code",
   "execution_count": 107,
   "metadata": {},
   "outputs": [
    {
     "data": {
      "image/png": "[encoded data removed]",
      "text/plain": [
       "<Figure size 432x288 with 1 Axes>"
      ]
     },
     "metadata": {
      "needs_background": "light"
     },
     "output_type": "display_data"
    },
    {
     "data": {
      "text/plain": [
       "<Figure size 14400x1440 with 0 Axes>"
      ]
     },
     "metadata": {},
     "output_type": "display_data"
    }
   ],
   "source": [
    "#display(preds)\n",
    "#display(y_test)\n",
    "#display(diff)\n",
    "shuffledInd = np.linspace(0,89,num = 90)\n",
    "\n",
    "plt.figure()\n",
    "plt.scatter(shuffledInd, y_test)\n",
    "plt.scatter(shuffledInd, preds)\n",
    "plt.title(\"Predictions/Actual Comparison\")\n",
    "plt.ylabel(\"score\")\n",
    "plt.xlabel(\"image num\")\n",
    "plt.legend(['actual', 'prediction'], loc='upper left')\n",
    "#plt.subplot(212)\n",
    "#plt.scatter(y_test, preds)\n",
    "#plt.title(\"Predicted vs Actual value\")\n",
    "#plt.ylabel(\"predicted value\")\n",
    "#plt.xlabel(\"actual value\")\n",
    "plt.figure(figsize=(200,20))\n",
    "plt.show()"
   ]
  },
  {
   "cell_type": "code",
   "execution_count": 108,
   "metadata": {},
   "outputs": [
    {
     "data": {
      "image/png": "[encoded data removed]",
      "text/plain": [
       "<Figure size 432x288 with 1 Axes>"
      ]
     },
     "metadata": {
      "needs_background": "light"
     },
     "output_type": "display_data"
    }
   ],
   "source": [
    "plt.figure()\n",
    "plt.scatter(y_test, preds)\n",
    "plt.title(\"Predicted vs Actual value\")\n",
    "plt.ylabel(\"predicted value\")\n",
    "plt.xlabel(\"actual value\")\n",
    "plt.show()"
   ]
  },
  {
   "cell_type": "code",
   "execution_count": 110,
   "metadata": {},
   "outputs": [
    {
     "data": {
      "image/png": "[encoded data removed]",
      "text/plain": [
       "<Figure size 432x288 with 1 Axes>"
      ]
     },
     "metadata": {
      "needs_background": "light"
     },
     "output_type": "display_data"
    }
   ],
   "source": [
    "plt.figure()\n",
    "plt.scatter(y_test, diff)\n",
    "plt.title(\"Difference vs Actual value\")\n",
    "plt.ylabel(\"Difference\")\n",
    "plt.xlabel(\"actual value\")\n",
    "plt.show()"
   ]
  },
  {
   "cell_type": "code",
   "execution_count": 113,
   "metadata": {},
   "outputs": [
    {
     "data": {
      "text/plain": [
       "array([53, 83, 63, 57, 12, 66, 47, 49, 55, 44])"
      ]
     },
     "metadata": {},
     "output_type": "display_data"
    }
   ],
   "source": [
    "absDiff = np.abs(diff)\n",
    "\n",
    "top10 = np.argpartition(absDiff, -10)[-10:]\n",
    "display(top10)"
   ]
  },
  {
   "cell_type": "code",
   "execution_count": 120,
   "metadata": {},
   "outputs": [
    {
     "data": {
      "image/png": "[encoded data removed]",
      "text/plain": [
       "<Figure size 432x288 with 1 Axes>"
      ]
     },
     "metadata": {
      "needs_background": "light"
     },
     "output_type": "display_data"
    },
    {
     "data": {
      "text/plain": [
       "0.857143"
      ]
     },
     "metadata": {},
     "output_type": "display_data"
    },
    {
     "data": {
      "text/plain": [
       "0.6165052"
      ]
     },
     "metadata": {},
     "output_type": "display_data"
    }
   ],
   "source": [
    "plt.imshow(image.array_to_img(x_test[top10[0],:,:,:]), cmap='Greys_r') \n",
    "plt.show()\n",
    "\n",
    "display(y_test[top10[0]])\n",
    "display(preds[top10[0]][0])"
   ]
  },
  {
   "cell_type": "code",
   "execution_count": 121,
   "metadata": {},
   "outputs": [
    {
     "data": {
      "image/png": "[encoded data removed]",
      "text/plain": [
       "<Figure size 432x288 with 1 Axes>"
      ]
     },
     "metadata": {
      "needs_background": "light"
     },
     "output_type": "display_data"
    },
    {
     "data": {
      "text/plain": [
       "0.542857"
      ]
     },
     "metadata": {},
     "output_type": "display_data"
    },
    {
     "data": {
      "text/plain": [
       "0.2997652"
      ]
     },
     "metadata": {},
     "output_type": "display_data"
    }
   ],
   "source": [
    "plt.imshow(image.array_to_img(x_test[top10[1],:,:,:]), cmap='Greys_r') \n",
    "plt.show()\n",
    "\n",
    "display(y_test[top10[1]])\n",
    "display(preds[top10[1]][0])"
   ]
  },
  {
   "cell_type": "code",
   "execution_count": 122,
   "metadata": {},
   "outputs": [
    {
     "data": {
      "image/png": "[encoded data removed]",
      "text/plain": [
       "<Figure size 432x288 with 1 Axes>"
      ]
     },
     "metadata": {
      "needs_background": "light"
     },
     "output_type": "display_data"
    },
    {
     "data": {
      "text/plain": [
       "0.228571"
      ]
     },
     "metadata": {},
     "output_type": "display_data"
    },
    {
     "data": {
      "text/plain": [
       "0.47552148"
      ]
     },
     "metadata": {},
     "output_type": "display_data"
    }
   ],
   "source": [
    "plt.imshow(image.array_to_img(x_test[top10[2],:,:,:]), cmap='Greys_r') \n",
    "plt.show()\n",
    "\n",
    "display(y_test[top10[2]])\n",
    "display(preds[top10[2]][0])"
   ]
  },
  {
   "cell_type": "code",
   "execution_count": 123,
   "metadata": {},
   "outputs": [
    {
     "data": {
      "image/png": "[encoded data removed]",
      "text/plain": [
       "<Figure size 432x288 with 1 Axes>"
      ]
     },
     "metadata": {
      "needs_background": "light"
     },
     "output_type": "display_data"
    },
    {
     "data": {
      "text/plain": [
       "0.176471"
      ]
     },
     "metadata": {},
     "output_type": "display_data"
    },
    {
     "data": {
      "text/plain": [
       "0.4443256"
      ]
     },
     "metadata": {},
     "output_type": "display_data"
    }
   ],
   "source": [
    "plt.imshow(image.array_to_img(x_test[top10[3],:,:,:]), cmap='Greys_r') \n",
    "plt.show()\n",
    "\n",
    "display(y_test[top10[3]])\n",
    "display(preds[top10[3]][0])"
   ]
  },
  {
   "cell_type": "code",
   "execution_count": 124,
   "metadata": {},
   "outputs": [
    {
     "data": {
      "image/png": "[encoded data removed]",
      "text/plain": [
       "<Figure size 432x288 with 1 Axes>"
      ]
     },
     "metadata": {
      "needs_background": "light"
     },
     "output_type": "display_data"
    },
    {
     "data": {
      "text/plain": [
       "0.441176"
      ]
     },
     "metadata": {},
     "output_type": "display_data"
    },
    {
     "data": {
      "text/plain": [
       "0.18999867"
      ]
     },
     "metadata": {},
     "output_type": "display_data"
    }
   ],
   "source": [
    "plt.imshow(image.array_to_img(x_test[top10[4],:,:,:]), cmap='Greys_r') \n",
    "plt.show()\n",
    "\n",
    "display(y_test[top10[4]])\n",
    "display(preds[top10[4]][0])"
   ]
  },
  {
   "cell_type": "code",
   "execution_count": 125,
   "metadata": {},
   "outputs": [
    {
     "data": {
      "image/png": "[encoded data removed]",
      "text/plain": [
       "<Figure size 432x288 with 1 Axes>"
      ]
     },
     "metadata": {
      "needs_background": "light"
     },
     "output_type": "display_data"
    },
    {
     "data": {
      "text/plain": [
       "0.428571"
      ]
     },
     "metadata": {},
     "output_type": "display_data"
    },
    {
     "data": {
      "text/plain": [
       "0.15994133"
      ]
     },
     "metadata": {},
     "output_type": "display_data"
    }
   ],
   "source": [
    "plt.imshow(image.array_to_img(x_test[top10[5],:,:,:]), cmap='Greys_r') \n",
    "plt.show()\n",
    "\n",
    "display(y_test[top10[5]])\n",
    "display(preds[top10[5]][0])"
   ]
  },
  {
   "cell_type": "code",
   "execution_count": 126,
   "metadata": {},
   "outputs": [
    {
     "data": {
      "image/png": "[encoded data removed]",
      "text/plain": [
       "<Figure size 432x288 with 1 Axes>"
      ]
     },
     "metadata": {
      "needs_background": "light"
     },
     "output_type": "display_data"
    },
    {
     "data": {
      "text/plain": [
       "0.257143"
      ]
     },
     "metadata": {},
     "output_type": "display_data"
    },
    {
     "data": {
      "text/plain": [
       "0.5469042"
      ]
     },
     "metadata": {},
     "output_type": "display_data"
    }
   ],
   "source": [
    "plt.imshow(image.array_to_img(x_test[top10[6],:,:,:]), cmap='Greys_r') \n",
    "plt.show()\n",
    "\n",
    "display(y_test[top10[6]])\n",
    "display(preds[top10[6]][0])"
   ]
  },
  {
   "cell_type": "code",
   "execution_count": 127,
   "metadata": {},
   "outputs": [
    {
     "data": {
      "image/png": "[encoded data removed]",
      "text/plain": [
       "<Figure size 432x288 with 1 Axes>"
      ]
     },
     "metadata": {
      "needs_background": "light"
     },
     "output_type": "display_data"
    },
    {
     "data": {
      "text/plain": [
       "0.257143"
      ]
     },
     "metadata": {},
     "output_type": "display_data"
    },
    {
     "data": {
      "text/plain": [
       "0.5469042"
      ]
     },
     "metadata": {},
     "output_type": "display_data"
    }
   ],
   "source": [
    "plt.imshow(image.array_to_img(x_test[top10[7],:,:,:]), cmap='Greys_r') \n",
    "plt.show()\n",
    "\n",
    "display(y_test[top10[6]])\n",
    "display(preds[top10[6]][0])"
   ]
  },
  {
   "cell_type": "code",
   "execution_count": 128,
   "metadata": {},
   "outputs": [
    {
     "data": {
      "image/png": "[encoded data removed]",
      "text/plain": [
       "<Figure size 432x288 with 1 Axes>"
      ]
     },
     "metadata": {
      "needs_background": "light"
     },
     "output_type": "display_data"
    },
    {
     "data": {
      "text/plain": [
       "0.147059"
      ]
     },
     "metadata": {},
     "output_type": "display_data"
    },
    {
     "data": {
      "text/plain": [
       "0.52686507"
      ]
     },
     "metadata": {},
     "output_type": "display_data"
    }
   ],
   "source": [
    "plt.imshow(image.array_to_img(x_test[top10[7],:,:,:]), cmap='Greys_r') \n",
    "plt.show()\n",
    "\n",
    "display(y_test[top10[7]])\n",
    "display(preds[top10[7]][0])"
   ]
  },
  {
   "cell_type": "code",
   "execution_count": 130,
   "metadata": {},
   "outputs": [
    {
     "data": {
      "image/png": "[encoded data removed]",
      "text/plain": [
       "<Figure size 432x288 with 1 Axes>"
      ]
     },
     "metadata": {
      "needs_background": "light"
     },
     "output_type": "display_data"
    },
    {
     "data": {
      "text/plain": [
       "0.527778"
      ]
     },
     "metadata": {},
     "output_type": "display_data"
    },
    {
     "data": {
      "text/plain": [
       "0.14168149"
      ]
     },
     "metadata": {},
     "output_type": "display_data"
    }
   ],
   "source": [
    "plt.imshow(image.array_to_img(x_test[top10[8],:,:,:]), cmap='Greys_r') \n",
    "plt.show()\n",
    "\n",
    "display(y_test[top10[8]])\n",
    "display(preds[top10[8]][0])"
   ]
  },
  {
   "cell_type": "code",
   "execution_count": 131,
   "metadata": {},
   "outputs": [
    {
     "data": {
      "image/png": "[encoded data removed]",
      "text/plain": [
       "<Figure size 432x288 with 1 Axes>"
      ]
     },
     "metadata": {
      "needs_background": "light"
     },
     "output_type": "display_data"
    },
    {
     "data": {
      "text/plain": [
       "0.176471"
      ]
     },
     "metadata": {},
     "output_type": "display_data"
    },
    {
     "data": {
      "text/plain": [
       "0.5348559"
      ]
     },
     "metadata": {},
     "output_type": "display_data"
    }
   ],
   "source": [
    "plt.imshow(image.array_to_img(x_test[top10[9],:,:,:]), cmap='Greys_r') \n",
    "plt.show()\n",
    "\n",
    "display(y_test[top10[9]])\n",
    "display(preds[top10[9]][0])"
   ]
  },
  {
   "cell_type": "code",
   "execution_count": 135,
   "metadata": {},
   "outputs": [
    {
     "data": {
      "text/plain": [
       "array([[0.24662192],\n",
       "       [0.47426492],\n",
       "       [0.21106471],\n",
       "       [0.46764898],\n",
       "       [0.19090138],\n",
       "       [0.16571759],\n",
       "       [0.12093164],\n",
       "       [0.15326747],\n",
       "       [0.1345443 ],\n",
       "       [0.15263708],\n",
       "       [0.16331089],\n",
       "       [0.2147363 ],\n",
       "       [0.18999867],\n",
       "       [0.09400652],\n",
       "       [0.42616132],\n",
       "       [0.16347308],\n",
       "       [0.20772158],\n",
       "       [0.18319246],\n",
       "       [0.2011155 ],\n",
       "       [0.71466184],\n",
       "       [0.1443443 ],\n",
       "       [0.15203692],\n",
       "       [0.21395834],\n",
       "       [0.19681656],\n",
       "       [0.1940122 ],\n",
       "       [0.6689758 ],\n",
       "       [0.32818344],\n",
       "       [0.14578833],\n",
       "       [0.52938646],\n",
       "       [0.52150154],\n",
       "       [0.18001851],\n",
       "       [0.20842876],\n",
       "       [0.3902742 ],\n",
       "       [0.17544188],\n",
       "       [0.15875253],\n",
       "       [0.14341235],\n",
       "       [0.18290304],\n",
       "       [0.32085094],\n",
       "       [0.20046471],\n",
       "       [0.19001445],\n",
       "       [0.19535463],\n",
       "       [0.1852017 ],\n",
       "       [0.25867906],\n",
       "       [0.6863158 ],\n",
       "       [0.5348559 ],\n",
       "       [0.36253947],\n",
       "       [0.1705968 ],\n",
       "       [0.5469042 ],\n",
       "       [0.17857797],\n",
       "       [0.52686507],\n",
       "       [0.08458538],\n",
       "       [0.41547567],\n",
       "       [0.6064371 ],\n",
       "       [0.6165052 ],\n",
       "       [0.1715319 ],\n",
       "       [0.14168149],\n",
       "       [0.17383003],\n",
       "       [0.4443256 ],\n",
       "       [0.13628604],\n",
       "       [0.25698423],\n",
       "       [0.22842868],\n",
       "       [0.16038008],\n",
       "       [0.7082927 ],\n",
       "       [0.47552148],\n",
       "       [0.1915726 ],\n",
       "       [0.25879407],\n",
       "       [0.15994133],\n",
       "       [0.42638028],\n",
       "       [0.15205383],\n",
       "       [0.21541108],\n",
       "       [0.4216336 ],\n",
       "       [0.7424714 ],\n",
       "       [0.17303395],\n",
       "       [0.71610874],\n",
       "       [0.16693084],\n",
       "       [0.1640708 ],\n",
       "       [0.15895152],\n",
       "       [0.37729207],\n",
       "       [0.7366479 ],\n",
       "       [0.4283569 ],\n",
       "       [0.5256722 ],\n",
       "       [0.23313485],\n",
       "       [0.15984696],\n",
       "       [0.2997652 ],\n",
       "       [0.16279757],\n",
       "       [0.08426902],\n",
       "       [0.2610879 ],\n",
       "       [0.22176906],\n",
       "       [0.16742177],\n",
       "       [0.6786376 ]], dtype=float32)"
      ]
     },
     "metadata": {},
     "output_type": "display_data"
    }
   ],
   "source": [
    "display(preds)"
   ]
  },
  {
   "cell_type": "code",
   "execution_count": null,
   "metadata": {},
   "outputs": [],
   "source": []
  }
 ],
 "metadata": {
  "kernelspec": {
   "display_name": "Python 3",
   "language": "python",
   "name": "python3"
  },
  "language_info": {
   "codemirror_mode": {
    "name": "ipython",
    "version": 3
   },
   "file_extension": ".py",
   "mimetype": "text/x-python",
   "name": "python",
   "nbconvert_exporter": "python",
   "pygments_lexer": "ipython3",
   "version": "3.7.6"
  }
 },
 "nbformat": 4,
 "nbformat_minor": 4
}
