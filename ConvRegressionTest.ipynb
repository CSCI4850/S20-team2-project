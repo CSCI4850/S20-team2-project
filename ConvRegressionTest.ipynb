{
 "cells": [
  {
   "cell_type": "markdown",
   "metadata": {},
   "source": [
    "# Convolution Net"
   ]
  },
  {
   "cell_type": "markdown",
   "metadata": {},
   "source": [
    "## Necessary imports"
   ]
  },
  {
   "cell_type": "code",
   "execution_count": 108,
   "metadata": {},
   "outputs": [],
   "source": [
    "import keras\n",
    "from keras import backend as K\n",
    "import numpy as np\n",
    "import matplotlib.pyplot as plt\n",
    "%matplotlib inline\n",
    "from IPython.display import display\n",
    "from keras.utils.vis_utils import plot_model\n",
    "from keras.preprocessing import image\n",
    "from keras.applications.xception import preprocess_input, decode_predictions"
   ]
  },
  {
   "cell_type": "markdown",
   "metadata": {},
   "source": [
    "## Grab Image Function"
   ]
  },
  {
   "cell_type": "markdown",
   "metadata": {},
   "source": [
    "No image flattening like in single layer net"
   ]
  },
  {
   "cell_type": "code",
   "execution_count": 3,
   "metadata": {},
   "outputs": [
    {
     "data": {
      "text/plain": [
       "(600, 100, 100, 1)"
      ]
     },
     "execution_count": 3,
     "metadata": {},
     "output_type": "execute_result"
    }
   ],
   "source": [
    "def grab_image(img_path_base, index, numImages):\n",
    "    #Desired image dimension (image will be square i.e. # by # pixels)\n",
    "    imageDim = 100\n",
    "    \n",
    "    if (index<10):\n",
    "        img_path = img_path_base+\"000\"+str(index)+\"_model.png\"\n",
    "    elif (index<100 and index >=10):\n",
    "        img_path = img_path_base+\"00\"+str(index)+\"_model.png\"\n",
    "    elif (index<1000 and index>=100):\n",
    "        img_path = img_path_base+\"0\"+str(index)+\"_model.png\"\n",
    "    elif (index<10000 and index>=1000):\n",
    "        img_path = img_path_base+str(index)+\"_model.png\"\n",
    "        \n",
    "    img = image.load_img(img_path, target_size=(imageDim, imageDim), color_mode = \"grayscale\")\n",
    "    x = image.img_to_array(img)\n",
    "    x = np.expand_dims(x, axis=0)\n",
    "    x = preprocess_input(x)\n",
    "    return x\n",
    "\n",
    "#Num of images to read in\n",
    "numImages = 600\n",
    "X = np.concatenate([grab_image('/home/atm4w/Project/Data/miscImgs/',i, numImages) for i in range(numImages)]) \n",
    "X /= 255.0\n",
    "\n",
    "X.shape"
   ]
  },
  {
   "cell_type": "markdown",
   "metadata": {},
   "source": [
    "## Check an image to make sure it was read in right"
   ]
  },
  {
   "cell_type": "code",
   "execution_count": 4,
   "metadata": {},
   "outputs": [
    {
     "data": {
      "image/png": "[encoded data removed]",
      "text/plain": [
       "<Figure size 432x288 with 1 Axes>"
      ]
     },
     "metadata": {
      "needs_background": "light"
     },
     "output_type": "display_data"
    }
   ],
   "source": [
    "plt.imshow(image.array_to_img(X[45,:,:,:]), cmap='Greys_r')\n",
    "plt.show()"
   ]
  },
  {
   "cell_type": "markdown",
   "metadata": {},
   "source": [
    "## Load in model scores"
   ]
  },
  {
   "cell_type": "code",
   "execution_count": 104,
   "metadata": {},
   "outputs": [
    {
     "data": {
      "text/plain": [
       "array([0.945946, 0.941176, 0.918919, 0.916667, 0.916667, 0.914286,\n",
       "       0.914286, 0.911765, 0.891892, 0.885714])"
      ]
     },
     "metadata": {},
     "output_type": "display_data"
    },
    {
     "data": {
      "text/plain": [
       "(600,)"
      ]
     },
     "metadata": {},
     "output_type": "display_data"
    }
   ],
   "source": [
    "Y = np.loadtxt('/home/atm4w/Project/Data/miscImgs/scores/humanScores.txt')\n",
    "Y=Y[0:600]\n",
    "display(Y[0:10])\n",
    "display(Y.shape)"
   ]
  },
  {
   "cell_type": "markdown",
   "metadata": {},
   "source": [
    "## Shuffle model images and scores"
   ]
  },
  {
   "cell_type": "code",
   "execution_count": 6,
   "metadata": {},
   "outputs": [
    {
     "data": {
      "text/plain": [
       "(600, 100, 100, 1)"
      ]
     },
     "metadata": {},
     "output_type": "display_data"
    },
    {
     "data": {
      "text/plain": [
       "(600,)"
      ]
     },
     "metadata": {},
     "output_type": "display_data"
    }
   ],
   "source": [
    "p = np.random.permutation(len(X))\n",
    "Xshuffled = X[p]\n",
    "Yshuffled = Y[p]\n",
    "\n",
    "display(Xshuffled.shape)\n",
    "display(Yshuffled.shape)"
   ]
  },
  {
   "cell_type": "markdown",
   "metadata": {},
   "source": [
    "## Show image and score to verify that they were shuffled with link between model and corresponding score intact"
   ]
  },
  {
   "cell_type": "code",
   "execution_count": 7,
   "metadata": {},
   "outputs": [
    {
     "data": {
      "image/png": "[encoded data removed]",
      "text/plain": [
       "<Figure size 432x288 with 1 Axes>"
      ]
     },
     "metadata": {
      "needs_background": "light"
     },
     "output_type": "display_data"
    },
    {
     "data": {
      "text/plain": [
       "0.138889"
      ]
     },
     "metadata": {},
     "output_type": "display_data"
    }
   ],
   "source": [
    "plt.imshow(image.array_to_img(Xshuffled[0,:,:,:]), cmap='Greys_r')\n",
    "plt.show()\n",
    "display(Yshuffled[0])"
   ]
  },
  {
   "cell_type": "markdown",
   "metadata": {},
   "source": [
    "## Split into training and test data (85% for training and validation)"
   ]
  },
  {
   "cell_type": "code",
   "execution_count": 8,
   "metadata": {},
   "outputs": [
    {
     "data": {
      "text/plain": [
       "(510, 100, 100, 1)"
      ]
     },
     "metadata": {},
     "output_type": "display_data"
    },
    {
     "data": {
      "text/plain": [
       "(510,)"
      ]
     },
     "metadata": {},
     "output_type": "display_data"
    },
    {
     "data": {
      "text/plain": [
       "(90, 100, 100, 1)"
      ]
     },
     "metadata": {},
     "output_type": "display_data"
    },
    {
     "data": {
      "text/plain": [
       "(90,)"
      ]
     },
     "metadata": {},
     "output_type": "display_data"
    }
   ],
   "source": [
    "x_train = Xshuffled[0:(round(numImages*.85)),:,:]\n",
    "y_train = Yshuffled[0:(round(numImages*.85))]\n",
    "x_test = Xshuffled[(round(numImages*.85)): , : , :]\n",
    "y_test = Yshuffled[(round(numImages*.85)):]\n",
    "\n",
    "display(x_train.shape)\n",
    "display(y_train.shape)\n",
    "display(x_test.shape)\n",
    "display(y_test.shape)"
   ]
  },
  {
   "cell_type": "markdown",
   "metadata": {},
   "source": [
    "## Build net and generate image of architecture"
   ]
  },
  {
   "cell_type": "code",
   "execution_count": 63,
   "metadata": {},
   "outputs": [
    {
     "name": "stdout",
     "output_type": "stream",
     "text": [
      "Model: \"sequential_3\"\n",
      "_________________________________________________________________\n",
      "Layer (type)                 Output Shape              Param #   \n",
      "=================================================================\n",
      "conv2d_5 (Conv2D)            (None, 89, 89, 16)        2320      \n",
      "_________________________________________________________________\n",
      "conv2d_6 (Conv2D)            (None, 82, 82, 32)        32800     \n",
      "_________________________________________________________________\n",
      "max_pooling2d_3 (MaxPooling2 (None, 41, 41, 32)        0         \n",
      "_________________________________________________________________\n",
      "dropout_3 (Dropout)          (None, 41, 41, 32)        0         \n",
      "_________________________________________________________________\n",
      "flatten_3 (Flatten)          (None, 53792)             0         \n",
      "_________________________________________________________________\n",
      "dense_4 (Dense)              (None, 32)                1721376   \n",
      "_________________________________________________________________\n",
      "dropout_4 (Dropout)          (None, 32)                0         \n",
      "_________________________________________________________________\n",
      "dense_5 (Dense)              (None, 1)                 33        \n",
      "=================================================================\n",
      "Total params: 1,756,529\n",
      "Trainable params: 1,756,529\n",
      "Non-trainable params: 0\n",
      "_________________________________________________________________\n"
     ]
    }
   ],
   "source": [
    "model = keras.Sequential()\n",
    "model.add(keras.layers.Conv2D(16, kernel_size=(12, 12),\n",
    "                activation='relu',\n",
    "                input_shape=[x_test.shape[1],\n",
    "                x_test.shape[2],\n",
    "                x_test.shape[3]]))\n",
    "model.add(keras.layers.Conv2D(32, kernel_size=(8, 8), activation='relu'))\n",
    "model.add(keras.layers.MaxPooling2D(pool_size=(2, 2)))\n",
    "model.add(keras.layers.Dropout(.5))\n",
    "\n",
    "model.add(keras.layers.Flatten())\n",
    "model.add(keras.layers.Dense(32, activation='relu'))\n",
    "model.add(keras.layers.Dropout(0.5))\n",
    "model.add(keras.layers.Dense(1, activation='sigmoid'))\n",
    "\n",
    "\n",
    "model.compile(loss=keras.losses.mean_squared_error, optimizer=keras.optimizers.Adam(learning_rate=0.0001), metrics=['mse'])\n",
    "model.summary()"
   ]
  },
  {
   "cell_type": "code",
   "execution_count": 106,
   "metadata": {},
   "outputs": [
    {
     "data": {
      "image/png": "[encoded data removed]",
      "text/plain": [
       "<IPython.core.display.Image object>"
      ]
     },
     "execution_count": 106,
     "metadata": {},
     "output_type": "execute_result"
    }
   ],
   "source": [
    "plot_model(model,to_file='convNet.png',show_shapes=True,expand_nested=True)"
   ]
  },
  {
   "cell_type": "markdown",
   "metadata": {},
   "source": [
    "## Train it"
   ]
  },
  {
   "cell_type": "code",
   "execution_count": 64,
   "metadata": {},
   "outputs": [
    {
     "name": "stdout",
     "output_type": "stream",
     "text": [
      "Train on 357 samples, validate on 153 samples\n",
      "Epoch 1/120\n",
      "357/357 [==============================] - 15s 42ms/step - loss: 0.0575 - mse: 0.0575 - val_loss: 0.0556 - val_mse: 0.0556\n",
      "Epoch 2/120\n",
      "357/357 [==============================] - 14s 40ms/step - loss: 0.0502 - mse: 0.0502 - val_loss: 0.0577 - val_mse: 0.0577\n",
      "Epoch 3/120\n",
      "357/357 [==============================] - 14s 40ms/step - loss: 0.0482 - mse: 0.0482 - val_loss: 0.0555 - val_mse: 0.0555\n",
      "Epoch 4/120\n",
      "357/357 [==============================] - 14s 40ms/step - loss: 0.0496 - mse: 0.0496 - val_loss: 0.0586 - val_mse: 0.0586\n",
      "Epoch 5/120\n",
      "357/357 [==============================] - 15s 41ms/step - loss: 0.0491 - mse: 0.0491 - val_loss: 0.0571 - val_mse: 0.0571\n",
      "Epoch 6/120\n",
      "357/357 [==============================] - 15s 41ms/step - loss: 0.0482 - mse: 0.0482 - val_loss: 0.0557 - val_mse: 0.0557\n",
      "Epoch 7/120\n",
      "357/357 [==============================] - 14s 41ms/step - loss: 0.0475 - mse: 0.0475 - val_loss: 0.0556 - val_mse: 0.0556\n",
      "Epoch 8/120\n",
      "357/357 [==============================] - 15s 41ms/step - loss: 0.0493 - mse: 0.0493 - val_loss: 0.0561 - val_mse: 0.0561\n",
      "Epoch 9/120\n",
      "357/357 [==============================] - 15s 41ms/step - loss: 0.0486 - mse: 0.0486 - val_loss: 0.0549 - val_mse: 0.0549\n",
      "Epoch 10/120\n",
      "357/357 [==============================] - 14s 40ms/step - loss: 0.0485 - mse: 0.0485 - val_loss: 0.0545 - val_mse: 0.0545\n",
      "Epoch 11/120\n",
      "357/357 [==============================] - 14s 40ms/step - loss: 0.0462 - mse: 0.0462 - val_loss: 0.0540 - val_mse: 0.0540\n",
      "Epoch 12/120\n",
      "357/357 [==============================] - 15s 41ms/step - loss: 0.0437 - mse: 0.0437 - val_loss: 0.0553 - val_mse: 0.0553\n",
      "Epoch 13/120\n",
      "357/357 [==============================] - 15s 41ms/step - loss: 0.0445 - mse: 0.0445 - val_loss: 0.0507 - val_mse: 0.0507\n",
      "Epoch 14/120\n",
      "357/357 [==============================] - 15s 41ms/step - loss: 0.0414 - mse: 0.0414 - val_loss: 0.0465 - val_mse: 0.0465\n",
      "Epoch 15/120\n",
      "357/357 [==============================] - 15s 41ms/step - loss: 0.0401 - mse: 0.0401 - val_loss: 0.0456 - val_mse: 0.0456\n",
      "Epoch 16/120\n",
      "357/357 [==============================] - 15s 41ms/step - loss: 0.0347 - mse: 0.0347 - val_loss: 0.0392 - val_mse: 0.0392\n",
      "Epoch 17/120\n",
      "357/357 [==============================] - 14s 40ms/step - loss: 0.0330 - mse: 0.0330 - val_loss: 0.0347 - val_mse: 0.0347\n",
      "Epoch 18/120\n",
      "357/357 [==============================] - 14s 41ms/step - loss: 0.0298 - mse: 0.0298 - val_loss: 0.0344 - val_mse: 0.0344\n",
      "Epoch 19/120\n",
      "357/357 [==============================] - 14s 41ms/step - loss: 0.0291 - mse: 0.0291 - val_loss: 0.0318 - val_mse: 0.0318\n",
      "Epoch 20/120\n",
      "357/357 [==============================] - 14s 41ms/step - loss: 0.0282 - mse: 0.0282 - val_loss: 0.0308 - val_mse: 0.0308\n",
      "Epoch 21/120\n",
      "357/357 [==============================] - 14s 40ms/step - loss: 0.0272 - mse: 0.0272 - val_loss: 0.0294 - val_mse: 0.0294\n",
      "Epoch 22/120\n",
      "357/357 [==============================] - 14s 40ms/step - loss: 0.0265 - mse: 0.0265 - val_loss: 0.0297 - val_mse: 0.0297\n",
      "Epoch 23/120\n",
      "357/357 [==============================] - 14s 40ms/step - loss: 0.0245 - mse: 0.0245 - val_loss: 0.0287 - val_mse: 0.0287\n",
      "Epoch 24/120\n",
      "357/357 [==============================] - 14s 40ms/step - loss: 0.0245 - mse: 0.0245 - val_loss: 0.0269 - val_mse: 0.0269\n",
      "Epoch 25/120\n",
      "357/357 [==============================] - 14s 40ms/step - loss: 0.0262 - mse: 0.0262 - val_loss: 0.0277 - val_mse: 0.0277\n",
      "Epoch 26/120\n",
      "357/357 [==============================] - 14s 40ms/step - loss: 0.0244 - mse: 0.0244 - val_loss: 0.0273 - val_mse: 0.0273\n",
      "Epoch 27/120\n",
      "357/357 [==============================] - 15s 41ms/step - loss: 0.0230 - mse: 0.0230 - val_loss: 0.0260 - val_mse: 0.0260\n",
      "Epoch 28/120\n",
      "357/357 [==============================] - 14s 40ms/step - loss: 0.0245 - mse: 0.0245 - val_loss: 0.0270 - val_mse: 0.0270\n",
      "Epoch 29/120\n",
      "357/357 [==============================] - 14s 40ms/step - loss: 0.0242 - mse: 0.0242 - val_loss: 0.0257 - val_mse: 0.0257\n",
      "Epoch 30/120\n",
      "357/357 [==============================] - 15s 41ms/step - loss: 0.0239 - mse: 0.0239 - val_loss: 0.0259 - val_mse: 0.0259\n",
      "Epoch 31/120\n",
      "357/357 [==============================] - 14s 41ms/step - loss: 0.0222 - mse: 0.0222 - val_loss: 0.0253 - val_mse: 0.0253\n",
      "Epoch 32/120\n",
      "357/357 [==============================] - 14s 41ms/step - loss: 0.0237 - mse: 0.0237 - val_loss: 0.0253 - val_mse: 0.0253\n",
      "Epoch 33/120\n",
      "357/357 [==============================] - 14s 41ms/step - loss: 0.0223 - mse: 0.0223 - val_loss: 0.0254 - val_mse: 0.0254\n",
      "Epoch 34/120\n",
      "357/357 [==============================] - 14s 40ms/step - loss: 0.0222 - mse: 0.0222 - val_loss: 0.0261 - val_mse: 0.0261\n",
      "Epoch 35/120\n",
      "357/357 [==============================] - 15s 41ms/step - loss: 0.0233 - mse: 0.0233 - val_loss: 0.0252 - val_mse: 0.0252\n",
      "Epoch 36/120\n",
      "357/357 [==============================] - 15s 41ms/step - loss: 0.0215 - mse: 0.0215 - val_loss: 0.0238 - val_mse: 0.0238\n",
      "Epoch 37/120\n",
      "357/357 [==============================] - 14s 41ms/step - loss: 0.0224 - mse: 0.0224 - val_loss: 0.0276 - val_mse: 0.0276\n",
      "Epoch 38/120\n",
      "357/357 [==============================] - 15s 41ms/step - loss: 0.0222 - mse: 0.0222 - val_loss: 0.0243 - val_mse: 0.0243\n",
      "Epoch 39/120\n",
      "357/357 [==============================] - 14s 40ms/step - loss: 0.0227 - mse: 0.0227 - val_loss: 0.0238 - val_mse: 0.0238\n",
      "Epoch 40/120\n",
      "357/357 [==============================] - 14s 41ms/step - loss: 0.0217 - mse: 0.0217 - val_loss: 0.0242 - val_mse: 0.0242\n",
      "Epoch 41/120\n",
      "357/357 [==============================] - 14s 40ms/step - loss: 0.0220 - mse: 0.0220 - val_loss: 0.0237 - val_mse: 0.0237\n",
      "Epoch 42/120\n",
      "357/357 [==============================] - 14s 40ms/step - loss: 0.0209 - mse: 0.0209 - val_loss: 0.0237 - val_mse: 0.0237\n",
      "Epoch 43/120\n",
      "357/357 [==============================] - 15s 41ms/step - loss: 0.0201 - mse: 0.0201 - val_loss: 0.0241 - val_mse: 0.0241\n",
      "Epoch 44/120\n",
      "357/357 [==============================] - 14s 41ms/step - loss: 0.0210 - mse: 0.0210 - val_loss: 0.0227 - val_mse: 0.0227\n",
      "Epoch 45/120\n",
      "357/357 [==============================] - 15s 41ms/step - loss: 0.0203 - mse: 0.0203 - val_loss: 0.0235 - val_mse: 0.0235\n",
      "Epoch 46/120\n",
      "357/357 [==============================] - 15s 41ms/step - loss: 0.0214 - mse: 0.0214 - val_loss: 0.0264 - val_mse: 0.0264\n",
      "Epoch 47/120\n",
      "357/357 [==============================] - 15s 41ms/step - loss: 0.0212 - mse: 0.0212 - val_loss: 0.0240 - val_mse: 0.0240\n",
      "Epoch 48/120\n",
      "357/357 [==============================] - 14s 40ms/step - loss: 0.0203 - mse: 0.0203 - val_loss: 0.0280 - val_mse: 0.0280\n",
      "Epoch 49/120\n",
      "357/357 [==============================] - 15s 41ms/step - loss: 0.0194 - mse: 0.0194 - val_loss: 0.0222 - val_mse: 0.0222\n",
      "Epoch 50/120\n",
      "357/357 [==============================] - 14s 41ms/step - loss: 0.0199 - mse: 0.0199 - val_loss: 0.0220 - val_mse: 0.0220\n",
      "Epoch 51/120\n",
      "357/357 [==============================] - 15s 41ms/step - loss: 0.0214 - mse: 0.0214 - val_loss: 0.0222 - val_mse: 0.0222\n",
      "Epoch 52/120\n",
      "357/357 [==============================] - 15s 41ms/step - loss: 0.0197 - mse: 0.0197 - val_loss: 0.0222 - val_mse: 0.0222\n",
      "Epoch 53/120\n",
      "357/357 [==============================] - 15s 41ms/step - loss: 0.0200 - mse: 0.0200 - val_loss: 0.0231 - val_mse: 0.0231\n",
      "Epoch 54/120\n",
      "357/357 [==============================] - 15s 41ms/step - loss: 0.0200 - mse: 0.0200 - val_loss: 0.0229 - val_mse: 0.0229\n",
      "Epoch 55/120\n",
      "357/357 [==============================] - 14s 40ms/step - loss: 0.0185 - mse: 0.0185 - val_loss: 0.0222 - val_mse: 0.0222\n",
      "Epoch 56/120\n",
      "357/357 [==============================] - 14s 41ms/step - loss: 0.0206 - mse: 0.0206 - val_loss: 0.0236 - val_mse: 0.0236\n",
      "Epoch 57/120\n",
      "357/357 [==============================] - 14s 40ms/step - loss: 0.0183 - mse: 0.0183 - val_loss: 0.0228 - val_mse: 0.0228\n",
      "Epoch 58/120\n",
      "357/357 [==============================] - 14s 40ms/step - loss: 0.0179 - mse: 0.0179 - val_loss: 0.0217 - val_mse: 0.0217\n",
      "Epoch 59/120\n",
      "357/357 [==============================] - 15s 41ms/step - loss: 0.0171 - mse: 0.0171 - val_loss: 0.0214 - val_mse: 0.0214\n",
      "Epoch 60/120\n",
      "357/357 [==============================] - 15s 41ms/step - loss: 0.0183 - mse: 0.0183 - val_loss: 0.0208 - val_mse: 0.0208\n",
      "Epoch 61/120\n",
      "357/357 [==============================] - 15s 41ms/step - loss: 0.0188 - mse: 0.0188 - val_loss: 0.0236 - val_mse: 0.0236\n",
      "Epoch 62/120\n",
      "357/357 [==============================] - 15s 41ms/step - loss: 0.0189 - mse: 0.0189 - val_loss: 0.0227 - val_mse: 0.0227\n",
      "Epoch 63/120\n",
      "357/357 [==============================] - 15s 41ms/step - loss: 0.0183 - mse: 0.0183 - val_loss: 0.0229 - val_mse: 0.0229\n",
      "Epoch 64/120\n",
      "357/357 [==============================] - 14s 40ms/step - loss: 0.0174 - mse: 0.0174 - val_loss: 0.0215 - val_mse: 0.0215\n",
      "Epoch 65/120\n",
      "357/357 [==============================] - 15s 41ms/step - loss: 0.0188 - mse: 0.0188 - val_loss: 0.0216 - val_mse: 0.0216\n",
      "Epoch 66/120\n",
      "357/357 [==============================] - 15s 41ms/step - loss: 0.0173 - mse: 0.0173 - val_loss: 0.0211 - val_mse: 0.0211\n",
      "Epoch 67/120\n",
      "357/357 [==============================] - 15s 41ms/step - loss: 0.0184 - mse: 0.0184 - val_loss: 0.0207 - val_mse: 0.0207\n",
      "Epoch 68/120\n",
      "357/357 [==============================] - 15s 41ms/step - loss: 0.0170 - mse: 0.0170 - val_loss: 0.0244 - val_mse: 0.0244\n",
      "Epoch 69/120\n",
      "357/357 [==============================] - 14s 40ms/step - loss: 0.0173 - mse: 0.0173 - val_loss: 0.0220 - val_mse: 0.0220\n",
      "Epoch 70/120\n",
      "357/357 [==============================] - 15s 41ms/step - loss: 0.0180 - mse: 0.0180 - val_loss: 0.0208 - val_mse: 0.0208\n",
      "Epoch 71/120\n",
      "357/357 [==============================] - 15s 41ms/step - loss: 0.0179 - mse: 0.0179 - val_loss: 0.0212 - val_mse: 0.0212\n",
      "Epoch 72/120\n",
      "357/357 [==============================] - 14s 41ms/step - loss: 0.0163 - mse: 0.0163 - val_loss: 0.0204 - val_mse: 0.0204\n",
      "Epoch 73/120\n",
      "357/357 [==============================] - 15s 42ms/step - loss: 0.0161 - mse: 0.0161 - val_loss: 0.0211 - val_mse: 0.0211\n",
      "Epoch 74/120\n",
      "357/357 [==============================] - 14s 40ms/step - loss: 0.0165 - mse: 0.0165 - val_loss: 0.0221 - val_mse: 0.0221\n",
      "Epoch 75/120\n",
      "357/357 [==============================] - 15s 41ms/step - loss: 0.0176 - mse: 0.0176 - val_loss: 0.0251 - val_mse: 0.0251\n",
      "Epoch 76/120\n",
      "357/357 [==============================] - 15s 41ms/step - loss: 0.0173 - mse: 0.0173 - val_loss: 0.0201 - val_mse: 0.0201\n",
      "Epoch 77/120\n",
      "357/357 [==============================] - 15s 41ms/step - loss: 0.0175 - mse: 0.0175 - val_loss: 0.0210 - val_mse: 0.0210\n",
      "Epoch 78/120\n",
      "357/357 [==============================] - 15s 41ms/step - loss: 0.0169 - mse: 0.0169 - val_loss: 0.0203 - val_mse: 0.0203\n",
      "Epoch 79/120\n",
      "357/357 [==============================] - 15s 41ms/step - loss: 0.0161 - mse: 0.0161 - val_loss: 0.0228 - val_mse: 0.0228\n",
      "Epoch 80/120\n",
      "357/357 [==============================] - 14s 41ms/step - loss: 0.0155 - mse: 0.0155 - val_loss: 0.0202 - val_mse: 0.0202\n",
      "Epoch 81/120\n",
      "357/357 [==============================] - 15s 41ms/step - loss: 0.0172 - mse: 0.0172 - val_loss: 0.0213 - val_mse: 0.0213\n",
      "Epoch 82/120\n",
      "357/357 [==============================] - 15s 41ms/step - loss: 0.0150 - mse: 0.0150 - val_loss: 0.0201 - val_mse: 0.0201\n",
      "Epoch 83/120\n",
      "357/357 [==============================] - 15s 41ms/step - loss: 0.0168 - mse: 0.0168 - val_loss: 0.0208 - val_mse: 0.0208\n",
      "Epoch 84/120\n",
      "357/357 [==============================] - 15s 41ms/step - loss: 0.0166 - mse: 0.0166 - val_loss: 0.0212 - val_mse: 0.0212\n",
      "Epoch 85/120\n",
      "357/357 [==============================] - 14s 41ms/step - loss: 0.0152 - mse: 0.0152 - val_loss: 0.0201 - val_mse: 0.0201\n",
      "Epoch 86/120\n",
      "357/357 [==============================] - 15s 41ms/step - loss: 0.0139 - mse: 0.0139 - val_loss: 0.0203 - val_mse: 0.0203\n",
      "Epoch 87/120\n",
      "357/357 [==============================] - 15s 41ms/step - loss: 0.0173 - mse: 0.0173 - val_loss: 0.0197 - val_mse: 0.0197\n",
      "Epoch 88/120\n",
      "357/357 [==============================] - 15s 42ms/step - loss: 0.0151 - mse: 0.0151 - val_loss: 0.0216 - val_mse: 0.0216\n",
      "Epoch 89/120\n",
      "357/357 [==============================] - 15s 41ms/step - loss: 0.0130 - mse: 0.0130 - val_loss: 0.0203 - val_mse: 0.0203\n",
      "Epoch 90/120\n",
      "357/357 [==============================] - 15s 41ms/step - loss: 0.0175 - mse: 0.0175 - val_loss: 0.0207 - val_mse: 0.0207\n",
      "Epoch 91/120\n",
      "357/357 [==============================] - 15s 41ms/step - loss: 0.0182 - mse: 0.0182 - val_loss: 0.0204 - val_mse: 0.0204\n",
      "Epoch 92/120\n",
      "357/357 [==============================] - 15s 41ms/step - loss: 0.0142 - mse: 0.0142 - val_loss: 0.0201 - val_mse: 0.0201\n",
      "Epoch 93/120\n",
      "357/357 [==============================] - 15s 41ms/step - loss: 0.0163 - mse: 0.0163 - val_loss: 0.0202 - val_mse: 0.0202\n",
      "Epoch 94/120\n",
      "357/357 [==============================] - 15s 41ms/step - loss: 0.0161 - mse: 0.0161 - val_loss: 0.0214 - val_mse: 0.0214\n",
      "Epoch 95/120\n",
      "357/357 [==============================] - 15s 41ms/step - loss: 0.0144 - mse: 0.0144 - val_loss: 0.0210 - val_mse: 0.0210\n",
      "Epoch 96/120\n",
      "357/357 [==============================] - 15s 41ms/step - loss: 0.0163 - mse: 0.0163 - val_loss: 0.0206 - val_mse: 0.0206\n",
      "Epoch 97/120\n",
      "357/357 [==============================] - 15s 42ms/step - loss: 0.0154 - mse: 0.0154 - val_loss: 0.0203 - val_mse: 0.0203\n",
      "Epoch 98/120\n",
      "357/357 [==============================] - 15s 41ms/step - loss: 0.0154 - mse: 0.0154 - val_loss: 0.0196 - val_mse: 0.0196\n",
      "Epoch 99/120\n",
      "357/357 [==============================] - 15s 41ms/step - loss: 0.0148 - mse: 0.0148 - val_loss: 0.0210 - val_mse: 0.0210\n",
      "Epoch 100/120\n",
      "357/357 [==============================] - 15s 41ms/step - loss: 0.0151 - mse: 0.0151 - val_loss: 0.0207 - val_mse: 0.0207\n",
      "Epoch 101/120\n",
      "357/357 [==============================] - 15s 42ms/step - loss: 0.0167 - mse: 0.0167 - val_loss: 0.0199 - val_mse: 0.0199\n",
      "Epoch 102/120\n",
      "357/357 [==============================] - 15s 42ms/step - loss: 0.0156 - mse: 0.0156 - val_loss: 0.0220 - val_mse: 0.0220\n",
      "Epoch 103/120\n",
      "357/357 [==============================] - 15s 41ms/step - loss: 0.0142 - mse: 0.0142 - val_loss: 0.0224 - val_mse: 0.0224\n",
      "Epoch 104/120\n",
      "357/357 [==============================] - 15s 41ms/step - loss: 0.0147 - mse: 0.0147 - val_loss: 0.0196 - val_mse: 0.0196\n",
      "Epoch 105/120\n",
      "357/357 [==============================] - 15s 41ms/step - loss: 0.0164 - mse: 0.0164 - val_loss: 0.0216 - val_mse: 0.0216\n",
      "Epoch 106/120\n",
      "357/357 [==============================] - 15s 41ms/step - loss: 0.0144 - mse: 0.0144 - val_loss: 0.0196 - val_mse: 0.0196\n",
      "Epoch 107/120\n",
      "357/357 [==============================] - 15s 41ms/step - loss: 0.0155 - mse: 0.0155 - val_loss: 0.0222 - val_mse: 0.0222\n",
      "Epoch 108/120\n",
      "357/357 [==============================] - 15s 41ms/step - loss: 0.0153 - mse: 0.0153 - val_loss: 0.0195 - val_mse: 0.0195\n",
      "Epoch 109/120\n",
      "357/357 [==============================] - 15s 42ms/step - loss: 0.0149 - mse: 0.0149 - val_loss: 0.0213 - val_mse: 0.0213\n",
      "Epoch 110/120\n",
      "357/357 [==============================] - 15s 41ms/step - loss: 0.0140 - mse: 0.0140 - val_loss: 0.0197 - val_mse: 0.0197\n",
      "Epoch 111/120\n",
      "357/357 [==============================] - 15s 42ms/step - loss: 0.0141 - mse: 0.0141 - val_loss: 0.0229 - val_mse: 0.0229\n",
      "Epoch 112/120\n",
      "357/357 [==============================] - 15s 41ms/step - loss: 0.0145 - mse: 0.0145 - val_loss: 0.0204 - val_mse: 0.0204\n",
      "Epoch 113/120\n",
      "357/357 [==============================] - 15s 41ms/step - loss: 0.0132 - mse: 0.0132 - val_loss: 0.0250 - val_mse: 0.0250\n",
      "Epoch 114/120\n",
      "357/357 [==============================] - 15s 41ms/step - loss: 0.0153 - mse: 0.0153 - val_loss: 0.0210 - val_mse: 0.0210\n",
      "Epoch 115/120\n",
      "357/357 [==============================] - 15s 42ms/step - loss: 0.0129 - mse: 0.0129 - val_loss: 0.0214 - val_mse: 0.0214\n",
      "Epoch 116/120\n",
      "357/357 [==============================] - 15s 41ms/step - loss: 0.0141 - mse: 0.0141 - val_loss: 0.0207 - val_mse: 0.0207\n",
      "Epoch 117/120\n",
      "357/357 [==============================] - 15s 41ms/step - loss: 0.0137 - mse: 0.0137 - val_loss: 0.0235 - val_mse: 0.0235\n",
      "Epoch 118/120\n",
      "357/357 [==============================] - 14s 41ms/step - loss: 0.0134 - mse: 0.0134 - val_loss: 0.0207 - val_mse: 0.0207\n",
      "Epoch 119/120\n",
      "357/357 [==============================] - 15s 41ms/step - loss: 0.0145 - mse: 0.0145 - val_loss: 0.0206 - val_mse: 0.0206\n",
      "Epoch 120/120\n",
      "357/357 [==============================] - 15s 42ms/step - loss: 0.0132 - mse: 0.0132 - val_loss: 0.0212 - val_mse: 0.0212\n"
     ]
    }
   ],
   "source": [
    "batch_size = 4\n",
    "epochs = 120\n",
    "history = model.fit(x_train, y_train,\n",
    "    batch_size=batch_size,\n",
    "    epochs=epochs,\n",
    "    verbose=1,\n",
    "    validation_split = 0.3)"
   ]
  },
  {
   "cell_type": "markdown",
   "metadata": {},
   "source": [
    "## Generate loss (MSE) plot"
   ]
  },
  {
   "cell_type": "code",
   "execution_count": 95,
   "metadata": {},
   "outputs": [
    {
     "data": {
      "image/png": "[encoded data removed]",
      "text/plain": [
       "<Figure size 432x288 with 1 Axes>"
      ]
     },
     "metadata": {
      "needs_background": "light"
     },
     "output_type": "display_data"
    }
   ],
   "source": [
    "plt.figure()\n",
    "plt.subplot(212)\n",
    "plt.plot(history.history['loss'])\n",
    "plt.plot(history.history['val_loss'])\n",
    "plt.title('convolution model loss')\n",
    "plt.ylabel('loss')\n",
    "plt.xlabel('epoch')\n",
    "plt.legend(['training', 'validation'], loc='upper left')\n",
    "plt.tight_layout()\n",
    "plt.savefig(\"ConvModelLoss.png\")\n",
    "plt.show()"
   ]
  },
  {
   "cell_type": "markdown",
   "metadata": {},
   "source": [
    "## Test on remaining 90 images and calculate mean difference between predicted and actual scores"
   ]
  },
  {
   "cell_type": "code",
   "execution_count": 66,
   "metadata": {},
   "outputs": [
    {
     "name": "stdout",
     "output_type": "stream",
     "text": [
      "Mean difference\n",
      "---------------\n"
     ]
    },
    {
     "data": {
      "text/plain": [
       "0.11193679935781162"
      ]
     },
     "metadata": {},
     "output_type": "display_data"
    }
   ],
   "source": [
    "preds = model.predict(x_test)\n",
    "diff = preds.flatten() - (y_test)\n",
    "print(\"Mean difference\")\n",
    "print(\"---------------\")\n",
    "display(np.mean(np.abs(diff)))"
   ]
  },
  {
   "cell_type": "markdown",
   "metadata": {},
   "source": [
    "## Save model"
   ]
  },
  {
   "cell_type": "code",
   "execution_count": 67,
   "metadata": {},
   "outputs": [],
   "source": [
    "model.save(\"atm4wCurModel\")"
   ]
  },
  {
   "cell_type": "markdown",
   "metadata": {},
   "source": [
    "## Various data plots"
   ]
  },
  {
   "cell_type": "code",
   "execution_count": 68,
   "metadata": {},
   "outputs": [
    {
     "data": {
      "image/png": "[encoded data removed]",
      "text/plain": [
       "<Figure size 432x288 with 1 Axes>"
      ]
     },
     "metadata": {
      "needs_background": "light"
     },
     "output_type": "display_data"
    },
    {
     "data": {
      "text/plain": [
       "<Figure size 14400x1440 with 0 Axes>"
      ]
     },
     "metadata": {},
     "output_type": "display_data"
    }
   ],
   "source": [
    "shuffledInd = np.linspace(0,89,num = 90)\n",
    "\n",
    "plt.figure()\n",
    "plt.scatter(shuffledInd, y_test)\n",
    "plt.scatter(shuffledInd, preds)\n",
    "plt.title(\"Predictions/Actual Comparison\")\n",
    "plt.ylabel(\"score\")\n",
    "plt.xlabel(\"image num\")\n",
    "plt.legend(['actual', 'prediction'], loc='upper left')\n",
    "plt.figure(figsize=(200,20))\n",
    "plt.show()"
   ]
  },
  {
   "cell_type": "code",
   "execution_count": 93,
   "metadata": {},
   "outputs": [
    {
     "data": {
      "image/png": "[encoded data removed]",
      "text/plain": [
       "<Figure size 432x288 with 1 Axes>"
      ]
     },
     "metadata": {
      "needs_background": "light"
     },
     "output_type": "display_data"
    }
   ],
   "source": [
    "plt.figure()\n",
    "plt.scatter(y_test, preds)\n",
    "plt.title(\"Predicted vs Actual value\")\n",
    "plt.ylabel(\"predicted value\")\n",
    "plt.xlabel(\"actual value\")\n",
    "plt.savefig(\"ConvPredictedVAct.png\")\n",
    "plt.axis('square')\n",
    "plt.show()"
   ]
  },
  {
   "cell_type": "code",
   "execution_count": 94,
   "metadata": {},
   "outputs": [
    {
     "data": {
      "image/png": "[encoded data removed]",
      "text/plain": [
       "<Figure size 432x288 with 1 Axes>"
      ]
     },
     "metadata": {
      "needs_background": "light"
     },
     "output_type": "display_data"
    }
   ],
   "source": [
    "plt.figure()\n",
    "plt.scatter(y_test, diff)\n",
    "plt.title(\"Difference vs Actual value\")\n",
    "plt.ylabel(\"Difference\")\n",
    "plt.xlabel(\"actual value\")\n",
    "plt.axis('square')\n",
    "plt.savefig(\"ConvDiffVAct.png\")\n",
    "plt.show()"
   ]
  },
  {
   "cell_type": "markdown",
   "metadata": {},
   "source": [
    "## Find the 10 worst and 5 best predictions"
   ]
  },
  {
   "cell_type": "code",
   "execution_count": 113,
   "metadata": {},
   "outputs": [
    {
     "data": {
      "text/plain": [
       "array([81, 53, 64, 68, 37, 30, 77, 17, 71, 44])"
      ]
     },
     "metadata": {},
     "output_type": "display_data"
    },
    {
     "data": {
      "text/plain": [
       "array([87, 19, 23, 48, 86])"
      ]
     },
     "metadata": {},
     "output_type": "display_data"
    }
   ],
   "source": [
    "absDiff = np.abs(diff)\n",
    "\n",
    "top10 = np.argpartition(absDiff, -10)[-10:]\n",
    "bottom5= np.argpartition(absDiff, 5)[:5]\n",
    "display(top10)\n",
    "display(bottom5)"
   ]
  },
  {
   "cell_type": "markdown",
   "metadata": {},
   "source": [
    "## Show the 10 worst predictions"
   ]
  },
  {
   "cell_type": "code",
   "execution_count": 71,
   "metadata": {},
   "outputs": [
    {
     "data": {
      "text/plain": [
       "array([81, 53, 64, 68, 37, 30, 77, 17, 71, 44])"
      ]
     },
     "metadata": {},
     "output_type": "display_data"
    },
    {
     "data": {
      "text/plain": [
       "array([87, 19, 23, 48, 86])"
      ]
     },
     "metadata": {},
     "output_type": "display_data"
    },
    {
     "name": "stdout",
     "output_type": "stream",
     "text": [
      "Human Score\n"
     ]
    },
    {
     "data": {
      "text/plain": [
       "0.918919"
      ]
     },
     "metadata": {},
     "output_type": "display_data"
    },
    {
     "name": "stdout",
     "output_type": "stream",
     "text": [
      "Prediction\n"
     ]
    },
    {
     "data": {
      "text/plain": [
       "0.6564193"
      ]
     },
     "metadata": {},
     "output_type": "display_data"
    },
    {
     "name": "stdout",
     "output_type": "stream",
     "text": [
      "---------------\n",
      "Human Score\n"
     ]
    },
    {
     "data": {
      "text/plain": [
       "0.5"
      ]
     },
     "metadata": {},
     "output_type": "display_data"
    },
    {
     "name": "stdout",
     "output_type": "stream",
     "text": [
      "Prediction\n"
     ]
    },
    {
     "data": {
      "text/plain": [
       "0.13430513"
      ]
     },
     "metadata": {},
     "output_type": "display_data"
    },
    {
     "name": "stdout",
     "output_type": "stream",
     "text": [
      "---------------\n",
      "Human Score\n"
     ]
    },
    {
     "data": {
      "text/plain": [
       "0.916667"
      ]
     },
     "metadata": {},
     "output_type": "display_data"
    },
    {
     "name": "stdout",
     "output_type": "stream",
     "text": [
      "Prediction\n"
     ]
    },
    {
     "data": {
      "text/plain": [
       "0.63838536"
      ]
     },
     "metadata": {},
     "output_type": "display_data"
    },
    {
     "name": "stdout",
     "output_type": "stream",
     "text": [
      "---------------\n",
      "Human Score\n"
     ]
    },
    {
     "data": {
      "text/plain": [
       "0.205882"
      ]
     },
     "metadata": {},
     "output_type": "display_data"
    },
    {
     "name": "stdout",
     "output_type": "stream",
     "text": [
      "Prediction\n"
     ]
    },
    {
     "data": {
      "text/plain": [
       "0.49685866"
      ]
     },
     "metadata": {},
     "output_type": "display_data"
    },
    {
     "name": "stdout",
     "output_type": "stream",
     "text": [
      "---------------\n",
      "Human Score\n"
     ]
    },
    {
     "data": {
      "text/plain": [
       "0.857143"
      ]
     },
     "metadata": {},
     "output_type": "display_data"
    },
    {
     "name": "stdout",
     "output_type": "stream",
     "text": [
      "Prediction\n"
     ]
    },
    {
     "data": {
      "text/plain": [
       "0.58444816"
      ]
     },
     "metadata": {},
     "output_type": "display_data"
    },
    {
     "name": "stdout",
     "output_type": "stream",
     "text": [
      "---------------\n",
      "Human Score\n"
     ]
    },
    {
     "data": {
      "text/plain": [
       "0.166667"
      ]
     },
     "metadata": {},
     "output_type": "display_data"
    },
    {
     "name": "stdout",
     "output_type": "stream",
     "text": [
      "Prediction\n"
     ]
    },
    {
     "data": {
      "text/plain": [
       "0.4456018"
      ]
     },
     "metadata": {},
     "output_type": "display_data"
    },
    {
     "name": "stdout",
     "output_type": "stream",
     "text": [
      "---------------\n",
      "Human Score\n"
     ]
    },
    {
     "data": {
      "text/plain": [
       "0.583333"
      ]
     },
     "metadata": {},
     "output_type": "display_data"
    },
    {
     "name": "stdout",
     "output_type": "stream",
     "text": [
      "Prediction\n"
     ]
    },
    {
     "data": {
      "text/plain": [
       "0.21941198"
      ]
     },
     "metadata": {},
     "output_type": "display_data"
    },
    {
     "name": "stdout",
     "output_type": "stream",
     "text": [
      "---------------\n",
      "Human Score\n"
     ]
    },
    {
     "data": {
      "text/plain": [
       "0.2"
      ]
     },
     "metadata": {},
     "output_type": "display_data"
    },
    {
     "name": "stdout",
     "output_type": "stream",
     "text": [
      "Prediction\n"
     ]
    },
    {
     "data": {
      "text/plain": [
       "0.4688892"
      ]
     },
     "metadata": {},
     "output_type": "display_data"
    },
    {
     "name": "stdout",
     "output_type": "stream",
     "text": [
      "---------------\n",
      "Human Score\n"
     ]
    },
    {
     "data": {
      "text/plain": [
       "0.5"
      ]
     },
     "metadata": {},
     "output_type": "display_data"
    },
    {
     "name": "stdout",
     "output_type": "stream",
     "text": [
      "Prediction\n"
     ]
    },
    {
     "data": {
      "text/plain": [
       "0.2307687"
      ]
     },
     "metadata": {},
     "output_type": "display_data"
    },
    {
     "name": "stdout",
     "output_type": "stream",
     "text": [
      "---------------\n",
      "Human Score\n"
     ]
    },
    {
     "data": {
      "text/plain": [
       "0.676471"
      ]
     },
     "metadata": {},
     "output_type": "display_data"
    },
    {
     "name": "stdout",
     "output_type": "stream",
     "text": [
      "Prediction\n"
     ]
    },
    {
     "data": {
      "text/plain": [
       "0.19598126"
      ]
     },
     "metadata": {},
     "output_type": "display_data"
    },
    {
     "name": "stdout",
     "output_type": "stream",
     "text": [
      "---------------\n"
     ]
    }
   ],
   "source": [
    "for i in range (10):\n",
    "    print(\"Human Score\")\n",
    "    display(y_test[top10[i]])\n",
    "    print(\"Prediction\")\n",
    "    display(preds[top10[i]][0])\n",
    "    print(\"---------------\")"
   ]
  },
  {
   "cell_type": "markdown",
   "metadata": {},
   "source": [
    "## Show the 10 models that had the largest difference between predicted and human score"
   ]
  },
  {
   "cell_type": "code",
   "execution_count": 72,
   "metadata": {},
   "outputs": [
    {
     "data": {
      "image/png": "[encoded data removed]",
      "text/plain": [
       "<Figure size 432x288 with 1 Axes>"
      ]
     },
     "metadata": {
      "needs_background": "light"
     },
     "output_type": "display_data"
    },
    {
     "name": "stdout",
     "output_type": "stream",
     "text": [
      "Human Score\n"
     ]
    },
    {
     "data": {
      "text/plain": [
       "0.918919"
      ]
     },
     "metadata": {},
     "output_type": "display_data"
    },
    {
     "name": "stdout",
     "output_type": "stream",
     "text": [
      "Prediction\n"
     ]
    },
    {
     "data": {
      "text/plain": [
       "0.6564193"
      ]
     },
     "metadata": {},
     "output_type": "display_data"
    }
   ],
   "source": [
    "plt.imshow(image.array_to_img(x_test[top10[0],:,:,:]), cmap='Greys_r') \n",
    "plt.show()\n",
    "\n",
    "print(\"Human Score\")\n",
    "display(y_test[top10[0]])\n",
    "print(\"Prediction\")\n",
    "display(preds[top10[0]][0])"
   ]
  },
  {
   "cell_type": "code",
   "execution_count": 73,
   "metadata": {},
   "outputs": [
    {
     "data": {
      "image/png": "[encoded data removed]",
      "text/plain": [
       "<Figure size 432x288 with 1 Axes>"
      ]
     },
     "metadata": {
      "needs_background": "light"
     },
     "output_type": "display_data"
    },
    {
     "name": "stdout",
     "output_type": "stream",
     "text": [
      "Human Score\n"
     ]
    },
    {
     "data": {
      "text/plain": [
       "0.5"
      ]
     },
     "metadata": {},
     "output_type": "display_data"
    },
    {
     "name": "stdout",
     "output_type": "stream",
     "text": [
      "Prediction\n"
     ]
    },
    {
     "data": {
      "text/plain": [
       "0.13430513"
      ]
     },
     "metadata": {},
     "output_type": "display_data"
    }
   ],
   "source": [
    "plt.imshow(image.array_to_img(x_test[top10[1],:,:,:]), cmap='Greys_r') \n",
    "plt.show()\n",
    "\n",
    "print(\"Human Score\")\n",
    "display(y_test[top10[1]])\n",
    "print(\"Prediction\")\n",
    "display(preds[top10[1]][0])"
   ]
  },
  {
   "cell_type": "code",
   "execution_count": 91,
   "metadata": {},
   "outputs": [
    {
     "data": {
      "image/png": "[encoded data removed]",
      "text/plain": [
       "<Figure size 432x288 with 1 Axes>"
      ]
     },
     "metadata": {
      "needs_background": "light"
     },
     "output_type": "display_data"
    },
    {
     "name": "stdout",
     "output_type": "stream",
     "text": [
      "Human Score\n"
     ]
    },
    {
     "data": {
      "text/plain": [
       "0.916667"
      ]
     },
     "metadata": {},
     "output_type": "display_data"
    },
    {
     "name": "stdout",
     "output_type": "stream",
     "text": [
      "Prediction\n"
     ]
    },
    {
     "data": {
      "text/plain": [
       "0.63838536"
      ]
     },
     "metadata": {},
     "output_type": "display_data"
    }
   ],
   "source": [
    "plt.imshow(image.array_to_img(x_test[top10[2],:,:,:]), cmap='Greys_r') \n",
    "plt.savefig(\"ConvHumanNoiseExample2.png\")\n",
    "plt.show()\n",
    "\n",
    "print(\"Human Score\")\n",
    "display(y_test[top10[2]])\n",
    "print(\"Prediction\")\n",
    "display(preds[top10[2]][0])"
   ]
  },
  {
   "cell_type": "code",
   "execution_count": 75,
   "metadata": {},
   "outputs": [
    {
     "data": {
      "image/png": "[encoded data removed]",
      "text/plain": [
       "<Figure size 432x288 with 1 Axes>"
      ]
     },
     "metadata": {
      "needs_background": "light"
     },
     "output_type": "display_data"
    },
    {
     "name": "stdout",
     "output_type": "stream",
     "text": [
      "Human Score\n"
     ]
    },
    {
     "data": {
      "text/plain": [
       "0.205882"
      ]
     },
     "metadata": {},
     "output_type": "display_data"
    },
    {
     "name": "stdout",
     "output_type": "stream",
     "text": [
      "Prediction\n"
     ]
    },
    {
     "data": {
      "text/plain": [
       "0.49685866"
      ]
     },
     "metadata": {},
     "output_type": "display_data"
    }
   ],
   "source": [
    "plt.imshow(image.array_to_img(x_test[top10[3],:,:,:]), cmap='Greys_r') \n",
    "plt.show()\n",
    "\n",
    "print(\"Human Score\")\n",
    "display(y_test[top10[3]])\n",
    "print(\"Prediction\")\n",
    "display(preds[top10[3]][0])"
   ]
  },
  {
   "cell_type": "code",
   "execution_count": 76,
   "metadata": {},
   "outputs": [
    {
     "data": {
      "image/png": "[encoded data removed]",
      "text/plain": [
       "<Figure size 432x288 with 1 Axes>"
      ]
     },
     "metadata": {
      "needs_background": "light"
     },
     "output_type": "display_data"
    },
    {
     "name": "stdout",
     "output_type": "stream",
     "text": [
      "Human Score\n"
     ]
    },
    {
     "data": {
      "text/plain": [
       "0.857143"
      ]
     },
     "metadata": {},
     "output_type": "display_data"
    },
    {
     "name": "stdout",
     "output_type": "stream",
     "text": [
      "Prediction\n"
     ]
    },
    {
     "data": {
      "text/plain": [
       "0.58444816"
      ]
     },
     "metadata": {},
     "output_type": "display_data"
    }
   ],
   "source": [
    "plt.imshow(image.array_to_img(x_test[top10[4],:,:,:]), cmap='Greys_r') \n",
    "plt.show()\n",
    "\n",
    "print(\"Human Score\")\n",
    "display(y_test[top10[4]])\n",
    "print(\"Prediction\")\n",
    "display(preds[top10[4]][0])"
   ]
  },
  {
   "cell_type": "code",
   "execution_count": 77,
   "metadata": {},
   "outputs": [
    {
     "data": {
      "image/png": "[encoded data removed]",
      "text/plain": [
       "<Figure size 432x288 with 1 Axes>"
      ]
     },
     "metadata": {
      "needs_background": "light"
     },
     "output_type": "display_data"
    },
    {
     "name": "stdout",
     "output_type": "stream",
     "text": [
      "Human Score\n"
     ]
    },
    {
     "data": {
      "text/plain": [
       "0.166667"
      ]
     },
     "metadata": {},
     "output_type": "display_data"
    },
    {
     "name": "stdout",
     "output_type": "stream",
     "text": [
      "Prediction\n"
     ]
    },
    {
     "data": {
      "text/plain": [
       "0.4456018"
      ]
     },
     "metadata": {},
     "output_type": "display_data"
    }
   ],
   "source": [
    "plt.imshow(image.array_to_img(x_test[top10[5],:,:,:]), cmap='Greys_r') \n",
    "plt.show()\n",
    "\n",
    "print(\"Human Score\")\n",
    "display(y_test[top10[5]])\n",
    "print(\"Prediction\")\n",
    "display(preds[top10[5]][0])"
   ]
  },
  {
   "cell_type": "code",
   "execution_count": 78,
   "metadata": {},
   "outputs": [
    {
     "data": {
      "image/png": "[encoded data removed]",
      "text/plain": [
       "<Figure size 432x288 with 1 Axes>"
      ]
     },
     "metadata": {
      "needs_background": "light"
     },
     "output_type": "display_data"
    },
    {
     "name": "stdout",
     "output_type": "stream",
     "text": [
      "Human Score\n"
     ]
    },
    {
     "data": {
      "text/plain": [
       "0.583333"
      ]
     },
     "metadata": {},
     "output_type": "display_data"
    },
    {
     "name": "stdout",
     "output_type": "stream",
     "text": [
      "Prediction\n"
     ]
    },
    {
     "data": {
      "text/plain": [
       "0.21941198"
      ]
     },
     "metadata": {},
     "output_type": "display_data"
    }
   ],
   "source": [
    "plt.imshow(image.array_to_img(x_test[top10[6],:,:,:]), cmap='Greys_r') \n",
    "plt.show()\n",
    "\n",
    "print(\"Human Score\")\n",
    "display(y_test[top10[6]])\n",
    "print(\"Prediction\")\n",
    "display(preds[top10[6]][0])"
   ]
  },
  {
   "cell_type": "code",
   "execution_count": 79,
   "metadata": {},
   "outputs": [
    {
     "data": {
      "image/png": "[encoded data removed]",
      "text/plain": [
       "<Figure size 432x288 with 1 Axes>"
      ]
     },
     "metadata": {
      "needs_background": "light"
     },
     "output_type": "display_data"
    },
    {
     "name": "stdout",
     "output_type": "stream",
     "text": [
      "Human Score\n"
     ]
    },
    {
     "data": {
      "text/plain": [
       "0.2"
      ]
     },
     "metadata": {},
     "output_type": "display_data"
    },
    {
     "name": "stdout",
     "output_type": "stream",
     "text": [
      "Prediction\n"
     ]
    },
    {
     "data": {
      "text/plain": [
       "0.4688892"
      ]
     },
     "metadata": {},
     "output_type": "display_data"
    }
   ],
   "source": [
    "plt.imshow(image.array_to_img(x_test[top10[7],:,:,:]), cmap='Greys_r') \n",
    "plt.show()\n",
    "\n",
    "print(\"Human Score\")\n",
    "display(y_test[top10[7]])\n",
    "print(\"Prediction\")\n",
    "display(preds[top10[7]][0])"
   ]
  },
  {
   "cell_type": "code",
   "execution_count": 80,
   "metadata": {},
   "outputs": [
    {
     "data": {
      "image/png": "[encoded data removed]",
      "text/plain": [
       "<Figure size 432x288 with 1 Axes>"
      ]
     },
     "metadata": {
      "needs_background": "light"
     },
     "output_type": "display_data"
    },
    {
     "name": "stdout",
     "output_type": "stream",
     "text": [
      "Human Score\n"
     ]
    },
    {
     "data": {
      "text/plain": [
       "0.5"
      ]
     },
     "metadata": {},
     "output_type": "display_data"
    },
    {
     "name": "stdout",
     "output_type": "stream",
     "text": [
      "Prediction\n"
     ]
    },
    {
     "data": {
      "text/plain": [
       "0.2307687"
      ]
     },
     "metadata": {},
     "output_type": "display_data"
    }
   ],
   "source": [
    "plt.imshow(image.array_to_img(x_test[top10[8],:,:,:]), cmap='Greys_r') \n",
    "plt.show()\n",
    "\n",
    "print(\"Human Score\")\n",
    "display(y_test[top10[8]])\n",
    "print(\"Prediction\")\n",
    "display(preds[top10[8]][0])"
   ]
  },
  {
   "cell_type": "code",
   "execution_count": 90,
   "metadata": {},
   "outputs": [
    {
     "data": {
      "image/png": "[encoded data removed]",
      "text/plain": [
       "<Figure size 432x288 with 1 Axes>"
      ]
     },
     "metadata": {
      "needs_background": "light"
     },
     "output_type": "display_data"
    },
    {
     "name": "stdout",
     "output_type": "stream",
     "text": [
      "Human Score\n"
     ]
    },
    {
     "data": {
      "text/plain": [
       "0.676471"
      ]
     },
     "metadata": {},
     "output_type": "display_data"
    },
    {
     "name": "stdout",
     "output_type": "stream",
     "text": [
      "Prediction\n"
     ]
    },
    {
     "data": {
      "text/plain": [
       "0.19598126"
      ]
     },
     "metadata": {},
     "output_type": "display_data"
    }
   ],
   "source": [
    "plt.imshow(image.array_to_img(x_test[top10[9],:,:,:]), cmap='Greys_r') \n",
    "plt.savefig(\"ConvHumanNoiseExample.png\")\n",
    "plt.show()\n",
    "\n",
    "print(\"Human Score\")\n",
    "display(y_test[top10[9]])\n",
    "print(\"Prediction\")\n",
    "display(preds[top10[9]][0])"
   ]
  },
  {
   "cell_type": "markdown",
   "metadata": {},
   "source": [
    "## Show the 5 models that the net had the closest prediction on"
   ]
  },
  {
   "cell_type": "code",
   "execution_count": 82,
   "metadata": {},
   "outputs": [
    {
     "data": {
      "image/png": "[encoded data removed]",
      "text/plain": [
       "<Figure size 432x288 with 1 Axes>"
      ]
     },
     "metadata": {
      "needs_background": "light"
     },
     "output_type": "display_data"
    },
    {
     "name": "stdout",
     "output_type": "stream",
     "text": [
      "Human Score\n"
     ]
    },
    {
     "data": {
      "text/plain": [
       "0.117647"
      ]
     },
     "metadata": {},
     "output_type": "display_data"
    },
    {
     "name": "stdout",
     "output_type": "stream",
     "text": [
      "Prediction\n"
     ]
    },
    {
     "data": {
      "text/plain": [
       "0.11905779"
      ]
     },
     "metadata": {},
     "output_type": "display_data"
    }
   ],
   "source": [
    "plt.imshow(image.array_to_img(x_test[bottom5[0],:,:,:]), cmap='Greys_r') \n",
    "plt.show()\n",
    "\n",
    "print(\"Human Score\")\n",
    "display(y_test[bottom5[0]])\n",
    "print(\"Prediction\")\n",
    "display(preds[bottom5[0]][0])"
   ]
  },
  {
   "cell_type": "code",
   "execution_count": 83,
   "metadata": {},
   "outputs": [
    {
     "data": {
      "image/png": "[encoded data removed]",
      "text/plain": [
       "<Figure size 432x288 with 1 Axes>"
      ]
     },
     "metadata": {
      "needs_background": "light"
     },
     "output_type": "display_data"
    },
    {
     "name": "stdout",
     "output_type": "stream",
     "text": [
      "Human Score\n"
     ]
    },
    {
     "data": {
      "text/plain": [
       "0.111111"
      ]
     },
     "metadata": {},
     "output_type": "display_data"
    },
    {
     "name": "stdout",
     "output_type": "stream",
     "text": [
      "Prediction\n"
     ]
    },
    {
     "data": {
      "text/plain": [
       "0.113982975"
      ]
     },
     "metadata": {},
     "output_type": "display_data"
    }
   ],
   "source": [
    "plt.imshow(image.array_to_img(x_test[bottom5[1],:,:,:]), cmap='Greys_r') \n",
    "plt.show()\n",
    "\n",
    "print(\"Human Score\")\n",
    "display(y_test[bottom5[1]])\n",
    "print(\"Prediction\")\n",
    "display(preds[bottom5[1]][0])"
   ]
  },
  {
   "cell_type": "code",
   "execution_count": 84,
   "metadata": {},
   "outputs": [
    {
     "data": {
      "image/png": "[encoded data removed]",
      "text/plain": [
       "<Figure size 432x288 with 1 Axes>"
      ]
     },
     "metadata": {
      "needs_background": "light"
     },
     "output_type": "display_data"
    },
    {
     "name": "stdout",
     "output_type": "stream",
     "text": [
      "Human Score\n"
     ]
    },
    {
     "data": {
      "text/plain": [
       "0.114286"
      ]
     },
     "metadata": {},
     "output_type": "display_data"
    },
    {
     "name": "stdout",
     "output_type": "stream",
     "text": [
      "Prediction\n"
     ]
    },
    {
     "data": {
      "text/plain": [
       "0.111330904"
      ]
     },
     "metadata": {},
     "output_type": "display_data"
    }
   ],
   "source": [
    "plt.imshow(image.array_to_img(x_test[bottom5[2],:,:,:]), cmap='Greys_r') \n",
    "plt.show()\n",
    "\n",
    "print(\"Human Score\")\n",
    "display(y_test[bottom5[2]])\n",
    "print(\"Prediction\")\n",
    "display(preds[bottom5[2]][0])"
   ]
  },
  {
   "cell_type": "code",
   "execution_count": 85,
   "metadata": {},
   "outputs": [
    {
     "data": {
      "image/png": "[encoded data removed]",
      "text/plain": [
       "<Figure size 432x288 with 1 Axes>"
      ]
     },
     "metadata": {
      "needs_background": "light"
     },
     "output_type": "display_data"
    },
    {
     "name": "stdout",
     "output_type": "stream",
     "text": [
      "Human Score\n"
     ]
    },
    {
     "data": {
      "text/plain": [
       "0.147059"
      ]
     },
     "metadata": {},
     "output_type": "display_data"
    },
    {
     "name": "stdout",
     "output_type": "stream",
     "text": [
      "Prediction\n"
     ]
    },
    {
     "data": {
      "text/plain": [
       "0.14300595"
      ]
     },
     "metadata": {},
     "output_type": "display_data"
    }
   ],
   "source": [
    "plt.imshow(image.array_to_img(x_test[bottom5[3],:,:,:]), cmap='Greys_r') \n",
    "plt.show()\n",
    "\n",
    "print(\"Human Score\")\n",
    "display(y_test[bottom5[3]])\n",
    "print(\"Prediction\")\n",
    "display(preds[bottom5[3]][0])"
   ]
  },
  {
   "cell_type": "code",
   "execution_count": 86,
   "metadata": {},
   "outputs": [
    {
     "data": {
      "image/png": "[encoded data removed]",
      "text/plain": [
       "<Figure size 432x288 with 1 Axes>"
      ]
     },
     "metadata": {
      "needs_background": "light"
     },
     "output_type": "display_data"
    },
    {
     "name": "stdout",
     "output_type": "stream",
     "text": [
      "Human Score\n"
     ]
    },
    {
     "data": {
      "text/plain": [
       "0.142857"
      ]
     },
     "metadata": {},
     "output_type": "display_data"
    },
    {
     "name": "stdout",
     "output_type": "stream",
     "text": [
      "Prediction\n"
     ]
    },
    {
     "data": {
      "text/plain": [
       "0.14036493"
      ]
     },
     "metadata": {},
     "output_type": "display_data"
    }
   ],
   "source": [
    "plt.imshow(image.array_to_img(x_test[bottom5[4],:,:,:]), cmap='Greys_r') \n",
    "plt.show()\n",
    "\n",
    "print(\"Human Score\")\n",
    "display(y_test[bottom5[4]])\n",
    "print(\"Prediction\")\n",
    "display(preds[bottom5[4]][0])"
   ]
  },
  {
   "cell_type": "code",
   "execution_count": 87,
   "metadata": {},
   "outputs": [
    {
     "data": {
      "text/plain": [
       "0.6952314"
      ]
     },
     "metadata": {},
     "output_type": "display_data"
    },
    {
     "data": {
      "text/plain": [
       "45"
      ]
     },
     "metadata": {},
     "output_type": "display_data"
    }
   ],
   "source": [
    "maxPred = np.amax(preds, axis=0)\n",
    "maxPredIndex = np.where(preds == maxPred)\n",
    "display(maxPred[0])\n",
    "display(maxPredIndex[0][0])"
   ]
  },
  {
   "cell_type": "markdown",
   "metadata": {},
   "source": [
    "## Show the model that the net gave the highest score"
   ]
  },
  {
   "cell_type": "code",
   "execution_count": 89,
   "metadata": {},
   "outputs": [
    {
     "data": {
      "image/png": "[encoded data removed]",
      "text/plain": [
       "<Figure size 432x288 with 1 Axes>"
      ]
     },
     "metadata": {
      "needs_background": "light"
     },
     "output_type": "display_data"
    },
    {
     "name": "stdout",
     "output_type": "stream",
     "text": [
      "Human Score\n"
     ]
    },
    {
     "data": {
      "text/plain": [
       "0.852941"
      ]
     },
     "metadata": {},
     "output_type": "display_data"
    },
    {
     "name": "stdout",
     "output_type": "stream",
     "text": [
      "Prediction\n"
     ]
    },
    {
     "data": {
      "text/plain": [
       "0.6952314"
      ]
     },
     "metadata": {},
     "output_type": "display_data"
    }
   ],
   "source": [
    "plt.imshow(image.array_to_img(x_test[maxPredIndex[0][0],:,:,:]), cmap='Greys_r') \n",
    "plt.savefig(\"ConvPredictedBest.png\")\n",
    "plt.show()\n",
    "\n",
    "print(\"Human Score\")\n",
    "display(y_test[maxPredIndex[0][0]])\n",
    "print(\"Prediction\")\n",
    "display(preds[maxPredIndex[0][0]][0])"
   ]
  },
  {
   "cell_type": "code",
   "execution_count": 114,
   "metadata": {},
   "outputs": [
    {
     "data": {
      "text/plain": [
       "<matplotlib.image.AxesImage at 0x7f8df43dc3d0>"
      ]
     },
     "execution_count": 114,
     "metadata": {},
     "output_type": "execute_result"
    },
    {
     "data": {
      "image/png": "[encoded data removed]",
      "text/plain": [
       "<Figure size 432x288 with 1 Axes>"
      ]
     },
     "metadata": {
      "needs_background": "light"
     },
     "output_type": "display_data"
    }
   ],
   "source": [
    "plt.imshow(image.array_to_img(x_test[0,:,:,:]), cmap='Greys_r') "
   ]
  },
  {
   "cell_type": "code",
   "execution_count": 116,
   "metadata": {},
   "outputs": [
    {
     "data": {
      "text/plain": [
       "<matplotlib.image.AxesImage at 0x7f8df4513d50>"
      ]
     },
     "execution_count": 116,
     "metadata": {},
     "output_type": "execute_result"
    },
    {
     "data": {
      "image/png": "[encoded data removed]",
      "text/plain": [
       "<Figure size 432x288 with 1 Axes>"
      ]
     },
     "metadata": {
      "needs_background": "light"
     },
     "output_type": "display_data"
    }
   ],
   "source": [
    "plt.imshow(image.array_to_img(x_test[1,:,:,:]), cmap='Greys_r')"
   ]
  },
  {
   "cell_type": "code",
   "execution_count": 117,
   "metadata": {},
   "outputs": [
    {
     "ename": "NameError",
     "evalue": "name 'functor' is not defined",
     "output_type": "error",
     "traceback": [
      "\u001b[0;31m---------------------------------------------------------------------------\u001b[0m",
      "\u001b[0;31mNameError\u001b[0m                                 Traceback (most recent call last)",
      "\u001b[0;32m<ipython-input-117-f85b0f6718ef>\u001b[0m in \u001b[0;36m<module>\u001b[0;34m\u001b[0m\n\u001b[1;32m      1\u001b[0m \u001b[0;31m# Get the layer outputs for the -first- image...\u001b[0m\u001b[0;34m\u001b[0m\u001b[0;34m\u001b[0m\u001b[0;34m\u001b[0m\u001b[0m\n\u001b[0;32m----> 2\u001b[0;31m \u001b[0mlayer_outputs\u001b[0m \u001b[0;34m=\u001b[0m \u001b[0mfunctor\u001b[0m\u001b[0;34m(\u001b[0m\u001b[0;34m[\u001b[0m\u001b[0mx_train\u001b[0m\u001b[0;34m[\u001b[0m\u001b[0;36m0\u001b[0m\u001b[0;34m:\u001b[0m\u001b[0;36m1\u001b[0m\u001b[0;34m,\u001b[0m\u001b[0;34m:\u001b[0m\u001b[0;34m,\u001b[0m\u001b[0;34m:\u001b[0m\u001b[0;34m,\u001b[0m\u001b[0;34m:\u001b[0m\u001b[0;34m]\u001b[0m\u001b[0;34m,\u001b[0m\u001b[0;36m1\u001b[0m\u001b[0;34m]\u001b[0m\u001b[0;34m)\u001b[0m\u001b[0;34m\u001b[0m\u001b[0;34m\u001b[0m\u001b[0m\n\u001b[0m\u001b[1;32m      3\u001b[0m \u001b[0mlen\u001b[0m\u001b[0;34m(\u001b[0m\u001b[0mlayer_outputs\u001b[0m\u001b[0;34m)\u001b[0m\u001b[0;34m\u001b[0m\u001b[0;34m\u001b[0m\u001b[0m\n",
      "\u001b[0;31mNameError\u001b[0m: name 'functor' is not defined"
     ]
    }
   ],
   "source": [
    "# Get the layer outputs for the -first- image...\n",
    "layer_outputs = functor([x_train[0:1,:,:,:],1])\n",
    "len(layer_outputs)"
   ]
  },
  {
   "cell_type": "code",
   "execution_count": null,
   "metadata": {},
   "outputs": [],
   "source": []
  }
 ],
 "metadata": {
  "kernelspec": {
   "display_name": "Python 3",
   "language": "python",
   "name": "python3"
  },
  "language_info": {
   "codemirror_mode": {
    "name": "ipython",
    "version": 3
   },
   "file_extension": ".py",
   "mimetype": "text/x-python",
   "name": "python",
   "nbconvert_exporter": "python",
   "pygments_lexer": "ipython3",
   "version": "3.7.6"
  }
 },
 "nbformat": 4,
 "nbformat_minor": 4
}
