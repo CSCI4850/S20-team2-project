{
 "cells": [
  {
   "cell_type": "markdown",
   "metadata": {},
   "source": [
    "# **Pandemonium Project Proposal**\n",
    "## **Feb 27, 2020**\n",
    "---\n",
    "### Background \n",
    "\n",
    "This project builds upon on-going research to model and simulate galaxy collisions within the Computational Science Ph.D. Program and Physics and Astronomy Departments at Middle Tennessee State University. The data being used for our project will come from this reserach and Galaxy Zoo: Mergers.  Mergers is a citizen scientist effort to find models for ***sixty-two target galaxy collisions*** with the use of SPAM, a simulation that recreates the tidal distortions or shape that galaxies undergo during collision.  Citizen scientists were presented with target images of two colliding galaxies and several simulations that attempt to model the target collision.  Using the innate human ability to visually recognize patterns, citizen scientists identified ***sixty-six thousand galactic models*** that have resemblance to the ***target image***.  Once selected, these galactic models also underwent a tournament-like scoring system to identify the best models for a particular target system, and give them corresponding ***human fitness scores*** for how well each individual model matched the target image. \n",
    "\n",
    "The human ability to process visual patterns and identify similarities is incredibly complex.  Trying to identify and measure the “similarity” between two images is often arbitrary and could depend on hundreds of different factors depending on the objects or images being compared.  Even with the increase of computer image processing and computational power, previous efforts to manually program and predict the similarity has had poor results this research.  We hope to utilize neural networks to capture the human ability to analyze patterns and predict similarities, at least in the narrowed application of galaxies. \n",
    "\n",
    "### Project\n",
    "\n",
    "The focus of our project is to create a variety of ***neural network regression models*** for predicting how well a model image “fits” a target image.  Our regression models will be trained on pre-existing ***model images*** and associated ***human fitness scores*** from Galaxy Zoo: Mergers.  The regression model will take galaxy images and produce a ***machine fitness score*** that attempts to predict human machine scores.  To evaluate the performance of our regression models, our primary metric will be the ***statistical correlation*** between machine fitness score and human fitness scores.  In addition to the correlation, graphs will be constructed to identify outliers and potential overfitting.  Once the regression models are built and operational, researchers could use new model images to create new machine scores, allowing a human user to agree or disagree with whether the machine score is appropriate for the image.  \n",
    "\n",
    "The primary goal is to develop a neural network regression model for each individual target system with sixty two total systems.  Each target system can be trained on hundreds to thousands of model images and human scores.  In addition, a variety of neural network architectures will be implemented and analyzed, such as ***single-layer***, ***multi-layer***, and ***convolutional*** neural networks.  The goal is to analyze the different performances of the architectures and identify if a particular architecture performs the best across the majority of target systems.  It's very possible some target systems won't be able to develop an accurate regression model if there's too little data and/or it's poor quality data.\n",
    "\n",
    "A secondary goal is to build a general-purpose neural network model from a sampling of all sixty-two galaxies.   The intention being to build a regression model that can predict the similarity between any two images of colliding galaxies.  This may be difficult to build, as each system undoubtedly has variance in how their similarity scores scale.  For example, a 0.75 similarity for one system may resemble a much higher “similarity” between images than a 0.75 for another system containing poorer quality models and data.  However, the flexibility of a general-purpose regression model may be well worth the effort.  A general-purpose comparison could be applied to future galaxy collision systems and allow for direct comparisons between target systems.\n",
    "\n",
    "Another supplemental application could be to create single-layer networks for all of the target systems.  With these single-layer networks, the weights could be visualized and scientists could possibly identify what sections of the image are most crucial for predicting a similarity score.  For example, do all the systems have a greater importance along tidal features or the edges of the galaxy shape?  Can the important sections be predicted based on axis orientation and radial distance?  Which sections of the images can be ignored?\n",
    "\n",
    "One ambitious idea is to incorporate existing open-source image classification models.  WNDCHRM is open-source image classification software that goes beyond analyzing raw pixel intensities.  Instead WNDCHRM extracts hundreds of image features, identifies which image features best predict an image's classification, and uses those metrics to train a classification model.  Perhaps WNDCHRM could be incorporated and utilized for its automated feature extraction and identification, then use those image feature metrics to build an even more accurate and robust neural network regression model.  If this could be implemented, scientists can analyze which extracted features have the greatest impact on predicting galactic patterns and similarity, allowing for further understanding beyond the \"black box\" making predictions. "
   ]
  },
  {
   "cell_type": "code",
   "execution_count": null,
   "metadata": {},
   "outputs": [],
   "source": []
  }
 ],
 "metadata": {
  "kernelspec": {
   "display_name": "Python 3",
   "language": "python",
   "name": "python3"
  },
  "language_info": {
   "codemirror_mode": {
    "name": "ipython",
    "version": 3
   },
   "file_extension": ".py",
   "mimetype": "text/x-python",
   "name": "python",
   "nbconvert_exporter": "python",
   "pygments_lexer": "ipython3",
   "version": "3.7.3"
  }
 },
 "nbformat": 4,
 "nbformat_minor": 4
}
